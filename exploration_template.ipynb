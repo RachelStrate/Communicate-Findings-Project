{
 "cells": [
  {
   "cell_type": "markdown",
   "metadata": {},
   "source": [
    "# FordGoBike System Data\n",
    "## by Rachel Strate\n",
    "\n",
    "## Preliminary Wrangling\n",
    "\n",
    "This notebook explores the August 2019 FordGoBike System data.  "
   ]
  },
  {
   "cell_type": "code",
   "execution_count": 1,
   "metadata": {},
   "outputs": [],
   "source": [
    "#Importing all packages and set plots to be embedded inline\n",
    "import numpy as np\n",
    "import pandas as pd\n",
    "import matplotlib.pyplot as plt\n",
    "import seaborn as sb\n",
    "\n",
    "%matplotlib inline"
   ]
  },
  {
   "cell_type": "code",
   "execution_count": 2,
   "metadata": {},
   "outputs": [
    {
     "data": {
      "text/html": [
       "<div>\n",
       "<style scoped>\n",
       "    .dataframe tbody tr th:only-of-type {\n",
       "        vertical-align: middle;\n",
       "    }\n",
       "\n",
       "    .dataframe tbody tr th {\n",
       "        vertical-align: top;\n",
       "    }\n",
       "\n",
       "    .dataframe thead th {\n",
       "        text-align: right;\n",
       "    }\n",
       "</style>\n",
       "<table border=\"1\" class=\"dataframe\">\n",
       "  <thead>\n",
       "    <tr style=\"text-align: right;\">\n",
       "      <th></th>\n",
       "      <th>duration_sec</th>\n",
       "      <th>start_time</th>\n",
       "      <th>end_time</th>\n",
       "      <th>start_station_id</th>\n",
       "      <th>start_station_name</th>\n",
       "      <th>start_station_latitude</th>\n",
       "      <th>start_station_longitude</th>\n",
       "      <th>end_station_id</th>\n",
       "      <th>end_station_name</th>\n",
       "      <th>end_station_latitude</th>\n",
       "      <th>end_station_longitude</th>\n",
       "      <th>bike_id</th>\n",
       "      <th>user_type</th>\n",
       "      <th>bike_share_for_all_trip</th>\n",
       "    </tr>\n",
       "  </thead>\n",
       "  <tbody>\n",
       "    <tr>\n",
       "      <td>0</td>\n",
       "      <td>68145</td>\n",
       "      <td>2019-08-31 21:27:42.2530</td>\n",
       "      <td>2019-09-01 16:23:27.4920</td>\n",
       "      <td>249</td>\n",
       "      <td>Russell St at College Ave</td>\n",
       "      <td>37.858473</td>\n",
       "      <td>-122.253253</td>\n",
       "      <td>247</td>\n",
       "      <td>Fulton St at Bancroft Way</td>\n",
       "      <td>37.867789</td>\n",
       "      <td>-122.265896</td>\n",
       "      <td>3112</td>\n",
       "      <td>Customer</td>\n",
       "      <td>No</td>\n",
       "    </tr>\n",
       "    <tr>\n",
       "      <td>1</td>\n",
       "      <td>53216</td>\n",
       "      <td>2019-08-31 22:34:17.5120</td>\n",
       "      <td>2019-09-01 13:21:13.9310</td>\n",
       "      <td>368</td>\n",
       "      <td>Myrtle St at Polk St</td>\n",
       "      <td>37.785434</td>\n",
       "      <td>-122.419622</td>\n",
       "      <td>78</td>\n",
       "      <td>Folsom St at 9th St</td>\n",
       "      <td>37.773717</td>\n",
       "      <td>-122.411647</td>\n",
       "      <td>2440</td>\n",
       "      <td>Customer</td>\n",
       "      <td>No</td>\n",
       "    </tr>\n",
       "    <tr>\n",
       "      <td>2</td>\n",
       "      <td>53182</td>\n",
       "      <td>2019-08-31 22:34:49.9420</td>\n",
       "      <td>2019-09-01 13:21:12.4570</td>\n",
       "      <td>368</td>\n",
       "      <td>Myrtle St at Polk St</td>\n",
       "      <td>37.785434</td>\n",
       "      <td>-122.419622</td>\n",
       "      <td>78</td>\n",
       "      <td>Folsom St at 9th St</td>\n",
       "      <td>37.773717</td>\n",
       "      <td>-122.411647</td>\n",
       "      <td>9743</td>\n",
       "      <td>Customer</td>\n",
       "      <td>No</td>\n",
       "    </tr>\n",
       "  </tbody>\n",
       "</table>\n",
       "</div>"
      ],
      "text/plain": [
       "   duration_sec                start_time                  end_time  \\\n",
       "0         68145  2019-08-31 21:27:42.2530  2019-09-01 16:23:27.4920   \n",
       "1         53216  2019-08-31 22:34:17.5120  2019-09-01 13:21:13.9310   \n",
       "2         53182  2019-08-31 22:34:49.9420  2019-09-01 13:21:12.4570   \n",
       "\n",
       "   start_station_id         start_station_name  start_station_latitude  \\\n",
       "0               249  Russell St at College Ave               37.858473   \n",
       "1               368       Myrtle St at Polk St               37.785434   \n",
       "2               368       Myrtle St at Polk St               37.785434   \n",
       "\n",
       "   start_station_longitude  end_station_id           end_station_name  \\\n",
       "0              -122.253253             247  Fulton St at Bancroft Way   \n",
       "1              -122.419622              78        Folsom St at 9th St   \n",
       "2              -122.419622              78        Folsom St at 9th St   \n",
       "\n",
       "   end_station_latitude  end_station_longitude  bike_id user_type  \\\n",
       "0             37.867789            -122.265896     3112  Customer   \n",
       "1             37.773717            -122.411647     2440  Customer   \n",
       "2             37.773717            -122.411647     9743  Customer   \n",
       "\n",
       "  bike_share_for_all_trip  \n",
       "0                      No  \n",
       "1                      No  \n",
       "2                      No  "
      ]
     },
     "execution_count": 2,
     "metadata": {},
     "output_type": "execute_result"
    }
   ],
   "source": [
    "#Reading in the dataset.\n",
    "df = pd.read_csv('201908-baywheels-tripdata.csv')\n",
    "df.head(3)"
   ]
  },
  {
   "cell_type": "code",
   "execution_count": 3,
   "metadata": {},
   "outputs": [
    {
     "data": {
      "text/plain": [
       "(210563, 14)"
      ]
     },
     "execution_count": 3,
     "metadata": {},
     "output_type": "execute_result"
    }
   ],
   "source": [
    "df.shape"
   ]
  },
  {
   "cell_type": "code",
   "execution_count": 4,
   "metadata": {},
   "outputs": [
    {
     "name": "stdout",
     "output_type": "stream",
     "text": [
      "<class 'pandas.core.frame.DataFrame'>\n",
      "RangeIndex: 210563 entries, 0 to 210562\n",
      "Data columns (total 14 columns):\n",
      "duration_sec               210563 non-null int64\n",
      "start_time                 210563 non-null object\n",
      "end_time                   210563 non-null object\n",
      "start_station_id           210563 non-null int64\n",
      "start_station_name         210563 non-null object\n",
      "start_station_latitude     210563 non-null float64\n",
      "start_station_longitude    210563 non-null float64\n",
      "end_station_id             210563 non-null int64\n",
      "end_station_name           210563 non-null object\n",
      "end_station_latitude       210563 non-null float64\n",
      "end_station_longitude      210563 non-null float64\n",
      "bike_id                    210563 non-null int64\n",
      "user_type                  210563 non-null object\n",
      "bike_share_for_all_trip    210563 non-null object\n",
      "dtypes: float64(4), int64(4), object(6)\n",
      "memory usage: 22.5+ MB\n"
     ]
    }
   ],
   "source": [
    "df.info()"
   ]
  },
  {
   "cell_type": "markdown",
   "metadata": {},
   "source": [
    "### What is the structure of your dataset?\n",
    "\n",
    "The dataset has 210,563 entries and 14 features \n",
    "- duration in seconds\n",
    "- start time\n",
    "- end time\n",
    "- start station id\n",
    "- start station name\n",
    "- start station latitude\n",
    "- start station longitude\n",
    "- end station id\n",
    "- end station name\n",
    "- end station latitude\n",
    "- end station longitude\n",
    "- bike id\n",
    "- user type\n",
    "- bike share\n",
    "\n",
    "The datatypes include ints, strings and floats.\n",
    "\n",
    "### What is/are the main feature(s) of interest in your dataset?\n",
    "\n",
    "I'm interested in exploring the following 3 questions:\n",
    "1. When are most trips taken in terms of day of the week?\n",
    "2. How long does the average trip take?\n",
    "3. Do either of the above depend on if the user is a subscriber or customer?\n",
    "\n",
    "### What features in the dataset do you think will help support your investigation into your feature(s) of interest?\n",
    "\n",
    "The most useful features will be duration_sec, start_time, end_time, and user_type."
   ]
  },
  {
   "cell_type": "markdown",
   "metadata": {},
   "source": [
    "## Assessing\n",
    "\n",
    "Some cleaning needs to occur in order to do the desired exploration.  The following quality issues are addressed in the code below. \n",
    "- The start time and end time are not in timedate format.\n",
    "- A column for day of the week needs to be added.\n",
    "- A column for minutes to be added in order for a duration unit that is more common.\n",
    "- A column with the distance calculated from the latitude and longitude coordinates to be added.\n",
    "- A column for time category to be added."
   ]
  },
  {
   "cell_type": "markdown",
   "metadata": {},
   "source": [
    "## Cleaning"
   ]
  },
  {
   "cell_type": "markdown",
   "metadata": {},
   "source": [
    "#### Define\n",
    "Change the data type of the start and end time to a timedate format.\n",
    "\n",
    "#### Code"
   ]
  },
  {
   "cell_type": "code",
   "execution_count": 5,
   "metadata": {},
   "outputs": [],
   "source": [
    "#Writing a function to change data types.\n",
    "def dt_type (column):\n",
    "    df[column] = pd.to_datetime(df[column])\n",
    "    return "
   ]
  },
  {
   "cell_type": "code",
   "execution_count": 6,
   "metadata": {},
   "outputs": [],
   "source": [
    "dt_type('start_time')\n",
    "dt_type('end_time')"
   ]
  },
  {
   "cell_type": "markdown",
   "metadata": {},
   "source": [
    "#### Test"
   ]
  },
  {
   "cell_type": "code",
   "execution_count": 7,
   "metadata": {},
   "outputs": [
    {
     "name": "stdout",
     "output_type": "stream",
     "text": [
      "<class 'pandas.core.frame.DataFrame'>\n",
      "RangeIndex: 210563 entries, 0 to 210562\n",
      "Data columns (total 14 columns):\n",
      "duration_sec               210563 non-null int64\n",
      "start_time                 210563 non-null datetime64[ns]\n",
      "end_time                   210563 non-null datetime64[ns]\n",
      "start_station_id           210563 non-null int64\n",
      "start_station_name         210563 non-null object\n",
      "start_station_latitude     210563 non-null float64\n",
      "start_station_longitude    210563 non-null float64\n",
      "end_station_id             210563 non-null int64\n",
      "end_station_name           210563 non-null object\n",
      "end_station_latitude       210563 non-null float64\n",
      "end_station_longitude      210563 non-null float64\n",
      "bike_id                    210563 non-null int64\n",
      "user_type                  210563 non-null object\n",
      "bike_share_for_all_trip    210563 non-null object\n",
      "dtypes: datetime64[ns](2), float64(4), int64(4), object(4)\n",
      "memory usage: 22.5+ MB\n"
     ]
    }
   ],
   "source": [
    "df.info()"
   ]
  },
  {
   "cell_type": "markdown",
   "metadata": {},
   "source": [
    "#### Define\n",
    "Insert a new column for the day of the week. Using the timedate column start_date fill in the column with the correlating day of the week.\n",
    "\n",
    "#### Code"
   ]
  },
  {
   "cell_type": "code",
   "execution_count": 8,
   "metadata": {},
   "outputs": [
    {
     "data": {
      "text/html": [
       "<div>\n",
       "<style scoped>\n",
       "    .dataframe tbody tr th:only-of-type {\n",
       "        vertical-align: middle;\n",
       "    }\n",
       "\n",
       "    .dataframe tbody tr th {\n",
       "        vertical-align: top;\n",
       "    }\n",
       "\n",
       "    .dataframe thead th {\n",
       "        text-align: right;\n",
       "    }\n",
       "</style>\n",
       "<table border=\"1\" class=\"dataframe\">\n",
       "  <thead>\n",
       "    <tr style=\"text-align: right;\">\n",
       "      <th></th>\n",
       "      <th>duration_sec</th>\n",
       "      <th>start_time</th>\n",
       "      <th>end_time</th>\n",
       "      <th>day_of_week</th>\n",
       "      <th>start_station_id</th>\n",
       "      <th>start_station_name</th>\n",
       "      <th>start_station_latitude</th>\n",
       "      <th>start_station_longitude</th>\n",
       "      <th>end_station_id</th>\n",
       "      <th>end_station_name</th>\n",
       "      <th>end_station_latitude</th>\n",
       "      <th>end_station_longitude</th>\n",
       "      <th>bike_id</th>\n",
       "      <th>user_type</th>\n",
       "      <th>bike_share_for_all_trip</th>\n",
       "    </tr>\n",
       "  </thead>\n",
       "  <tbody>\n",
       "    <tr>\n",
       "      <td>0</td>\n",
       "      <td>68145</td>\n",
       "      <td>2019-08-31 21:27:42.253</td>\n",
       "      <td>2019-09-01 16:23:27.492</td>\n",
       "      <td>5</td>\n",
       "      <td>249</td>\n",
       "      <td>Russell St at College Ave</td>\n",
       "      <td>37.858473</td>\n",
       "      <td>-122.253253</td>\n",
       "      <td>247</td>\n",
       "      <td>Fulton St at Bancroft Way</td>\n",
       "      <td>37.867789</td>\n",
       "      <td>-122.265896</td>\n",
       "      <td>3112</td>\n",
       "      <td>Customer</td>\n",
       "      <td>No</td>\n",
       "    </tr>\n",
       "    <tr>\n",
       "      <td>1</td>\n",
       "      <td>53216</td>\n",
       "      <td>2019-08-31 22:34:17.512</td>\n",
       "      <td>2019-09-01 13:21:13.931</td>\n",
       "      <td>5</td>\n",
       "      <td>368</td>\n",
       "      <td>Myrtle St at Polk St</td>\n",
       "      <td>37.785434</td>\n",
       "      <td>-122.419622</td>\n",
       "      <td>78</td>\n",
       "      <td>Folsom St at 9th St</td>\n",
       "      <td>37.773717</td>\n",
       "      <td>-122.411647</td>\n",
       "      <td>2440</td>\n",
       "      <td>Customer</td>\n",
       "      <td>No</td>\n",
       "    </tr>\n",
       "    <tr>\n",
       "      <td>2</td>\n",
       "      <td>53182</td>\n",
       "      <td>2019-08-31 22:34:49.942</td>\n",
       "      <td>2019-09-01 13:21:12.457</td>\n",
       "      <td>5</td>\n",
       "      <td>368</td>\n",
       "      <td>Myrtle St at Polk St</td>\n",
       "      <td>37.785434</td>\n",
       "      <td>-122.419622</td>\n",
       "      <td>78</td>\n",
       "      <td>Folsom St at 9th St</td>\n",
       "      <td>37.773717</td>\n",
       "      <td>-122.411647</td>\n",
       "      <td>9743</td>\n",
       "      <td>Customer</td>\n",
       "      <td>No</td>\n",
       "    </tr>\n",
       "  </tbody>\n",
       "</table>\n",
       "</div>"
      ],
      "text/plain": [
       "   duration_sec              start_time                end_time  day_of_week  \\\n",
       "0         68145 2019-08-31 21:27:42.253 2019-09-01 16:23:27.492            5   \n",
       "1         53216 2019-08-31 22:34:17.512 2019-09-01 13:21:13.931            5   \n",
       "2         53182 2019-08-31 22:34:49.942 2019-09-01 13:21:12.457            5   \n",
       "\n",
       "   start_station_id         start_station_name  start_station_latitude  \\\n",
       "0               249  Russell St at College Ave               37.858473   \n",
       "1               368       Myrtle St at Polk St               37.785434   \n",
       "2               368       Myrtle St at Polk St               37.785434   \n",
       "\n",
       "   start_station_longitude  end_station_id           end_station_name  \\\n",
       "0              -122.253253             247  Fulton St at Bancroft Way   \n",
       "1              -122.419622              78        Folsom St at 9th St   \n",
       "2              -122.419622              78        Folsom St at 9th St   \n",
       "\n",
       "   end_station_latitude  end_station_longitude  bike_id user_type  \\\n",
       "0             37.867789            -122.265896     3112  Customer   \n",
       "1             37.773717            -122.411647     2440  Customer   \n",
       "2             37.773717            -122.411647     9743  Customer   \n",
       "\n",
       "  bike_share_for_all_trip  \n",
       "0                      No  \n",
       "1                      No  \n",
       "2                      No  "
      ]
     },
     "execution_count": 8,
     "metadata": {},
     "output_type": "execute_result"
    }
   ],
   "source": [
    "#Inserting a column and setting the content to the day of the week. Remember 0 is Monday.\n",
    "df.insert(3, 'day_of_week', df.start_time.dt.dayofweek)\n",
    "df.head(3)"
   ]
  },
  {
   "cell_type": "markdown",
   "metadata": {},
   "source": [
    "#### Test"
   ]
  },
  {
   "cell_type": "code",
   "execution_count": 9,
   "metadata": {},
   "outputs": [
    {
     "data": {
      "text/html": [
       "<div>\n",
       "<style scoped>\n",
       "    .dataframe tbody tr th:only-of-type {\n",
       "        vertical-align: middle;\n",
       "    }\n",
       "\n",
       "    .dataframe tbody tr th {\n",
       "        vertical-align: top;\n",
       "    }\n",
       "\n",
       "    .dataframe thead th {\n",
       "        text-align: right;\n",
       "    }\n",
       "</style>\n",
       "<table border=\"1\" class=\"dataframe\">\n",
       "  <thead>\n",
       "    <tr style=\"text-align: right;\">\n",
       "      <th></th>\n",
       "      <th>duration_sec</th>\n",
       "      <th>start_time</th>\n",
       "      <th>end_time</th>\n",
       "      <th>day_of_week</th>\n",
       "      <th>start_station_id</th>\n",
       "      <th>start_station_name</th>\n",
       "      <th>start_station_latitude</th>\n",
       "      <th>start_station_longitude</th>\n",
       "      <th>end_station_id</th>\n",
       "      <th>end_station_name</th>\n",
       "      <th>end_station_latitude</th>\n",
       "      <th>end_station_longitude</th>\n",
       "      <th>bike_id</th>\n",
       "      <th>user_type</th>\n",
       "      <th>bike_share_for_all_trip</th>\n",
       "    </tr>\n",
       "  </thead>\n",
       "  <tbody>\n",
       "    <tr>\n",
       "      <td>0</td>\n",
       "      <td>68145</td>\n",
       "      <td>2019-08-31 21:27:42.253</td>\n",
       "      <td>2019-09-01 16:23:27.492</td>\n",
       "      <td>5</td>\n",
       "      <td>249</td>\n",
       "      <td>Russell St at College Ave</td>\n",
       "      <td>37.858473</td>\n",
       "      <td>-122.253253</td>\n",
       "      <td>247</td>\n",
       "      <td>Fulton St at Bancroft Way</td>\n",
       "      <td>37.867789</td>\n",
       "      <td>-122.265896</td>\n",
       "      <td>3112</td>\n",
       "      <td>Customer</td>\n",
       "      <td>No</td>\n",
       "    </tr>\n",
       "    <tr>\n",
       "      <td>1</td>\n",
       "      <td>53216</td>\n",
       "      <td>2019-08-31 22:34:17.512</td>\n",
       "      <td>2019-09-01 13:21:13.931</td>\n",
       "      <td>5</td>\n",
       "      <td>368</td>\n",
       "      <td>Myrtle St at Polk St</td>\n",
       "      <td>37.785434</td>\n",
       "      <td>-122.419622</td>\n",
       "      <td>78</td>\n",
       "      <td>Folsom St at 9th St</td>\n",
       "      <td>37.773717</td>\n",
       "      <td>-122.411647</td>\n",
       "      <td>2440</td>\n",
       "      <td>Customer</td>\n",
       "      <td>No</td>\n",
       "    </tr>\n",
       "    <tr>\n",
       "      <td>2</td>\n",
       "      <td>53182</td>\n",
       "      <td>2019-08-31 22:34:49.942</td>\n",
       "      <td>2019-09-01 13:21:12.457</td>\n",
       "      <td>5</td>\n",
       "      <td>368</td>\n",
       "      <td>Myrtle St at Polk St</td>\n",
       "      <td>37.785434</td>\n",
       "      <td>-122.419622</td>\n",
       "      <td>78</td>\n",
       "      <td>Folsom St at 9th St</td>\n",
       "      <td>37.773717</td>\n",
       "      <td>-122.411647</td>\n",
       "      <td>9743</td>\n",
       "      <td>Customer</td>\n",
       "      <td>No</td>\n",
       "    </tr>\n",
       "  </tbody>\n",
       "</table>\n",
       "</div>"
      ],
      "text/plain": [
       "   duration_sec              start_time                end_time  day_of_week  \\\n",
       "0         68145 2019-08-31 21:27:42.253 2019-09-01 16:23:27.492            5   \n",
       "1         53216 2019-08-31 22:34:17.512 2019-09-01 13:21:13.931            5   \n",
       "2         53182 2019-08-31 22:34:49.942 2019-09-01 13:21:12.457            5   \n",
       "\n",
       "   start_station_id         start_station_name  start_station_latitude  \\\n",
       "0               249  Russell St at College Ave               37.858473   \n",
       "1               368       Myrtle St at Polk St               37.785434   \n",
       "2               368       Myrtle St at Polk St               37.785434   \n",
       "\n",
       "   start_station_longitude  end_station_id           end_station_name  \\\n",
       "0              -122.253253             247  Fulton St at Bancroft Way   \n",
       "1              -122.419622              78        Folsom St at 9th St   \n",
       "2              -122.419622              78        Folsom St at 9th St   \n",
       "\n",
       "   end_station_latitude  end_station_longitude  bike_id user_type  \\\n",
       "0             37.867789            -122.265896     3112  Customer   \n",
       "1             37.773717            -122.411647     2440  Customer   \n",
       "2             37.773717            -122.411647     9743  Customer   \n",
       "\n",
       "  bike_share_for_all_trip  \n",
       "0                      No  \n",
       "1                      No  \n",
       "2                      No  "
      ]
     },
     "execution_count": 9,
     "metadata": {},
     "output_type": "execute_result"
    }
   ],
   "source": [
    "df.head(3)"
   ]
  },
  {
   "cell_type": "markdown",
   "metadata": {},
   "source": [
    "#### Define\n",
    "Insert a minutes column as duration in seconds isn't clear.\n",
    "\n",
    "#### Code"
   ]
  },
  {
   "cell_type": "code",
   "execution_count": 10,
   "metadata": {},
   "outputs": [],
   "source": [
    "df.insert(1, 'duration_min', df.duration_sec/60)"
   ]
  },
  {
   "cell_type": "markdown",
   "metadata": {},
   "source": [
    "#### Test"
   ]
  },
  {
   "cell_type": "code",
   "execution_count": 11,
   "metadata": {},
   "outputs": [
    {
     "data": {
      "text/html": [
       "<div>\n",
       "<style scoped>\n",
       "    .dataframe tbody tr th:only-of-type {\n",
       "        vertical-align: middle;\n",
       "    }\n",
       "\n",
       "    .dataframe tbody tr th {\n",
       "        vertical-align: top;\n",
       "    }\n",
       "\n",
       "    .dataframe thead th {\n",
       "        text-align: right;\n",
       "    }\n",
       "</style>\n",
       "<table border=\"1\" class=\"dataframe\">\n",
       "  <thead>\n",
       "    <tr style=\"text-align: right;\">\n",
       "      <th></th>\n",
       "      <th>duration_sec</th>\n",
       "      <th>duration_min</th>\n",
       "      <th>start_time</th>\n",
       "      <th>end_time</th>\n",
       "      <th>day_of_week</th>\n",
       "      <th>start_station_id</th>\n",
       "      <th>start_station_name</th>\n",
       "      <th>start_station_latitude</th>\n",
       "      <th>start_station_longitude</th>\n",
       "      <th>end_station_id</th>\n",
       "      <th>end_station_name</th>\n",
       "      <th>end_station_latitude</th>\n",
       "      <th>end_station_longitude</th>\n",
       "      <th>bike_id</th>\n",
       "      <th>user_type</th>\n",
       "      <th>bike_share_for_all_trip</th>\n",
       "    </tr>\n",
       "  </thead>\n",
       "  <tbody>\n",
       "    <tr>\n",
       "      <td>0</td>\n",
       "      <td>68145</td>\n",
       "      <td>1135.750000</td>\n",
       "      <td>2019-08-31 21:27:42.253</td>\n",
       "      <td>2019-09-01 16:23:27.492</td>\n",
       "      <td>5</td>\n",
       "      <td>249</td>\n",
       "      <td>Russell St at College Ave</td>\n",
       "      <td>37.858473</td>\n",
       "      <td>-122.253253</td>\n",
       "      <td>247</td>\n",
       "      <td>Fulton St at Bancroft Way</td>\n",
       "      <td>37.867789</td>\n",
       "      <td>-122.265896</td>\n",
       "      <td>3112</td>\n",
       "      <td>Customer</td>\n",
       "      <td>No</td>\n",
       "    </tr>\n",
       "    <tr>\n",
       "      <td>1</td>\n",
       "      <td>53216</td>\n",
       "      <td>886.933333</td>\n",
       "      <td>2019-08-31 22:34:17.512</td>\n",
       "      <td>2019-09-01 13:21:13.931</td>\n",
       "      <td>5</td>\n",
       "      <td>368</td>\n",
       "      <td>Myrtle St at Polk St</td>\n",
       "      <td>37.785434</td>\n",
       "      <td>-122.419622</td>\n",
       "      <td>78</td>\n",
       "      <td>Folsom St at 9th St</td>\n",
       "      <td>37.773717</td>\n",
       "      <td>-122.411647</td>\n",
       "      <td>2440</td>\n",
       "      <td>Customer</td>\n",
       "      <td>No</td>\n",
       "    </tr>\n",
       "    <tr>\n",
       "      <td>2</td>\n",
       "      <td>53182</td>\n",
       "      <td>886.366667</td>\n",
       "      <td>2019-08-31 22:34:49.942</td>\n",
       "      <td>2019-09-01 13:21:12.457</td>\n",
       "      <td>5</td>\n",
       "      <td>368</td>\n",
       "      <td>Myrtle St at Polk St</td>\n",
       "      <td>37.785434</td>\n",
       "      <td>-122.419622</td>\n",
       "      <td>78</td>\n",
       "      <td>Folsom St at 9th St</td>\n",
       "      <td>37.773717</td>\n",
       "      <td>-122.411647</td>\n",
       "      <td>9743</td>\n",
       "      <td>Customer</td>\n",
       "      <td>No</td>\n",
       "    </tr>\n",
       "    <tr>\n",
       "      <td>3</td>\n",
       "      <td>75682</td>\n",
       "      <td>1261.366667</td>\n",
       "      <td>2019-08-31 14:22:02.278</td>\n",
       "      <td>2019-09-01 11:23:24.511</td>\n",
       "      <td>5</td>\n",
       "      <td>104</td>\n",
       "      <td>4th St at 16th St</td>\n",
       "      <td>37.767045</td>\n",
       "      <td>-122.390833</td>\n",
       "      <td>126</td>\n",
       "      <td>Esprit Park</td>\n",
       "      <td>37.761634</td>\n",
       "      <td>-122.390648</td>\n",
       "      <td>11418</td>\n",
       "      <td>Subscriber</td>\n",
       "      <td>No</td>\n",
       "    </tr>\n",
       "    <tr>\n",
       "      <td>4</td>\n",
       "      <td>30849</td>\n",
       "      <td>514.150000</td>\n",
       "      <td>2019-08-31 18:47:08.057</td>\n",
       "      <td>2019-09-01 03:21:17.697</td>\n",
       "      <td>5</td>\n",
       "      <td>327</td>\n",
       "      <td>5th St at San Salvador St</td>\n",
       "      <td>37.332039</td>\n",
       "      <td>-121.881766</td>\n",
       "      <td>327</td>\n",
       "      <td>5th St at San Salvador St</td>\n",
       "      <td>37.332039</td>\n",
       "      <td>-121.881766</td>\n",
       "      <td>1553</td>\n",
       "      <td>Customer</td>\n",
       "      <td>No</td>\n",
       "    </tr>\n",
       "  </tbody>\n",
       "</table>\n",
       "</div>"
      ],
      "text/plain": [
       "   duration_sec  duration_min              start_time                end_time  \\\n",
       "0         68145   1135.750000 2019-08-31 21:27:42.253 2019-09-01 16:23:27.492   \n",
       "1         53216    886.933333 2019-08-31 22:34:17.512 2019-09-01 13:21:13.931   \n",
       "2         53182    886.366667 2019-08-31 22:34:49.942 2019-09-01 13:21:12.457   \n",
       "3         75682   1261.366667 2019-08-31 14:22:02.278 2019-09-01 11:23:24.511   \n",
       "4         30849    514.150000 2019-08-31 18:47:08.057 2019-09-01 03:21:17.697   \n",
       "\n",
       "   day_of_week  start_station_id         start_station_name  \\\n",
       "0            5               249  Russell St at College Ave   \n",
       "1            5               368       Myrtle St at Polk St   \n",
       "2            5               368       Myrtle St at Polk St   \n",
       "3            5               104          4th St at 16th St   \n",
       "4            5               327  5th St at San Salvador St   \n",
       "\n",
       "   start_station_latitude  start_station_longitude  end_station_id  \\\n",
       "0               37.858473              -122.253253             247   \n",
       "1               37.785434              -122.419622              78   \n",
       "2               37.785434              -122.419622              78   \n",
       "3               37.767045              -122.390833             126   \n",
       "4               37.332039              -121.881766             327   \n",
       "\n",
       "            end_station_name  end_station_latitude  end_station_longitude  \\\n",
       "0  Fulton St at Bancroft Way             37.867789            -122.265896   \n",
       "1        Folsom St at 9th St             37.773717            -122.411647   \n",
       "2        Folsom St at 9th St             37.773717            -122.411647   \n",
       "3                Esprit Park             37.761634            -122.390648   \n",
       "4  5th St at San Salvador St             37.332039            -121.881766   \n",
       "\n",
       "   bike_id   user_type bike_share_for_all_trip  \n",
       "0     3112    Customer                      No  \n",
       "1     2440    Customer                      No  \n",
       "2     9743    Customer                      No  \n",
       "3    11418  Subscriber                      No  \n",
       "4     1553    Customer                      No  "
      ]
     },
     "execution_count": 11,
     "metadata": {},
     "output_type": "execute_result"
    }
   ],
   "source": [
    "df.head()"
   ]
  },
  {
   "cell_type": "markdown",
   "metadata": {},
   "source": [
    "#### Define\n",
    "Adding a column with the distance calculated from the latitude and longitude coordinates.\n",
    "\n",
    "#### Code"
   ]
  },
  {
   "cell_type": "code",
   "execution_count": 12,
   "metadata": {},
   "outputs": [],
   "source": [
    "#Calculating distance.  Used code found in Udacity knowledge area.\n",
    "def haversine(lon1, lat1, lon2, lat2):\n",
    "    lon1, lat1, lon2, lat2 = map(np.radians, [lon1, lat1, lon2, lat2])\n",
    "    dlon = lon2 - lon1\n",
    "    dlat = lat2 - lat1\n",
    "    a = np.sin(dlat/2)**2 + np.cos(lat1) * np.cos(lat2) * np.sin(dlon/2)**2\n",
    "    c = 2*np.arcsin(np.sqrt(a))\n",
    "    km = 6367 * c\n",
    "    return km"
   ]
  },
  {
   "cell_type": "code",
   "execution_count": 13,
   "metadata": {},
   "outputs": [],
   "source": [
    "df['distance'] = haversine(df['start_station_longitude'],\n",
    "                          df['start_station_latitude'],\n",
    "                          df['end_station_longitude'],\n",
    "                          df['end_station_latitude'])"
   ]
  },
  {
   "cell_type": "markdown",
   "metadata": {},
   "source": [
    "#### Test"
   ]
  },
  {
   "cell_type": "code",
   "execution_count": 14,
   "metadata": {},
   "outputs": [
    {
     "data": {
      "text/html": [
       "<div>\n",
       "<style scoped>\n",
       "    .dataframe tbody tr th:only-of-type {\n",
       "        vertical-align: middle;\n",
       "    }\n",
       "\n",
       "    .dataframe tbody tr th {\n",
       "        vertical-align: top;\n",
       "    }\n",
       "\n",
       "    .dataframe thead th {\n",
       "        text-align: right;\n",
       "    }\n",
       "</style>\n",
       "<table border=\"1\" class=\"dataframe\">\n",
       "  <thead>\n",
       "    <tr style=\"text-align: right;\">\n",
       "      <th></th>\n",
       "      <th>duration_sec</th>\n",
       "      <th>duration_min</th>\n",
       "      <th>start_time</th>\n",
       "      <th>end_time</th>\n",
       "      <th>day_of_week</th>\n",
       "      <th>start_station_id</th>\n",
       "      <th>start_station_name</th>\n",
       "      <th>start_station_latitude</th>\n",
       "      <th>start_station_longitude</th>\n",
       "      <th>end_station_id</th>\n",
       "      <th>end_station_name</th>\n",
       "      <th>end_station_latitude</th>\n",
       "      <th>end_station_longitude</th>\n",
       "      <th>bike_id</th>\n",
       "      <th>user_type</th>\n",
       "      <th>bike_share_for_all_trip</th>\n",
       "      <th>distance</th>\n",
       "    </tr>\n",
       "  </thead>\n",
       "  <tbody>\n",
       "    <tr>\n",
       "      <td>0</td>\n",
       "      <td>68145</td>\n",
       "      <td>1135.75</td>\n",
       "      <td>2019-08-31 21:27:42.253</td>\n",
       "      <td>2019-09-01 16:23:27.492</td>\n",
       "      <td>5</td>\n",
       "      <td>249</td>\n",
       "      <td>Russell St at College Ave</td>\n",
       "      <td>37.858473</td>\n",
       "      <td>-122.253253</td>\n",
       "      <td>247</td>\n",
       "      <td>Fulton St at Bancroft Way</td>\n",
       "      <td>37.867789</td>\n",
       "      <td>-122.265896</td>\n",
       "      <td>3112</td>\n",
       "      <td>Customer</td>\n",
       "      <td>No</td>\n",
       "      <td>1.51727</td>\n",
       "    </tr>\n",
       "  </tbody>\n",
       "</table>\n",
       "</div>"
      ],
      "text/plain": [
       "   duration_sec  duration_min              start_time                end_time  \\\n",
       "0         68145       1135.75 2019-08-31 21:27:42.253 2019-09-01 16:23:27.492   \n",
       "\n",
       "   day_of_week  start_station_id         start_station_name  \\\n",
       "0            5               249  Russell St at College Ave   \n",
       "\n",
       "   start_station_latitude  start_station_longitude  end_station_id  \\\n",
       "0               37.858473              -122.253253             247   \n",
       "\n",
       "            end_station_name  end_station_latitude  end_station_longitude  \\\n",
       "0  Fulton St at Bancroft Way             37.867789            -122.265896   \n",
       "\n",
       "   bike_id user_type bike_share_for_all_trip  distance  \n",
       "0     3112  Customer                      No   1.51727  "
      ]
     },
     "execution_count": 14,
     "metadata": {},
     "output_type": "execute_result"
    }
   ],
   "source": [
    "df.head(1)"
   ]
  },
  {
   "cell_type": "code",
   "execution_count": 15,
   "metadata": {},
   "outputs": [
    {
     "data": {
      "text/plain": [
       "count    210563.000000\n",
       "mean          1.673998\n",
       "std           1.059922\n",
       "min           0.000000\n",
       "25%           0.930881\n",
       "50%           1.444599\n",
       "75%           2.188723\n",
       "max          67.402478\n",
       "Name: distance, dtype: float64"
      ]
     },
     "execution_count": 15,
     "metadata": {},
     "output_type": "execute_result"
    }
   ],
   "source": [
    "df.distance.describe()"
   ]
  },
  {
   "cell_type": "markdown",
   "metadata": {},
   "source": [
    "#### Define\n",
    "Inserting a column for time categories (morning, afternoon, evening and latenight).  This column will be made for the start time only to be able to see at what point of the day do people rent bikes.\n",
    "\n",
    "#### Code"
   ]
  },
  {
   "cell_type": "code",
   "execution_count": 16,
   "metadata": {},
   "outputs": [
    {
     "data": {
      "text/html": [
       "<div>\n",
       "<style scoped>\n",
       "    .dataframe tbody tr th:only-of-type {\n",
       "        vertical-align: middle;\n",
       "    }\n",
       "\n",
       "    .dataframe tbody tr th {\n",
       "        vertical-align: top;\n",
       "    }\n",
       "\n",
       "    .dataframe thead th {\n",
       "        text-align: right;\n",
       "    }\n",
       "</style>\n",
       "<table border=\"1\" class=\"dataframe\">\n",
       "  <thead>\n",
       "    <tr style=\"text-align: right;\">\n",
       "      <th></th>\n",
       "      <th>duration_sec</th>\n",
       "      <th>duration_min</th>\n",
       "      <th>start_time</th>\n",
       "      <th>end_time</th>\n",
       "      <th>time_slot</th>\n",
       "      <th>day_of_week</th>\n",
       "      <th>start_station_id</th>\n",
       "      <th>start_station_name</th>\n",
       "      <th>start_station_latitude</th>\n",
       "      <th>start_station_longitude</th>\n",
       "      <th>end_station_id</th>\n",
       "      <th>end_station_name</th>\n",
       "      <th>end_station_latitude</th>\n",
       "      <th>end_station_longitude</th>\n",
       "      <th>bike_id</th>\n",
       "      <th>user_type</th>\n",
       "      <th>bike_share_for_all_trip</th>\n",
       "      <th>distance</th>\n",
       "    </tr>\n",
       "  </thead>\n",
       "  <tbody>\n",
       "    <tr>\n",
       "      <td>0</td>\n",
       "      <td>68145</td>\n",
       "      <td>1135.750000</td>\n",
       "      <td>2019-08-31 21:27:42.253</td>\n",
       "      <td>2019-09-01 16:23:27.492</td>\n",
       "      <td>2019-08-31 21:27:42.253</td>\n",
       "      <td>5</td>\n",
       "      <td>249</td>\n",
       "      <td>Russell St at College Ave</td>\n",
       "      <td>37.858473</td>\n",
       "      <td>-122.253253</td>\n",
       "      <td>247</td>\n",
       "      <td>Fulton St at Bancroft Way</td>\n",
       "      <td>37.867789</td>\n",
       "      <td>-122.265896</td>\n",
       "      <td>3112</td>\n",
       "      <td>Customer</td>\n",
       "      <td>No</td>\n",
       "      <td>1.517270</td>\n",
       "    </tr>\n",
       "    <tr>\n",
       "      <td>1</td>\n",
       "      <td>53216</td>\n",
       "      <td>886.933333</td>\n",
       "      <td>2019-08-31 22:34:17.512</td>\n",
       "      <td>2019-09-01 13:21:13.931</td>\n",
       "      <td>2019-08-31 22:34:17.512</td>\n",
       "      <td>5</td>\n",
       "      <td>368</td>\n",
       "      <td>Myrtle St at Polk St</td>\n",
       "      <td>37.785434</td>\n",
       "      <td>-122.419622</td>\n",
       "      <td>78</td>\n",
       "      <td>Folsom St at 9th St</td>\n",
       "      <td>37.773717</td>\n",
       "      <td>-122.411647</td>\n",
       "      <td>2440</td>\n",
       "      <td>Customer</td>\n",
       "      <td>No</td>\n",
       "      <td>1.478463</td>\n",
       "    </tr>\n",
       "    <tr>\n",
       "      <td>2</td>\n",
       "      <td>53182</td>\n",
       "      <td>886.366667</td>\n",
       "      <td>2019-08-31 22:34:49.942</td>\n",
       "      <td>2019-09-01 13:21:12.457</td>\n",
       "      <td>2019-08-31 22:34:49.942</td>\n",
       "      <td>5</td>\n",
       "      <td>368</td>\n",
       "      <td>Myrtle St at Polk St</td>\n",
       "      <td>37.785434</td>\n",
       "      <td>-122.419622</td>\n",
       "      <td>78</td>\n",
       "      <td>Folsom St at 9th St</td>\n",
       "      <td>37.773717</td>\n",
       "      <td>-122.411647</td>\n",
       "      <td>9743</td>\n",
       "      <td>Customer</td>\n",
       "      <td>No</td>\n",
       "      <td>1.478463</td>\n",
       "    </tr>\n",
       "    <tr>\n",
       "      <td>3</td>\n",
       "      <td>75682</td>\n",
       "      <td>1261.366667</td>\n",
       "      <td>2019-08-31 14:22:02.278</td>\n",
       "      <td>2019-09-01 11:23:24.511</td>\n",
       "      <td>2019-08-31 14:22:02.278</td>\n",
       "      <td>5</td>\n",
       "      <td>104</td>\n",
       "      <td>4th St at 16th St</td>\n",
       "      <td>37.767045</td>\n",
       "      <td>-122.390833</td>\n",
       "      <td>126</td>\n",
       "      <td>Esprit Park</td>\n",
       "      <td>37.761634</td>\n",
       "      <td>-122.390648</td>\n",
       "      <td>11418</td>\n",
       "      <td>Subscriber</td>\n",
       "      <td>No</td>\n",
       "      <td>0.601439</td>\n",
       "    </tr>\n",
       "    <tr>\n",
       "      <td>4</td>\n",
       "      <td>30849</td>\n",
       "      <td>514.150000</td>\n",
       "      <td>2019-08-31 18:47:08.057</td>\n",
       "      <td>2019-09-01 03:21:17.697</td>\n",
       "      <td>2019-08-31 18:47:08.057</td>\n",
       "      <td>5</td>\n",
       "      <td>327</td>\n",
       "      <td>5th St at San Salvador St</td>\n",
       "      <td>37.332039</td>\n",
       "      <td>-121.881766</td>\n",
       "      <td>327</td>\n",
       "      <td>5th St at San Salvador St</td>\n",
       "      <td>37.332039</td>\n",
       "      <td>-121.881766</td>\n",
       "      <td>1553</td>\n",
       "      <td>Customer</td>\n",
       "      <td>No</td>\n",
       "      <td>0.000000</td>\n",
       "    </tr>\n",
       "  </tbody>\n",
       "</table>\n",
       "</div>"
      ],
      "text/plain": [
       "   duration_sec  duration_min              start_time                end_time  \\\n",
       "0         68145   1135.750000 2019-08-31 21:27:42.253 2019-09-01 16:23:27.492   \n",
       "1         53216    886.933333 2019-08-31 22:34:17.512 2019-09-01 13:21:13.931   \n",
       "2         53182    886.366667 2019-08-31 22:34:49.942 2019-09-01 13:21:12.457   \n",
       "3         75682   1261.366667 2019-08-31 14:22:02.278 2019-09-01 11:23:24.511   \n",
       "4         30849    514.150000 2019-08-31 18:47:08.057 2019-09-01 03:21:17.697   \n",
       "\n",
       "                time_slot  day_of_week  start_station_id  \\\n",
       "0 2019-08-31 21:27:42.253            5               249   \n",
       "1 2019-08-31 22:34:17.512            5               368   \n",
       "2 2019-08-31 22:34:49.942            5               368   \n",
       "3 2019-08-31 14:22:02.278            5               104   \n",
       "4 2019-08-31 18:47:08.057            5               327   \n",
       "\n",
       "          start_station_name  start_station_latitude  start_station_longitude  \\\n",
       "0  Russell St at College Ave               37.858473              -122.253253   \n",
       "1       Myrtle St at Polk St               37.785434              -122.419622   \n",
       "2       Myrtle St at Polk St               37.785434              -122.419622   \n",
       "3          4th St at 16th St               37.767045              -122.390833   \n",
       "4  5th St at San Salvador St               37.332039              -121.881766   \n",
       "\n",
       "   end_station_id           end_station_name  end_station_latitude  \\\n",
       "0             247  Fulton St at Bancroft Way             37.867789   \n",
       "1              78        Folsom St at 9th St             37.773717   \n",
       "2              78        Folsom St at 9th St             37.773717   \n",
       "3             126                Esprit Park             37.761634   \n",
       "4             327  5th St at San Salvador St             37.332039   \n",
       "\n",
       "   end_station_longitude  bike_id   user_type bike_share_for_all_trip  \\\n",
       "0            -122.265896     3112    Customer                      No   \n",
       "1            -122.411647     2440    Customer                      No   \n",
       "2            -122.411647     9743    Customer                      No   \n",
       "3            -122.390648    11418  Subscriber                      No   \n",
       "4            -121.881766     1553    Customer                      No   \n",
       "\n",
       "   distance  \n",
       "0  1.517270  \n",
       "1  1.478463  \n",
       "2  1.478463  \n",
       "3  0.601439  \n",
       "4  0.000000  "
      ]
     },
     "execution_count": 16,
     "metadata": {},
     "output_type": "execute_result"
    }
   ],
   "source": [
    "#Inserting a new column.  Temporarily filling it with the start_time content.\n",
    "df.insert(4, 'time_slot', df['start_time'])\n",
    "df.head()"
   ]
  },
  {
   "cell_type": "code",
   "execution_count": 17,
   "metadata": {},
   "outputs": [],
   "source": [
    "#Building a function to remove the hour from the datetime.\n",
    "from datetime import datetime\n",
    "\n",
    "def time_split(df, column):\n",
    "    df[column] = df[column].apply(lambda x: datetime.strftime(x,'%H'))\n",
    "    return df.head(5)"
   ]
  },
  {
   "cell_type": "code",
   "execution_count": 18,
   "metadata": {},
   "outputs": [
    {
     "data": {
      "text/html": [
       "<div>\n",
       "<style scoped>\n",
       "    .dataframe tbody tr th:only-of-type {\n",
       "        vertical-align: middle;\n",
       "    }\n",
       "\n",
       "    .dataframe tbody tr th {\n",
       "        vertical-align: top;\n",
       "    }\n",
       "\n",
       "    .dataframe thead th {\n",
       "        text-align: right;\n",
       "    }\n",
       "</style>\n",
       "<table border=\"1\" class=\"dataframe\">\n",
       "  <thead>\n",
       "    <tr style=\"text-align: right;\">\n",
       "      <th></th>\n",
       "      <th>duration_sec</th>\n",
       "      <th>duration_min</th>\n",
       "      <th>start_time</th>\n",
       "      <th>end_time</th>\n",
       "      <th>time_slot</th>\n",
       "      <th>day_of_week</th>\n",
       "      <th>start_station_id</th>\n",
       "      <th>start_station_name</th>\n",
       "      <th>start_station_latitude</th>\n",
       "      <th>start_station_longitude</th>\n",
       "      <th>end_station_id</th>\n",
       "      <th>end_station_name</th>\n",
       "      <th>end_station_latitude</th>\n",
       "      <th>end_station_longitude</th>\n",
       "      <th>bike_id</th>\n",
       "      <th>user_type</th>\n",
       "      <th>bike_share_for_all_trip</th>\n",
       "      <th>distance</th>\n",
       "    </tr>\n",
       "  </thead>\n",
       "  <tbody>\n",
       "    <tr>\n",
       "      <td>0</td>\n",
       "      <td>68145</td>\n",
       "      <td>1135.750000</td>\n",
       "      <td>2019-08-31 21:27:42.253</td>\n",
       "      <td>2019-09-01 16:23:27.492</td>\n",
       "      <td>21</td>\n",
       "      <td>5</td>\n",
       "      <td>249</td>\n",
       "      <td>Russell St at College Ave</td>\n",
       "      <td>37.858473</td>\n",
       "      <td>-122.253253</td>\n",
       "      <td>247</td>\n",
       "      <td>Fulton St at Bancroft Way</td>\n",
       "      <td>37.867789</td>\n",
       "      <td>-122.265896</td>\n",
       "      <td>3112</td>\n",
       "      <td>Customer</td>\n",
       "      <td>No</td>\n",
       "      <td>1.517270</td>\n",
       "    </tr>\n",
       "    <tr>\n",
       "      <td>1</td>\n",
       "      <td>53216</td>\n",
       "      <td>886.933333</td>\n",
       "      <td>2019-08-31 22:34:17.512</td>\n",
       "      <td>2019-09-01 13:21:13.931</td>\n",
       "      <td>22</td>\n",
       "      <td>5</td>\n",
       "      <td>368</td>\n",
       "      <td>Myrtle St at Polk St</td>\n",
       "      <td>37.785434</td>\n",
       "      <td>-122.419622</td>\n",
       "      <td>78</td>\n",
       "      <td>Folsom St at 9th St</td>\n",
       "      <td>37.773717</td>\n",
       "      <td>-122.411647</td>\n",
       "      <td>2440</td>\n",
       "      <td>Customer</td>\n",
       "      <td>No</td>\n",
       "      <td>1.478463</td>\n",
       "    </tr>\n",
       "    <tr>\n",
       "      <td>2</td>\n",
       "      <td>53182</td>\n",
       "      <td>886.366667</td>\n",
       "      <td>2019-08-31 22:34:49.942</td>\n",
       "      <td>2019-09-01 13:21:12.457</td>\n",
       "      <td>22</td>\n",
       "      <td>5</td>\n",
       "      <td>368</td>\n",
       "      <td>Myrtle St at Polk St</td>\n",
       "      <td>37.785434</td>\n",
       "      <td>-122.419622</td>\n",
       "      <td>78</td>\n",
       "      <td>Folsom St at 9th St</td>\n",
       "      <td>37.773717</td>\n",
       "      <td>-122.411647</td>\n",
       "      <td>9743</td>\n",
       "      <td>Customer</td>\n",
       "      <td>No</td>\n",
       "      <td>1.478463</td>\n",
       "    </tr>\n",
       "    <tr>\n",
       "      <td>3</td>\n",
       "      <td>75682</td>\n",
       "      <td>1261.366667</td>\n",
       "      <td>2019-08-31 14:22:02.278</td>\n",
       "      <td>2019-09-01 11:23:24.511</td>\n",
       "      <td>14</td>\n",
       "      <td>5</td>\n",
       "      <td>104</td>\n",
       "      <td>4th St at 16th St</td>\n",
       "      <td>37.767045</td>\n",
       "      <td>-122.390833</td>\n",
       "      <td>126</td>\n",
       "      <td>Esprit Park</td>\n",
       "      <td>37.761634</td>\n",
       "      <td>-122.390648</td>\n",
       "      <td>11418</td>\n",
       "      <td>Subscriber</td>\n",
       "      <td>No</td>\n",
       "      <td>0.601439</td>\n",
       "    </tr>\n",
       "    <tr>\n",
       "      <td>4</td>\n",
       "      <td>30849</td>\n",
       "      <td>514.150000</td>\n",
       "      <td>2019-08-31 18:47:08.057</td>\n",
       "      <td>2019-09-01 03:21:17.697</td>\n",
       "      <td>18</td>\n",
       "      <td>5</td>\n",
       "      <td>327</td>\n",
       "      <td>5th St at San Salvador St</td>\n",
       "      <td>37.332039</td>\n",
       "      <td>-121.881766</td>\n",
       "      <td>327</td>\n",
       "      <td>5th St at San Salvador St</td>\n",
       "      <td>37.332039</td>\n",
       "      <td>-121.881766</td>\n",
       "      <td>1553</td>\n",
       "      <td>Customer</td>\n",
       "      <td>No</td>\n",
       "      <td>0.000000</td>\n",
       "    </tr>\n",
       "  </tbody>\n",
       "</table>\n",
       "</div>"
      ],
      "text/plain": [
       "   duration_sec  duration_min              start_time                end_time  \\\n",
       "0         68145   1135.750000 2019-08-31 21:27:42.253 2019-09-01 16:23:27.492   \n",
       "1         53216    886.933333 2019-08-31 22:34:17.512 2019-09-01 13:21:13.931   \n",
       "2         53182    886.366667 2019-08-31 22:34:49.942 2019-09-01 13:21:12.457   \n",
       "3         75682   1261.366667 2019-08-31 14:22:02.278 2019-09-01 11:23:24.511   \n",
       "4         30849    514.150000 2019-08-31 18:47:08.057 2019-09-01 03:21:17.697   \n",
       "\n",
       "  time_slot  day_of_week  start_station_id         start_station_name  \\\n",
       "0        21            5               249  Russell St at College Ave   \n",
       "1        22            5               368       Myrtle St at Polk St   \n",
       "2        22            5               368       Myrtle St at Polk St   \n",
       "3        14            5               104          4th St at 16th St   \n",
       "4        18            5               327  5th St at San Salvador St   \n",
       "\n",
       "   start_station_latitude  start_station_longitude  end_station_id  \\\n",
       "0               37.858473              -122.253253             247   \n",
       "1               37.785434              -122.419622              78   \n",
       "2               37.785434              -122.419622              78   \n",
       "3               37.767045              -122.390833             126   \n",
       "4               37.332039              -121.881766             327   \n",
       "\n",
       "            end_station_name  end_station_latitude  end_station_longitude  \\\n",
       "0  Fulton St at Bancroft Way             37.867789            -122.265896   \n",
       "1        Folsom St at 9th St             37.773717            -122.411647   \n",
       "2        Folsom St at 9th St             37.773717            -122.411647   \n",
       "3                Esprit Park             37.761634            -122.390648   \n",
       "4  5th St at San Salvador St             37.332039            -121.881766   \n",
       "\n",
       "   bike_id   user_type bike_share_for_all_trip  distance  \n",
       "0     3112    Customer                      No  1.517270  \n",
       "1     2440    Customer                      No  1.478463  \n",
       "2     9743    Customer                      No  1.478463  \n",
       "3    11418  Subscriber                      No  0.601439  \n",
       "4     1553    Customer                      No  0.000000  "
      ]
     },
     "execution_count": 18,
     "metadata": {},
     "output_type": "execute_result"
    }
   ],
   "source": [
    "#Instantiating the function\n",
    "time_split(df, 'time_slot')"
   ]
  },
  {
   "cell_type": "code",
   "execution_count": 19,
   "metadata": {},
   "outputs": [],
   "source": [
    "#Changing the column to an int data type.\n",
    "df.time_slot = df.time_slot.astype(int)"
   ]
  },
  {
   "cell_type": "code",
   "execution_count": 20,
   "metadata": {},
   "outputs": [],
   "source": [
    "#Using a lambda function to update the column with the time category.\n",
    "\n",
    "col = ['time_slot']\n",
    "for c in col:\n",
    "    df['time_slot'] = df[c].apply(lambda x: 'morn' if x>5 and x<12 else \n",
    "                             'afternoon' if x>11 and x<18 else \n",
    "                             'evening' if x>17 and x<25 else 'late_night')"
   ]
  },
  {
   "cell_type": "markdown",
   "metadata": {},
   "source": [
    "#### Test"
   ]
  },
  {
   "cell_type": "code",
   "execution_count": 21,
   "metadata": {},
   "outputs": [
    {
     "data": {
      "text/html": [
       "<div>\n",
       "<style scoped>\n",
       "    .dataframe tbody tr th:only-of-type {\n",
       "        vertical-align: middle;\n",
       "    }\n",
       "\n",
       "    .dataframe tbody tr th {\n",
       "        vertical-align: top;\n",
       "    }\n",
       "\n",
       "    .dataframe thead th {\n",
       "        text-align: right;\n",
       "    }\n",
       "</style>\n",
       "<table border=\"1\" class=\"dataframe\">\n",
       "  <thead>\n",
       "    <tr style=\"text-align: right;\">\n",
       "      <th></th>\n",
       "      <th>duration_sec</th>\n",
       "      <th>duration_min</th>\n",
       "      <th>start_time</th>\n",
       "      <th>end_time</th>\n",
       "      <th>time_slot</th>\n",
       "      <th>day_of_week</th>\n",
       "      <th>start_station_id</th>\n",
       "      <th>start_station_name</th>\n",
       "      <th>start_station_latitude</th>\n",
       "      <th>start_station_longitude</th>\n",
       "      <th>end_station_id</th>\n",
       "      <th>end_station_name</th>\n",
       "      <th>end_station_latitude</th>\n",
       "      <th>end_station_longitude</th>\n",
       "      <th>bike_id</th>\n",
       "      <th>user_type</th>\n",
       "      <th>bike_share_for_all_trip</th>\n",
       "      <th>distance</th>\n",
       "    </tr>\n",
       "  </thead>\n",
       "  <tbody>\n",
       "    <tr>\n",
       "      <td>0</td>\n",
       "      <td>68145</td>\n",
       "      <td>1135.750000</td>\n",
       "      <td>2019-08-31 21:27:42.253</td>\n",
       "      <td>2019-09-01 16:23:27.492</td>\n",
       "      <td>evening</td>\n",
       "      <td>5</td>\n",
       "      <td>249</td>\n",
       "      <td>Russell St at College Ave</td>\n",
       "      <td>37.858473</td>\n",
       "      <td>-122.253253</td>\n",
       "      <td>247</td>\n",
       "      <td>Fulton St at Bancroft Way</td>\n",
       "      <td>37.867789</td>\n",
       "      <td>-122.265896</td>\n",
       "      <td>3112</td>\n",
       "      <td>Customer</td>\n",
       "      <td>No</td>\n",
       "      <td>1.517270</td>\n",
       "    </tr>\n",
       "    <tr>\n",
       "      <td>1</td>\n",
       "      <td>53216</td>\n",
       "      <td>886.933333</td>\n",
       "      <td>2019-08-31 22:34:17.512</td>\n",
       "      <td>2019-09-01 13:21:13.931</td>\n",
       "      <td>evening</td>\n",
       "      <td>5</td>\n",
       "      <td>368</td>\n",
       "      <td>Myrtle St at Polk St</td>\n",
       "      <td>37.785434</td>\n",
       "      <td>-122.419622</td>\n",
       "      <td>78</td>\n",
       "      <td>Folsom St at 9th St</td>\n",
       "      <td>37.773717</td>\n",
       "      <td>-122.411647</td>\n",
       "      <td>2440</td>\n",
       "      <td>Customer</td>\n",
       "      <td>No</td>\n",
       "      <td>1.478463</td>\n",
       "    </tr>\n",
       "    <tr>\n",
       "      <td>2</td>\n",
       "      <td>53182</td>\n",
       "      <td>886.366667</td>\n",
       "      <td>2019-08-31 22:34:49.942</td>\n",
       "      <td>2019-09-01 13:21:12.457</td>\n",
       "      <td>evening</td>\n",
       "      <td>5</td>\n",
       "      <td>368</td>\n",
       "      <td>Myrtle St at Polk St</td>\n",
       "      <td>37.785434</td>\n",
       "      <td>-122.419622</td>\n",
       "      <td>78</td>\n",
       "      <td>Folsom St at 9th St</td>\n",
       "      <td>37.773717</td>\n",
       "      <td>-122.411647</td>\n",
       "      <td>9743</td>\n",
       "      <td>Customer</td>\n",
       "      <td>No</td>\n",
       "      <td>1.478463</td>\n",
       "    </tr>\n",
       "    <tr>\n",
       "      <td>3</td>\n",
       "      <td>75682</td>\n",
       "      <td>1261.366667</td>\n",
       "      <td>2019-08-31 14:22:02.278</td>\n",
       "      <td>2019-09-01 11:23:24.511</td>\n",
       "      <td>afternoon</td>\n",
       "      <td>5</td>\n",
       "      <td>104</td>\n",
       "      <td>4th St at 16th St</td>\n",
       "      <td>37.767045</td>\n",
       "      <td>-122.390833</td>\n",
       "      <td>126</td>\n",
       "      <td>Esprit Park</td>\n",
       "      <td>37.761634</td>\n",
       "      <td>-122.390648</td>\n",
       "      <td>11418</td>\n",
       "      <td>Subscriber</td>\n",
       "      <td>No</td>\n",
       "      <td>0.601439</td>\n",
       "    </tr>\n",
       "    <tr>\n",
       "      <td>4</td>\n",
       "      <td>30849</td>\n",
       "      <td>514.150000</td>\n",
       "      <td>2019-08-31 18:47:08.057</td>\n",
       "      <td>2019-09-01 03:21:17.697</td>\n",
       "      <td>evening</td>\n",
       "      <td>5</td>\n",
       "      <td>327</td>\n",
       "      <td>5th St at San Salvador St</td>\n",
       "      <td>37.332039</td>\n",
       "      <td>-121.881766</td>\n",
       "      <td>327</td>\n",
       "      <td>5th St at San Salvador St</td>\n",
       "      <td>37.332039</td>\n",
       "      <td>-121.881766</td>\n",
       "      <td>1553</td>\n",
       "      <td>Customer</td>\n",
       "      <td>No</td>\n",
       "      <td>0.000000</td>\n",
       "    </tr>\n",
       "    <tr>\n",
       "      <td>5</td>\n",
       "      <td>17193</td>\n",
       "      <td>286.550000</td>\n",
       "      <td>2019-08-31 20:52:40.744</td>\n",
       "      <td>2019-09-01 01:39:14.592</td>\n",
       "      <td>evening</td>\n",
       "      <td>5</td>\n",
       "      <td>49</td>\n",
       "      <td>S Park St at 3rd St</td>\n",
       "      <td>37.780760</td>\n",
       "      <td>-122.394989</td>\n",
       "      <td>3</td>\n",
       "      <td>Powell St BART Station (Market St at 4th St)</td>\n",
       "      <td>37.786375</td>\n",
       "      <td>-122.404904</td>\n",
       "      <td>3503</td>\n",
       "      <td>Customer</td>\n",
       "      <td>No</td>\n",
       "      <td>1.071275</td>\n",
       "    </tr>\n",
       "    <tr>\n",
       "      <td>6</td>\n",
       "      <td>8959</td>\n",
       "      <td>149.316667</td>\n",
       "      <td>2019-08-31 22:44:38.213</td>\n",
       "      <td>2019-09-01 01:13:57.248</td>\n",
       "      <td>evening</td>\n",
       "      <td>5</td>\n",
       "      <td>323</td>\n",
       "      <td>Broadway at Kearny</td>\n",
       "      <td>37.798014</td>\n",
       "      <td>-122.405950</td>\n",
       "      <td>8</td>\n",
       "      <td>The Embarcadero at Vallejo St</td>\n",
       "      <td>37.799953</td>\n",
       "      <td>-122.398525</td>\n",
       "      <td>3028</td>\n",
       "      <td>Customer</td>\n",
       "      <td>No</td>\n",
       "      <td>0.686700</td>\n",
       "    </tr>\n",
       "    <tr>\n",
       "      <td>7</td>\n",
       "      <td>9528</td>\n",
       "      <td>158.800000</td>\n",
       "      <td>2019-08-31 22:04:15.446</td>\n",
       "      <td>2019-09-01 00:43:03.874</td>\n",
       "      <td>evening</td>\n",
       "      <td>5</td>\n",
       "      <td>160</td>\n",
       "      <td>West Oakland BART Station</td>\n",
       "      <td>37.805318</td>\n",
       "      <td>-122.294837</td>\n",
       "      <td>237</td>\n",
       "      <td>Fruitvale BART Station</td>\n",
       "      <td>37.775232</td>\n",
       "      <td>-122.224498</td>\n",
       "      <td>1577</td>\n",
       "      <td>Customer</td>\n",
       "      <td>No</td>\n",
       "      <td>7.023709</td>\n",
       "    </tr>\n",
       "    <tr>\n",
       "      <td>8</td>\n",
       "      <td>9542</td>\n",
       "      <td>159.033333</td>\n",
       "      <td>2019-08-31 22:03:56.506</td>\n",
       "      <td>2019-09-01 00:42:59.328</td>\n",
       "      <td>evening</td>\n",
       "      <td>5</td>\n",
       "      <td>160</td>\n",
       "      <td>West Oakland BART Station</td>\n",
       "      <td>37.805318</td>\n",
       "      <td>-122.294837</td>\n",
       "      <td>237</td>\n",
       "      <td>Fruitvale BART Station</td>\n",
       "      <td>37.775232</td>\n",
       "      <td>-122.224498</td>\n",
       "      <td>2534</td>\n",
       "      <td>Customer</td>\n",
       "      <td>No</td>\n",
       "      <td>7.023709</td>\n",
       "    </tr>\n",
       "    <tr>\n",
       "      <td>9</td>\n",
       "      <td>4121</td>\n",
       "      <td>68.683333</td>\n",
       "      <td>2019-08-31 23:26:05.751</td>\n",
       "      <td>2019-09-01 00:34:46.893</td>\n",
       "      <td>evening</td>\n",
       "      <td>5</td>\n",
       "      <td>5</td>\n",
       "      <td>Powell St BART Station (Market St at 5th St)</td>\n",
       "      <td>37.783899</td>\n",
       "      <td>-122.408445</td>\n",
       "      <td>4</td>\n",
       "      <td>Cyril Magnin St at Ellis St</td>\n",
       "      <td>37.785881</td>\n",
       "      <td>-122.408915</td>\n",
       "      <td>9651</td>\n",
       "      <td>Customer</td>\n",
       "      <td>No</td>\n",
       "      <td>0.224007</td>\n",
       "    </tr>\n",
       "  </tbody>\n",
       "</table>\n",
       "</div>"
      ],
      "text/plain": [
       "   duration_sec  duration_min              start_time                end_time  \\\n",
       "0         68145   1135.750000 2019-08-31 21:27:42.253 2019-09-01 16:23:27.492   \n",
       "1         53216    886.933333 2019-08-31 22:34:17.512 2019-09-01 13:21:13.931   \n",
       "2         53182    886.366667 2019-08-31 22:34:49.942 2019-09-01 13:21:12.457   \n",
       "3         75682   1261.366667 2019-08-31 14:22:02.278 2019-09-01 11:23:24.511   \n",
       "4         30849    514.150000 2019-08-31 18:47:08.057 2019-09-01 03:21:17.697   \n",
       "5         17193    286.550000 2019-08-31 20:52:40.744 2019-09-01 01:39:14.592   \n",
       "6          8959    149.316667 2019-08-31 22:44:38.213 2019-09-01 01:13:57.248   \n",
       "7          9528    158.800000 2019-08-31 22:04:15.446 2019-09-01 00:43:03.874   \n",
       "8          9542    159.033333 2019-08-31 22:03:56.506 2019-09-01 00:42:59.328   \n",
       "9          4121     68.683333 2019-08-31 23:26:05.751 2019-09-01 00:34:46.893   \n",
       "\n",
       "   time_slot  day_of_week  start_station_id  \\\n",
       "0    evening            5               249   \n",
       "1    evening            5               368   \n",
       "2    evening            5               368   \n",
       "3  afternoon            5               104   \n",
       "4    evening            5               327   \n",
       "5    evening            5                49   \n",
       "6    evening            5               323   \n",
       "7    evening            5               160   \n",
       "8    evening            5               160   \n",
       "9    evening            5                 5   \n",
       "\n",
       "                             start_station_name  start_station_latitude  \\\n",
       "0                     Russell St at College Ave               37.858473   \n",
       "1                          Myrtle St at Polk St               37.785434   \n",
       "2                          Myrtle St at Polk St               37.785434   \n",
       "3                             4th St at 16th St               37.767045   \n",
       "4                     5th St at San Salvador St               37.332039   \n",
       "5                           S Park St at 3rd St               37.780760   \n",
       "6                            Broadway at Kearny               37.798014   \n",
       "7                     West Oakland BART Station               37.805318   \n",
       "8                     West Oakland BART Station               37.805318   \n",
       "9  Powell St BART Station (Market St at 5th St)               37.783899   \n",
       "\n",
       "   start_station_longitude  end_station_id  \\\n",
       "0              -122.253253             247   \n",
       "1              -122.419622              78   \n",
       "2              -122.419622              78   \n",
       "3              -122.390833             126   \n",
       "4              -121.881766             327   \n",
       "5              -122.394989               3   \n",
       "6              -122.405950               8   \n",
       "7              -122.294837             237   \n",
       "8              -122.294837             237   \n",
       "9              -122.408445               4   \n",
       "\n",
       "                               end_station_name  end_station_latitude  \\\n",
       "0                     Fulton St at Bancroft Way             37.867789   \n",
       "1                           Folsom St at 9th St             37.773717   \n",
       "2                           Folsom St at 9th St             37.773717   \n",
       "3                                   Esprit Park             37.761634   \n",
       "4                     5th St at San Salvador St             37.332039   \n",
       "5  Powell St BART Station (Market St at 4th St)             37.786375   \n",
       "6                 The Embarcadero at Vallejo St             37.799953   \n",
       "7                        Fruitvale BART Station             37.775232   \n",
       "8                        Fruitvale BART Station             37.775232   \n",
       "9                   Cyril Magnin St at Ellis St             37.785881   \n",
       "\n",
       "   end_station_longitude  bike_id   user_type bike_share_for_all_trip  \\\n",
       "0            -122.265896     3112    Customer                      No   \n",
       "1            -122.411647     2440    Customer                      No   \n",
       "2            -122.411647     9743    Customer                      No   \n",
       "3            -122.390648    11418  Subscriber                      No   \n",
       "4            -121.881766     1553    Customer                      No   \n",
       "5            -122.404904     3503    Customer                      No   \n",
       "6            -122.398525     3028    Customer                      No   \n",
       "7            -122.224498     1577    Customer                      No   \n",
       "8            -122.224498     2534    Customer                      No   \n",
       "9            -122.408915     9651    Customer                      No   \n",
       "\n",
       "   distance  \n",
       "0  1.517270  \n",
       "1  1.478463  \n",
       "2  1.478463  \n",
       "3  0.601439  \n",
       "4  0.000000  \n",
       "5  1.071275  \n",
       "6  0.686700  \n",
       "7  7.023709  \n",
       "8  7.023709  \n",
       "9  0.224007  "
      ]
     },
     "execution_count": 21,
     "metadata": {},
     "output_type": "execute_result"
    }
   ],
   "source": [
    "df.head(10)"
   ]
  },
  {
   "cell_type": "markdown",
   "metadata": {},
   "source": [
    "## Univariate Exploration\n",
    "\n",
    "We start the exploration looking at the duration of the trips.  As we are looking at 3 different question we could have chosen any as the starting point so duration was randomly picked."
   ]
  },
  {
   "cell_type": "code",
   "execution_count": 22,
   "metadata": {},
   "outputs": [
    {
     "data": {
      "text/html": [
       "<div>\n",
       "<style scoped>\n",
       "    .dataframe tbody tr th:only-of-type {\n",
       "        vertical-align: middle;\n",
       "    }\n",
       "\n",
       "    .dataframe tbody tr th {\n",
       "        vertical-align: top;\n",
       "    }\n",
       "\n",
       "    .dataframe thead th {\n",
       "        text-align: right;\n",
       "    }\n",
       "</style>\n",
       "<table border=\"1\" class=\"dataframe\">\n",
       "  <thead>\n",
       "    <tr style=\"text-align: right;\">\n",
       "      <th></th>\n",
       "      <th>duration_sec</th>\n",
       "      <th>duration_min</th>\n",
       "      <th>start_time</th>\n",
       "      <th>end_time</th>\n",
       "      <th>time_slot</th>\n",
       "      <th>day_of_week</th>\n",
       "      <th>start_station_id</th>\n",
       "      <th>start_station_name</th>\n",
       "      <th>start_station_latitude</th>\n",
       "      <th>start_station_longitude</th>\n",
       "      <th>end_station_id</th>\n",
       "      <th>end_station_name</th>\n",
       "      <th>end_station_latitude</th>\n",
       "      <th>end_station_longitude</th>\n",
       "      <th>bike_id</th>\n",
       "      <th>user_type</th>\n",
       "      <th>bike_share_for_all_trip</th>\n",
       "      <th>distance</th>\n",
       "    </tr>\n",
       "  </thead>\n",
       "  <tbody>\n",
       "    <tr>\n",
       "      <td>0</td>\n",
       "      <td>68145</td>\n",
       "      <td>1135.75</td>\n",
       "      <td>2019-08-31 21:27:42.253</td>\n",
       "      <td>2019-09-01 16:23:27.492</td>\n",
       "      <td>evening</td>\n",
       "      <td>5</td>\n",
       "      <td>249</td>\n",
       "      <td>Russell St at College Ave</td>\n",
       "      <td>37.858473</td>\n",
       "      <td>-122.253253</td>\n",
       "      <td>247</td>\n",
       "      <td>Fulton St at Bancroft Way</td>\n",
       "      <td>37.867789</td>\n",
       "      <td>-122.265896</td>\n",
       "      <td>3112</td>\n",
       "      <td>Customer</td>\n",
       "      <td>No</td>\n",
       "      <td>1.51727</td>\n",
       "    </tr>\n",
       "  </tbody>\n",
       "</table>\n",
       "</div>"
      ],
      "text/plain": [
       "   duration_sec  duration_min              start_time                end_time  \\\n",
       "0         68145       1135.75 2019-08-31 21:27:42.253 2019-09-01 16:23:27.492   \n",
       "\n",
       "  time_slot  day_of_week  start_station_id         start_station_name  \\\n",
       "0   evening            5               249  Russell St at College Ave   \n",
       "\n",
       "   start_station_latitude  start_station_longitude  end_station_id  \\\n",
       "0               37.858473              -122.253253             247   \n",
       "\n",
       "            end_station_name  end_station_latitude  end_station_longitude  \\\n",
       "0  Fulton St at Bancroft Way             37.867789            -122.265896   \n",
       "\n",
       "   bike_id user_type bike_share_for_all_trip  distance  \n",
       "0     3112  Customer                      No   1.51727  "
      ]
     },
     "execution_count": 22,
     "metadata": {},
     "output_type": "execute_result"
    }
   ],
   "source": [
    "df.head(1)"
   ]
  },
  {
   "cell_type": "code",
   "execution_count": 23,
   "metadata": {},
   "outputs": [],
   "source": [
    "#Grouping the rentals for ease of visualizing.  With count all of the columns are the same, so user_type was chosen\n",
    "#to use for the total count.\n",
    "rentals_per_day = df.groupby('day_of_week').user_type.count()"
   ]
  },
  {
   "cell_type": "code",
   "execution_count": 24,
   "metadata": {},
   "outputs": [
    {
     "data": {
      "text/plain": [
       "3    39472\n",
       "4    36420\n",
       "2    32879\n",
       "1    32529\n",
       "0    31353\n",
       "5    21365\n",
       "6    16545\n",
       "Name: day_of_week, dtype: int64"
      ]
     },
     "execution_count": 24,
     "metadata": {},
     "output_type": "execute_result"
    }
   ],
   "source": [
    "#Setting the counts to a variable.\n",
    "day_counts = df.day_of_week.value_counts()\n",
    "day_counts"
   ]
  },
  {
   "cell_type": "code",
   "execution_count": 25,
   "metadata": {},
   "outputs": [
    {
     "data": {
      "image/png": "[encoded data removed]",
      "text/plain": [
       "<Figure size 432x288 with 1 Axes>"
      ]
     },
     "metadata": {
      "needs_background": "light"
     },
     "output_type": "display_data"
    }
   ],
   "source": [
    "#As day of the week is qualitative a bar chart was used.\n",
    "\n",
    "#Labels added for clarity to a reader.\n",
    "days = ['Mon', ' Tues', 'Wed', 'Thur', 'Fri', 'Sat', 'Sun']\n",
    "\n",
    "rentals_by_day = df.day_of_week.value_counts()\n",
    "plt.bar(days, rentals_per_day)\n",
    "plt.ylabel('Monthly sum of rentals per day')\n",
    "plt.xlabel('Day of the week')\n",
    "plt.xticks(days);"
   ]
  },
  {
   "cell_type": "markdown",
   "metadata": {},
   "source": [
    "The bar chart shows the day with the most rentals being Thursday followed by Friday.  In contrast the weekend sees approximately half the rides as Thursday.\n",
    "\n",
    "We can now investigate if there is a certain time period in the day with an increase in rentals."
   ]
  },
  {
   "cell_type": "code",
   "execution_count": 55,
   "metadata": {},
   "outputs": [
    {
     "data": {
      "image/png": "[encoded data removed]",
      "text/plain": [
       "<Figure size 432x288 with 1 Axes>"
      ]
     },
     "metadata": {
      "needs_background": "light"
     },
     "output_type": "display_data"
    }
   ],
   "source": [
    "#Bar chart for the 4 time categories\n",
    "df.time_slot= pd.Categorical(df.time_slot, categories=['morn', 'afternoon', 'evening', 'late_night' ], ordered=True)\n",
    "\n",
    "time_cat = df.time_slot.value_counts()\n",
    "plt.bar(time_cat.index, time_cat)\n",
    "plt.ylabel('Monthly count of rentals per time slot');"
   ]
  },
  {
   "cell_type": "markdown",
   "metadata": {},
   "source": [
    "We can now look at the average duration of a trip, firstly by looking at the statistics and then creating visuals.  As the duration is a continuous quantitative variable it makes sense to use a histogram."
   ]
  },
  {
   "cell_type": "code",
   "execution_count": 27,
   "metadata": {},
   "outputs": [
    {
     "data": {
      "text/plain": [
       "count    210563.000000\n",
       "mean         13.891912\n",
       "std          32.137063\n",
       "min           1.016667\n",
       "25%           6.266667\n",
       "50%           9.883333\n",
       "75%          15.233333\n",
       "max        1424.866667\n",
       "Name: duration_min, dtype: float64"
      ]
     },
     "execution_count": 27,
     "metadata": {},
     "output_type": "execute_result"
    }
   ],
   "source": [
    "#Looking at the statistics of the duration in minutes variable we see that the spread is wide due to outliers above\n",
    "#the 75% quartile.\n",
    "df.duration_min.describe()"
   ]
  },
  {
   "cell_type": "code",
   "execution_count": 28,
   "metadata": {},
   "outputs": [
    {
     "data": {
      "image/png": "[encoded data removed]",
      "text/plain": [
       "<Figure size 432x288 with 1 Axes>"
      ]
     },
     "metadata": {
      "needs_background": "light"
     },
     "output_type": "display_data"
    }
   ],
   "source": [
    "#Plotting a basic histogram provides very little detail with the majority of the data lumped into the first bin.\n",
    "plt.hist(df.duration_min)\n",
    "plt.ylabel('Number of rentals')\n",
    "plt.xlabel('Rental duration (minutes)')\n",
    "plt.title('Number of rentals by duration');"
   ]
  },
  {
   "cell_type": "code",
   "execution_count": 29,
   "metadata": {},
   "outputs": [
    {
     "data": {
      "image/png": "[encoded data removed]",
      "text/plain": [
       "<Figure size 432x288 with 1 Axes>"
      ]
     },
     "metadata": {
      "needs_background": "light"
     },
     "output_type": "display_data"
    }
   ],
   "source": [
    "#By increasing the number of bins and setting an xlim() a lot more detail comes to light.\n",
    "plt.hist(df.duration_min, bins = 2000)\n",
    "plt.xlim(0,60)\n",
    "plt.ylabel('Number of rentals')\n",
    "plt.xlabel('Rental duration (minutes)')\n",
    "plt.title('Number of rentals by duration');"
   ]
  },
  {
   "cell_type": "code",
   "execution_count": 30,
   "metadata": {},
   "outputs": [
    {
     "data": {
      "image/png": "[encoded data removed]",
      "text/plain": [
       "<Figure size 576x360 with 1 Axes>"
      ]
     },
     "metadata": {
      "needs_background": "light"
     },
     "output_type": "display_data"
    }
   ],
   "source": [
    "#As this is a continuous variable, right skewed and has a long tail, we can do a log transformation to explore for \n",
    "#additional trends.\n",
    "step = .025\n",
    "bins = 10 ** np.arange(0, np.log10(df.duration_min.max())+step, step)\n",
    "plt.figure(figsize=[8, 5])\n",
    "plt.hist(data = df, x = 'duration_min', bins = bins)\n",
    "plt.xscale('log')\n",
    "plt.ylabel('Number of rentals')\n",
    "plt.xlabel('Rental duration in minutes (log)')\n",
    "plt.title('Number of rentals by duration')\n",
    "plt.xticks([1,10e0, 10e1, 10e2], ['1', '10', '100', '1000'])\n",
    "plt.show();"
   ]
  },
  {
   "cell_type": "markdown",
   "metadata": {},
   "source": [
    "The duration of rentals has a spread from 1 minute to 1,424 minutes.  As seen in the first chart, these outliers make a standard histogram to have little meaning.  Implementing xlim() and, alternatively, looking at the logarithmic transformation we clearly see that the ride durations are distributed around 10 minutes which compares nicely to the mean of 9.8.\n",
    "\n",
    "Now we move on to looking at the users from both an absolute and relative point of view."
   ]
  },
  {
   "cell_type": "code",
   "execution_count": 31,
   "metadata": {},
   "outputs": [
    {
     "data": {
      "text/plain": [
       "Subscriber    164928\n",
       "Customer       45635\n",
       "Name: user_type, dtype: int64"
      ]
     },
     "execution_count": 31,
     "metadata": {},
     "output_type": "execute_result"
    }
   ],
   "source": [
    "#Looking at the value counts it is quickly apparent that the users are mostly subscribers.\n",
    "df.user_type.value_counts()"
   ]
  },
  {
   "cell_type": "code",
   "execution_count": 32,
   "metadata": {},
   "outputs": [
    {
     "data": {
      "image/png": "[encoded data removed]",
      "text/plain": [
       "<Figure size 432x288 with 1 Axes>"
      ]
     },
     "metadata": {
      "needs_background": "light"
     },
     "output_type": "display_data"
    }
   ],
   "source": [
    "#We plot a bar chart as this variable is categorical.  We visually see the different in absolute numbers of the\n",
    "#users.\n",
    "users = df.user_type.value_counts()\n",
    "plt.bar(users.index, users )\n",
    "plt.ylabel('Count')\n",
    "plt.xlabel('Users by Category')\n",
    "plt.title('Total users');"
   ]
  },
  {
   "cell_type": "code",
   "execution_count": 33,
   "metadata": {},
   "outputs": [
    {
     "data": {
      "text/plain": [
       "(0.783271514938522, 0.21672848506147804)"
      ]
     },
     "execution_count": 33,
     "metadata": {},
     "output_type": "execute_result"
    }
   ],
   "source": [
    "#Calculating proportions to use for visualization in a pie chart.\n",
    "sub_prop = df.query('user_type == \"Subscriber\"').user_type.count()/df.shape[0]\n",
    "cust_prop = df.query('user_type == \"Customer\"').user_type.count()/df.shape[0]\n",
    "sub_prop, cust_prop"
   ]
  },
  {
   "cell_type": "code",
   "execution_count": 34,
   "metadata": {},
   "outputs": [
    {
     "data": {
      "text/plain": [
       "array([0.78327151, 0.21672849])"
      ]
     },
     "execution_count": 34,
     "metadata": {},
     "output_type": "execute_result"
    }
   ],
   "source": [
    "#Creating an array to use for the pie chart data.\n",
    "users = np.array([sub_prop, cust_prop])\n",
    "users"
   ]
  },
  {
   "cell_type": "code",
   "execution_count": 35,
   "metadata": {},
   "outputs": [
    {
     "data": {
      "image/png": "[encoded data removed]",
      "text/plain": [
       "<Figure size 432x288 with 1 Axes>"
      ]
     },
     "metadata": {},
     "output_type": "display_data"
    }
   ],
   "source": [
    "#Creating the pie chart, adding the percentages for clarity of the difference.\n",
    "plt.pie(users, labels = ['Subscribers', 'Customers'], autopct='%1.f%%')\n",
    "plt.title('Users');"
   ]
  },
  {
   "cell_type": "markdown",
   "metadata": {},
   "source": [
    "The users consist of two kinds: subscriber and customers. The subscribers are the bulk user with 78% of the rentals coming from this group."
   ]
  },
  {
   "cell_type": "code",
   "execution_count": 36,
   "metadata": {},
   "outputs": [],
   "source": [
    "df_sub = df.query('user_type == \"Subscriber\"')\n",
    "df_cust = df.query('user_type == \"Customer\"')"
   ]
  },
  {
   "cell_type": "code",
   "execution_count": 37,
   "metadata": {},
   "outputs": [
    {
     "data": {
      "image/png": "[encoded data removed]",
      "text/plain": [
       "<Figure size 576x576 with 2 Axes>"
      ]
     },
     "metadata": {
      "needs_background": "light"
     },
     "output_type": "display_data"
    }
   ],
   "source": [
    "#Day of week and customer\n",
    "fig, ax = plt.subplots(nrows=2, figsize = [8,8])\n",
    "\n",
    "base_color = sb.color_palette()[0]\n",
    "sb.countplot(data = df_sub, x = 'day_of_week', color = base_color, ax = ax[0])\n",
    "sb.countplot(data = df_cust, x = 'day_of_week', color = base_color, ax = ax[1] )\n",
    "\n",
    "plt.show()"
   ]
  },
  {
   "cell_type": "code",
   "execution_count": 38,
   "metadata": {},
   "outputs": [
    {
     "data": {
      "text/plain": [
       "1.6739984457423"
      ]
     },
     "execution_count": 38,
     "metadata": {},
     "output_type": "execute_result"
    }
   ],
   "source": [
    "df.distance.mean()"
   ]
  },
  {
   "cell_type": "code",
   "execution_count": 39,
   "metadata": {},
   "outputs": [
    {
     "data": {
      "image/png": "[encoded data removed]",
      "text/plain": [
       "<Figure size 432x288 with 1 Axes>"
      ]
     },
     "metadata": {
      "needs_background": "light"
     },
     "output_type": "display_data"
    }
   ],
   "source": [
    "plt.hist(data = df, x = 'distance', bins = 200)\n",
    "plt.xlabel('Distance')\n",
    "plt.ylabel('Count')\n",
    "plt.xlim(0,10);"
   ]
  },
  {
   "cell_type": "markdown",
   "metadata": {},
   "source": [
    "### Discuss the distribution(s) of your variable(s) of interest. Were there any unusual points? Did you need to perform any transformations?\n",
    "\n",
    "> Your answer here!\n",
    "\n",
    "### Of the features you investigated, were there any unusual distributions? Did you perform any operations on the data to tidy, adjust, or change the form of the data? If so, why did you do this?\n",
    "\n",
    "> Your answer here!"
   ]
  },
  {
   "cell_type": "markdown",
   "metadata": {},
   "source": [
    "## Bivariate Exploration"
   ]
  },
  {
   "cell_type": "markdown",
   "metadata": {},
   "source": [
    "Digging deeper into ride duration we are interested to see the duration of rides per day of the week. We start by looking at the value counts and the quartiles to understand the spread of the duration data."
   ]
  },
  {
   "cell_type": "code",
   "execution_count": 40,
   "metadata": {},
   "outputs": [
    {
     "data": {
      "text/plain": [
       "5.050000      296\n",
       "7.383333      294\n",
       "6.166667      293\n",
       "5.916667      291\n",
       "5.350000      287\n",
       "             ... \n",
       "179.966667      1\n",
       "47.650000       1\n",
       "88.300000       1\n",
       "178.383333      1\n",
       "96.083333       1\n",
       "Name: duration_min, Length: 5611, dtype: int64"
      ]
     },
     "execution_count": 40,
     "metadata": {},
     "output_type": "execute_result"
    }
   ],
   "source": [
    "df.duration_min.value_counts()"
   ]
  },
  {
   "cell_type": "code",
   "execution_count": 41,
   "metadata": {},
   "outputs": [
    {
     "data": {
      "text/plain": [
       "45.6"
      ]
     },
     "execution_count": 41,
     "metadata": {},
     "output_type": "execute_result"
    }
   ],
   "source": [
    "#We see that 95% of the data is within a 30minute duration.\n",
    "df.duration_min.quantile(q = .98)"
   ]
  },
  {
   "cell_type": "code",
   "execution_count": 42,
   "metadata": {},
   "outputs": [
    {
     "data": {
      "text/plain": [
       "3    39472\n",
       "4    36420\n",
       "2    32879\n",
       "1    32529\n",
       "0    31353\n",
       "5    21365\n",
       "6    16545\n",
       "Name: day_of_week, dtype: int64"
      ]
     },
     "execution_count": 42,
     "metadata": {},
     "output_type": "execute_result"
    }
   ],
   "source": [
    "df.day_of_week.value_counts()"
   ]
  },
  {
   "cell_type": "code",
   "execution_count": 43,
   "metadata": {},
   "outputs": [],
   "source": [
    "#98% of the data falls within 30 minutes or less. We create a smaller df that doesn't include outliers. \n",
    "df_no_outliers = df.query('duration_min < 46')"
   ]
  },
  {
   "cell_type": "code",
   "execution_count": 44,
   "metadata": {},
   "outputs": [],
   "source": [
    "#df.day_of_week= pd.Categorical(df.day_of_week, categories=['Mon', 'Tue', 'Wed', 'Thu', 'Fri', 'Sat', 'Sun'], ordered=True)\n",
    "#plt.scatter(data = df_no_outliers, x = 'day_of_week', y = 'duration_min', alpha = .04);"
   ]
  },
  {
   "cell_type": "code",
   "execution_count": 63,
   "metadata": {},
   "outputs": [
    {
     "data": {
      "image/png": "[encoded data removed]",
      "text/plain": [
       "<Figure size 576x360 with 1 Axes>"
      ]
     },
     "metadata": {
      "needs_background": "light"
     },
     "output_type": "display_data"
    }
   ],
   "source": [
    "#We use the box plot as the variables being analyzed are quantitative (duration) versus qualitative (user). \n",
    "#The box chart is also good for explanatory analysis.\n",
    "plt.figure(figsize=[8, 5])\n",
    "base_color = sb.color_palette()[0]\n",
    "sb.boxplot(data = df_no_outliers, x = 'day_of_week', y = 'duration_min', color = base_color)\n",
    "plt.xlabel('Day of week')\n",
    "plt.ylabel('Rental duration (mins)')\n",
    "plt.title('Rental Duration by Day')\n",
    "plt.xticks([0,1,2,3,4,5,6], ['Mon', 'Tues', 'Wed', 'Thurs', 'Fri', 'Sat', 'Sun']);"
   ]
  },
  {
   "cell_type": "markdown",
   "metadata": {},
   "source": [
    "We see that the rental duration is longer on weekend in comparison to the rest of the week. In fact, there appears to be two clusters - the week days are very similar and the weekend days are very similar."
   ]
  },
  {
   "cell_type": "code",
   "execution_count": 64,
   "metadata": {},
   "outputs": [
    {
     "data": {
      "image/png": "[encoded data removed]",
      "text/plain": [
       "<Figure size 576x360 with 1 Axes>"
      ]
     },
     "metadata": {
      "needs_background": "light"
     },
     "output_type": "display_data"
    }
   ],
   "source": [
    "#Day and Time of Day\n",
    "plt.figure(figsize=[8, 5])\n",
    "base_color = sb.color_palette()[0]\n",
    "sb.countplot(data = df, x = 'day_of_week', hue = 'time_slot', color = base_color);\n",
    "plt.xlabel('Day of week')\n",
    "plt.ylabel('Number of rentals')\n",
    "plt.title('Rentals by Day and Time Period')\n",
    "plt.xticks([0,1,2,3,4,5,6], ['Mon', 'Tues', 'Wed', 'Thurs', 'Fri', 'Sat', 'Sun']);"
   ]
  },
  {
   "cell_type": "code",
   "execution_count": 76,
   "metadata": {},
   "outputs": [
    {
     "data": {
      "image/png": "[encoded data removed]",
      "text/plain": [
       "<Figure size 576x360 with 1 Axes>"
      ]
     },
     "metadata": {
      "needs_background": "light"
     },
     "output_type": "display_data"
    }
   ],
   "source": [
    "#Users and Day of Week\n",
    "plt.figure(figsize=[8, 5])\n",
    "base_color = sb.color_palette()[0]\n",
    "sb.countplot(data = df, x = 'day_of_week', hue = 'user_type', color = base_color);\n",
    "plt.xlabel('Day of week')\n",
    "plt.ylabel('Number of rentals')\n",
    "plt.title('Rentals by User Type by Day')\n",
    "plt.legend(['Customer','Subscriber'])\n",
    "plt.xticks([0,1,2,3,4,5,6], ['Mon', 'Tues', 'Wed', 'Thurs', 'Fri', 'Sat', 'Sun']);"
   ]
  },
  {
   "cell_type": "markdown",
   "metadata": {},
   "source": [
    "These are total numbers.  The trend to see is that the subscriber use drops significantly on the weekend while the customer use increases to its highest point on Saturday."
   ]
  },
  {
   "cell_type": "markdown",
   "metadata": {},
   "source": [
    "We will now look at the duration by the type of users to see if customers and subscribers rent in a similar or different fashion."
   ]
  },
  {
   "cell_type": "code",
   "execution_count": 46,
   "metadata": {},
   "outputs": [
    {
     "data": {
      "image/png": "[encoded data removed]",
      "text/plain": [
       "<Figure size 432x288 with 1 Axes>"
      ]
     },
     "metadata": {
      "needs_background": "light"
     },
     "output_type": "display_data"
    }
   ],
   "source": [
    "#Using a box plt\n",
    "sb.boxplot(data = df_no_outliers, x = 'user_type', y = 'duration_min', color = base_color)\n",
    "plt.xlabel('Type of user')\n",
    "plt.ylabel('Rental duration (mins)')\n",
    "plt.title('Rental Duration by User');"
   ]
  },
  {
   "cell_type": "markdown",
   "metadata": {},
   "source": [
    "The box plot is informative and shows us that customers rent for a longer period of time.  However, to understand the distribution we look at a violin plot."
   ]
  },
  {
   "cell_type": "code",
   "execution_count": 47,
   "metadata": {},
   "outputs": [
    {
     "data": {
      "image/png": "[encoded data removed]",
      "text/plain": [
       "<Figure size 432x288 with 1 Axes>"
      ]
     },
     "metadata": {
      "needs_background": "light"
     },
     "output_type": "display_data"
    }
   ],
   "source": [
    "sb.violinplot(data = df_no_outliers, x = 'user_type', y = 'duration_min', color = base_color)\n",
    "plt.xlabel('Type of user')\n",
    "plt.ylabel('Rental duration (mins)')\n",
    "plt.title('Rental Duration by User');"
   ]
  },
  {
   "cell_type": "markdown",
   "metadata": {},
   "source": [
    "Subscribers used the bikes more often and for shorter durations of time.  Whereas a customer appears to rent a bike more for longer trips which can be seen in the violin plot's distribution tails.\n",
    "\n",
    "Reflecting back on the pie chart in the univariate section, we recall that subscribers made up 78% of the user base. When looking at the distrubtion we see that the majority of these trips are 5 minutes in duration.  "
   ]
  },
  {
   "cell_type": "code",
   "execution_count": 48,
   "metadata": {},
   "outputs": [
    {
     "data": {
      "text/html": [
       "<div>\n",
       "<style scoped>\n",
       "    .dataframe tbody tr th:only-of-type {\n",
       "        vertical-align: middle;\n",
       "    }\n",
       "\n",
       "    .dataframe tbody tr th {\n",
       "        vertical-align: top;\n",
       "    }\n",
       "\n",
       "    .dataframe thead th {\n",
       "        text-align: right;\n",
       "    }\n",
       "</style>\n",
       "<table border=\"1\" class=\"dataframe\">\n",
       "  <thead>\n",
       "    <tr style=\"text-align: right;\">\n",
       "      <th></th>\n",
       "      <th>duration_sec</th>\n",
       "      <th>duration_min</th>\n",
       "      <th>start_time</th>\n",
       "      <th>end_time</th>\n",
       "      <th>time_slot</th>\n",
       "      <th>day_of_week</th>\n",
       "      <th>start_station_id</th>\n",
       "      <th>start_station_name</th>\n",
       "      <th>start_station_latitude</th>\n",
       "      <th>start_station_longitude</th>\n",
       "      <th>end_station_id</th>\n",
       "      <th>end_station_name</th>\n",
       "      <th>end_station_latitude</th>\n",
       "      <th>end_station_longitude</th>\n",
       "      <th>bike_id</th>\n",
       "      <th>user_type</th>\n",
       "      <th>bike_share_for_all_trip</th>\n",
       "      <th>distance</th>\n",
       "    </tr>\n",
       "  </thead>\n",
       "  <tbody>\n",
       "    <tr>\n",
       "      <td>184914</td>\n",
       "      <td>8967</td>\n",
       "      <td>149.450000</td>\n",
       "      <td>2019-08-05 09:50:29.207</td>\n",
       "      <td>2019-08-05 12:19:56.392</td>\n",
       "      <td>morn</td>\n",
       "      <td>0</td>\n",
       "      <td>230</td>\n",
       "      <td>14th St at Mandela Pkwy</td>\n",
       "      <td>37.810743</td>\n",
       "      <td>-122.291415</td>\n",
       "      <td>3</td>\n",
       "      <td>Powell St BART Station (Market St at 4th St)</td>\n",
       "      <td>37.786375</td>\n",
       "      <td>-122.404904</td>\n",
       "      <td>1580</td>\n",
       "      <td>Subscriber</td>\n",
       "      <td>No</td>\n",
       "      <td>10.326583</td>\n",
       "    </tr>\n",
       "    <tr>\n",
       "      <td>169042</td>\n",
       "      <td>2554</td>\n",
       "      <td>42.566667</td>\n",
       "      <td>2019-08-07 14:11:05.196</td>\n",
       "      <td>2019-08-07 14:53:40.162</td>\n",
       "      <td>afternoon</td>\n",
       "      <td>2</td>\n",
       "      <td>231</td>\n",
       "      <td>14th St at Filbert St</td>\n",
       "      <td>37.808750</td>\n",
       "      <td>-122.283282</td>\n",
       "      <td>5</td>\n",
       "      <td>Powell St BART Station (Market St at 5th St)</td>\n",
       "      <td>37.783899</td>\n",
       "      <td>-122.408445</td>\n",
       "      <td>1804</td>\n",
       "      <td>Subscriber</td>\n",
       "      <td>No</td>\n",
       "      <td>11.332203</td>\n",
       "    </tr>\n",
       "    <tr>\n",
       "      <td>169080</td>\n",
       "      <td>4141</td>\n",
       "      <td>69.016667</td>\n",
       "      <td>2019-08-07 13:34:20.528</td>\n",
       "      <td>2019-08-07 14:43:22.427</td>\n",
       "      <td>afternoon</td>\n",
       "      <td>2</td>\n",
       "      <td>44</td>\n",
       "      <td>Civic Center/UN Plaza BART Station (Market St ...</td>\n",
       "      <td>37.781074</td>\n",
       "      <td>-122.411738</td>\n",
       "      <td>171</td>\n",
       "      <td>Rockridge BART Station</td>\n",
       "      <td>37.844279</td>\n",
       "      <td>-122.251900</td>\n",
       "      <td>2072</td>\n",
       "      <td>Customer</td>\n",
       "      <td>No</td>\n",
       "      <td>15.691964</td>\n",
       "    </tr>\n",
       "    <tr>\n",
       "      <td>153914</td>\n",
       "      <td>81623</td>\n",
       "      <td>1360.383333</td>\n",
       "      <td>2019-08-08 16:11:43.306</td>\n",
       "      <td>2019-08-09 14:52:07.181</td>\n",
       "      <td>afternoon</td>\n",
       "      <td>3</td>\n",
       "      <td>269</td>\n",
       "      <td>Telegraph Ave at Carleton St</td>\n",
       "      <td>37.862320</td>\n",
       "      <td>-122.258801</td>\n",
       "      <td>344</td>\n",
       "      <td>16th St Depot</td>\n",
       "      <td>37.766349</td>\n",
       "      <td>-122.396292</td>\n",
       "      <td>3527</td>\n",
       "      <td>Customer</td>\n",
       "      <td>No</td>\n",
       "      <td>16.106757</td>\n",
       "    </tr>\n",
       "    <tr>\n",
       "      <td>34692</td>\n",
       "      <td>5986</td>\n",
       "      <td>99.766667</td>\n",
       "      <td>2019-08-27 06:32:46.668</td>\n",
       "      <td>2019-08-27 08:12:33.077</td>\n",
       "      <td>morn</td>\n",
       "      <td>1</td>\n",
       "      <td>305</td>\n",
       "      <td>Ryland Park</td>\n",
       "      <td>37.342725</td>\n",
       "      <td>-121.895617</td>\n",
       "      <td>72</td>\n",
       "      <td>Page St at Scott St</td>\n",
       "      <td>37.772406</td>\n",
       "      <td>-122.435650</td>\n",
       "      <td>9244</td>\n",
       "      <td>Subscriber</td>\n",
       "      <td>No</td>\n",
       "      <td>67.402478</td>\n",
       "    </tr>\n",
       "  </tbody>\n",
       "</table>\n",
       "</div>"
      ],
      "text/plain": [
       "        duration_sec  duration_min              start_time  \\\n",
       "184914          8967    149.450000 2019-08-05 09:50:29.207   \n",
       "169042          2554     42.566667 2019-08-07 14:11:05.196   \n",
       "169080          4141     69.016667 2019-08-07 13:34:20.528   \n",
       "153914         81623   1360.383333 2019-08-08 16:11:43.306   \n",
       "34692           5986     99.766667 2019-08-27 06:32:46.668   \n",
       "\n",
       "                      end_time  time_slot  day_of_week  start_station_id  \\\n",
       "184914 2019-08-05 12:19:56.392       morn            0               230   \n",
       "169042 2019-08-07 14:53:40.162  afternoon            2               231   \n",
       "169080 2019-08-07 14:43:22.427  afternoon            2                44   \n",
       "153914 2019-08-09 14:52:07.181  afternoon            3               269   \n",
       "34692  2019-08-27 08:12:33.077       morn            1               305   \n",
       "\n",
       "                                       start_station_name  \\\n",
       "184914                            14th St at Mandela Pkwy   \n",
       "169042                              14th St at Filbert St   \n",
       "169080  Civic Center/UN Plaza BART Station (Market St ...   \n",
       "153914                       Telegraph Ave at Carleton St   \n",
       "34692                                         Ryland Park   \n",
       "\n",
       "        start_station_latitude  start_station_longitude  end_station_id  \\\n",
       "184914               37.810743              -122.291415               3   \n",
       "169042               37.808750              -122.283282               5   \n",
       "169080               37.781074              -122.411738             171   \n",
       "153914               37.862320              -122.258801             344   \n",
       "34692                37.342725              -121.895617              72   \n",
       "\n",
       "                                    end_station_name  end_station_latitude  \\\n",
       "184914  Powell St BART Station (Market St at 4th St)             37.786375   \n",
       "169042  Powell St BART Station (Market St at 5th St)             37.783899   \n",
       "169080                        Rockridge BART Station             37.844279   \n",
       "153914                                 16th St Depot             37.766349   \n",
       "34692                            Page St at Scott St             37.772406   \n",
       "\n",
       "        end_station_longitude  bike_id   user_type bike_share_for_all_trip  \\\n",
       "184914            -122.404904     1580  Subscriber                      No   \n",
       "169042            -122.408445     1804  Subscriber                      No   \n",
       "169080            -122.251900     2072    Customer                      No   \n",
       "153914            -122.396292     3527    Customer                      No   \n",
       "34692             -122.435650     9244  Subscriber                      No   \n",
       "\n",
       "         distance  \n",
       "184914  10.326583  \n",
       "169042  11.332203  \n",
       "169080  15.691964  \n",
       "153914  16.106757  \n",
       "34692   67.402478  "
      ]
     },
     "execution_count": 48,
     "metadata": {},
     "output_type": "execute_result"
    }
   ],
   "source": [
    "df.sort_values(by='distance').tail()"
   ]
  },
  {
   "cell_type": "code",
   "execution_count": 49,
   "metadata": {},
   "outputs": [
    {
     "data": {
      "image/png": "[encoded data removed]",
      "text/plain": [
       "<Figure size 432x288 with 1 Axes>"
      ]
     },
     "metadata": {
      "needs_background": "light"
     },
     "output_type": "display_data"
    }
   ],
   "source": [
    "#Using original df\n",
    "plt.scatter(data = df, x = 'duration_min', y = 'distance', alpha = .2)\n",
    "plt.ylabel('Distance travelled')\n",
    "plt.xlabel('Duration (minutes)')\n",
    "plt.show()"
   ]
  },
  {
   "cell_type": "code",
   "execution_count": 50,
   "metadata": {},
   "outputs": [
    {
     "data": {
      "image/png": "[encoded data removed]",
      "text/plain": [
       "<Figure size 432x288 with 1 Axes>"
      ]
     },
     "metadata": {
      "needs_background": "light"
     },
     "output_type": "display_data"
    }
   ],
   "source": [
    "#Original df\n",
    "plt.scatter(data = df, x = 'duration_min', y = 'distance', alpha = .2)\n",
    "plt.ylabel('Distance travelled')\n",
    "plt.xlabel('Duration (minutes)')\n",
    "plt.ylim(0,10)\n",
    "plt.xlim(0,200);"
   ]
  },
  {
   "cell_type": "code",
   "execution_count": 51,
   "metadata": {},
   "outputs": [
    {
     "data": {
      "text/plain": [
       "count    210563.000000\n",
       "mean          1.673998\n",
       "std           1.059922\n",
       "min           0.000000\n",
       "25%           0.930881\n",
       "50%           1.444599\n",
       "75%           2.188723\n",
       "max          67.402478\n",
       "Name: distance, dtype: float64"
      ]
     },
     "execution_count": 51,
     "metadata": {},
     "output_type": "execute_result"
    }
   ],
   "source": [
    "df.distance.describe()"
   ]
  },
  {
   "cell_type": "markdown",
   "metadata": {},
   "source": [
    "Keep in mind this shows distance between stations so is the minimum distance travelled.  There is also a distance of 0 for users that returned the bike to the same station.\n",
    "\n",
    "Shorter periods of time, people go further.\n",
    "\n",
    "The mean distance is "
   ]
  },
  {
   "cell_type": "markdown",
   "metadata": {},
   "source": [
    "### Talk about some of the relationships you observed in this part of the investigation. How did the feature(s) of interest vary with other features in the dataset?\n",
    "\n",
    "> Your answer here!\n",
    "\n",
    "### Did you observe any interesting relationships between the other features (not the main feature(s) of interest)?\n",
    "\n",
    "> Your answer here!"
   ]
  },
  {
   "cell_type": "markdown",
   "metadata": {},
   "source": [
    "## Multivariate Exploration"
   ]
  },
  {
   "cell_type": "code",
   "execution_count": 52,
   "metadata": {},
   "outputs": [
    {
     "data": {
      "text/html": [
       "<div>\n",
       "<style scoped>\n",
       "    .dataframe tbody tr th:only-of-type {\n",
       "        vertical-align: middle;\n",
       "    }\n",
       "\n",
       "    .dataframe tbody tr th {\n",
       "        vertical-align: top;\n",
       "    }\n",
       "\n",
       "    .dataframe thead th {\n",
       "        text-align: right;\n",
       "    }\n",
       "</style>\n",
       "<table border=\"1\" class=\"dataframe\">\n",
       "  <thead>\n",
       "    <tr style=\"text-align: right;\">\n",
       "      <th></th>\n",
       "      <th>duration_sec</th>\n",
       "      <th>duration_min</th>\n",
       "      <th>start_time</th>\n",
       "      <th>end_time</th>\n",
       "      <th>time_slot</th>\n",
       "      <th>day_of_week</th>\n",
       "      <th>start_station_id</th>\n",
       "      <th>start_station_name</th>\n",
       "      <th>start_station_latitude</th>\n",
       "      <th>start_station_longitude</th>\n",
       "      <th>end_station_id</th>\n",
       "      <th>end_station_name</th>\n",
       "      <th>end_station_latitude</th>\n",
       "      <th>end_station_longitude</th>\n",
       "      <th>bike_id</th>\n",
       "      <th>user_type</th>\n",
       "      <th>bike_share_for_all_trip</th>\n",
       "      <th>distance</th>\n",
       "    </tr>\n",
       "  </thead>\n",
       "  <tbody>\n",
       "    <tr>\n",
       "      <td>0</td>\n",
       "      <td>68145</td>\n",
       "      <td>1135.750000</td>\n",
       "      <td>2019-08-31 21:27:42.253</td>\n",
       "      <td>2019-09-01 16:23:27.492</td>\n",
       "      <td>evening</td>\n",
       "      <td>5</td>\n",
       "      <td>249</td>\n",
       "      <td>Russell St at College Ave</td>\n",
       "      <td>37.858473</td>\n",
       "      <td>-122.253253</td>\n",
       "      <td>247</td>\n",
       "      <td>Fulton St at Bancroft Way</td>\n",
       "      <td>37.867789</td>\n",
       "      <td>-122.265896</td>\n",
       "      <td>3112</td>\n",
       "      <td>Customer</td>\n",
       "      <td>No</td>\n",
       "      <td>1.517270</td>\n",
       "    </tr>\n",
       "    <tr>\n",
       "      <td>1</td>\n",
       "      <td>53216</td>\n",
       "      <td>886.933333</td>\n",
       "      <td>2019-08-31 22:34:17.512</td>\n",
       "      <td>2019-09-01 13:21:13.931</td>\n",
       "      <td>evening</td>\n",
       "      <td>5</td>\n",
       "      <td>368</td>\n",
       "      <td>Myrtle St at Polk St</td>\n",
       "      <td>37.785434</td>\n",
       "      <td>-122.419622</td>\n",
       "      <td>78</td>\n",
       "      <td>Folsom St at 9th St</td>\n",
       "      <td>37.773717</td>\n",
       "      <td>-122.411647</td>\n",
       "      <td>2440</td>\n",
       "      <td>Customer</td>\n",
       "      <td>No</td>\n",
       "      <td>1.478463</td>\n",
       "    </tr>\n",
       "    <tr>\n",
       "      <td>2</td>\n",
       "      <td>53182</td>\n",
       "      <td>886.366667</td>\n",
       "      <td>2019-08-31 22:34:49.942</td>\n",
       "      <td>2019-09-01 13:21:12.457</td>\n",
       "      <td>evening</td>\n",
       "      <td>5</td>\n",
       "      <td>368</td>\n",
       "      <td>Myrtle St at Polk St</td>\n",
       "      <td>37.785434</td>\n",
       "      <td>-122.419622</td>\n",
       "      <td>78</td>\n",
       "      <td>Folsom St at 9th St</td>\n",
       "      <td>37.773717</td>\n",
       "      <td>-122.411647</td>\n",
       "      <td>9743</td>\n",
       "      <td>Customer</td>\n",
       "      <td>No</td>\n",
       "      <td>1.478463</td>\n",
       "    </tr>\n",
       "    <tr>\n",
       "      <td>3</td>\n",
       "      <td>75682</td>\n",
       "      <td>1261.366667</td>\n",
       "      <td>2019-08-31 14:22:02.278</td>\n",
       "      <td>2019-09-01 11:23:24.511</td>\n",
       "      <td>afternoon</td>\n",
       "      <td>5</td>\n",
       "      <td>104</td>\n",
       "      <td>4th St at 16th St</td>\n",
       "      <td>37.767045</td>\n",
       "      <td>-122.390833</td>\n",
       "      <td>126</td>\n",
       "      <td>Esprit Park</td>\n",
       "      <td>37.761634</td>\n",
       "      <td>-122.390648</td>\n",
       "      <td>11418</td>\n",
       "      <td>Subscriber</td>\n",
       "      <td>No</td>\n",
       "      <td>0.601439</td>\n",
       "    </tr>\n",
       "    <tr>\n",
       "      <td>4</td>\n",
       "      <td>30849</td>\n",
       "      <td>514.150000</td>\n",
       "      <td>2019-08-31 18:47:08.057</td>\n",
       "      <td>2019-09-01 03:21:17.697</td>\n",
       "      <td>evening</td>\n",
       "      <td>5</td>\n",
       "      <td>327</td>\n",
       "      <td>5th St at San Salvador St</td>\n",
       "      <td>37.332039</td>\n",
       "      <td>-121.881766</td>\n",
       "      <td>327</td>\n",
       "      <td>5th St at San Salvador St</td>\n",
       "      <td>37.332039</td>\n",
       "      <td>-121.881766</td>\n",
       "      <td>1553</td>\n",
       "      <td>Customer</td>\n",
       "      <td>No</td>\n",
       "      <td>0.000000</td>\n",
       "    </tr>\n",
       "  </tbody>\n",
       "</table>\n",
       "</div>"
      ],
      "text/plain": [
       "   duration_sec  duration_min              start_time                end_time  \\\n",
       "0         68145   1135.750000 2019-08-31 21:27:42.253 2019-09-01 16:23:27.492   \n",
       "1         53216    886.933333 2019-08-31 22:34:17.512 2019-09-01 13:21:13.931   \n",
       "2         53182    886.366667 2019-08-31 22:34:49.942 2019-09-01 13:21:12.457   \n",
       "3         75682   1261.366667 2019-08-31 14:22:02.278 2019-09-01 11:23:24.511   \n",
       "4         30849    514.150000 2019-08-31 18:47:08.057 2019-09-01 03:21:17.697   \n",
       "\n",
       "   time_slot  day_of_week  start_station_id         start_station_name  \\\n",
       "0    evening            5               249  Russell St at College Ave   \n",
       "1    evening            5               368       Myrtle St at Polk St   \n",
       "2    evening            5               368       Myrtle St at Polk St   \n",
       "3  afternoon            5               104          4th St at 16th St   \n",
       "4    evening            5               327  5th St at San Salvador St   \n",
       "\n",
       "   start_station_latitude  start_station_longitude  end_station_id  \\\n",
       "0               37.858473              -122.253253             247   \n",
       "1               37.785434              -122.419622              78   \n",
       "2               37.785434              -122.419622              78   \n",
       "3               37.767045              -122.390833             126   \n",
       "4               37.332039              -121.881766             327   \n",
       "\n",
       "            end_station_name  end_station_latitude  end_station_longitude  \\\n",
       "0  Fulton St at Bancroft Way             37.867789            -122.265896   \n",
       "1        Folsom St at 9th St             37.773717            -122.411647   \n",
       "2        Folsom St at 9th St             37.773717            -122.411647   \n",
       "3                Esprit Park             37.761634            -122.390648   \n",
       "4  5th St at San Salvador St             37.332039            -121.881766   \n",
       "\n",
       "   bike_id   user_type bike_share_for_all_trip  distance  \n",
       "0     3112    Customer                      No  1.517270  \n",
       "1     2440    Customer                      No  1.478463  \n",
       "2     9743    Customer                      No  1.478463  \n",
       "3    11418  Subscriber                      No  0.601439  \n",
       "4     1553    Customer                      No  0.000000  "
      ]
     },
     "execution_count": 52,
     "metadata": {},
     "output_type": "execute_result"
    }
   ],
   "source": [
    "df.head()"
   ]
  },
  {
   "cell_type": "code",
   "execution_count": 110,
   "metadata": {},
   "outputs": [
    {
     "data": {
      "image/png": "[encoded data removed]",
      "text/plain": [
       "<Figure size 449.125x360 with 1 Axes>"
      ]
     },
     "metadata": {
      "needs_background": "light"
     },
     "output_type": "display_data"
    }
   ],
   "source": [
    "#Original df\n",
    "g = sb.FacetGrid(data = df, hue = 'user_type', height = 5)\n",
    "g.map(plt.scatter,'duration_min', 'distance')\n",
    "plt.ylim(0,10)\n",
    "plt.xlim(0,200)\n",
    "g.add_legend();"
   ]
  },
  {
   "cell_type": "markdown",
   "metadata": {},
   "source": [
    "Builds upon the charts we saw in the earlier sections...\n",
    "Subscribers "
   ]
  },
  {
   "cell_type": "code",
   "execution_count": 125,
   "metadata": {},
   "outputs": [
    {
     "data": {
      "text/html": [
       "<div>\n",
       "<style scoped>\n",
       "    .dataframe tbody tr th:only-of-type {\n",
       "        vertical-align: middle;\n",
       "    }\n",
       "\n",
       "    .dataframe tbody tr th {\n",
       "        vertical-align: top;\n",
       "    }\n",
       "\n",
       "    .dataframe thead th {\n",
       "        text-align: right;\n",
       "    }\n",
       "</style>\n",
       "<table border=\"1\" class=\"dataframe\">\n",
       "  <thead>\n",
       "    <tr style=\"text-align: right;\">\n",
       "      <th></th>\n",
       "      <th>duration_sec</th>\n",
       "      <th>duration_min</th>\n",
       "      <th>start_time</th>\n",
       "      <th>end_time</th>\n",
       "      <th>time_slot</th>\n",
       "      <th>day_of_week</th>\n",
       "      <th>start_station_id</th>\n",
       "      <th>start_station_name</th>\n",
       "      <th>start_station_latitude</th>\n",
       "      <th>start_station_longitude</th>\n",
       "      <th>end_station_id</th>\n",
       "      <th>end_station_name</th>\n",
       "      <th>end_station_latitude</th>\n",
       "      <th>end_station_longitude</th>\n",
       "      <th>bike_id</th>\n",
       "      <th>user_type</th>\n",
       "      <th>bike_share_for_all_trip</th>\n",
       "      <th>distance</th>\n",
       "    </tr>\n",
       "  </thead>\n",
       "  <tbody>\n",
       "    <tr>\n",
       "      <td>0</td>\n",
       "      <td>68145</td>\n",
       "      <td>1135.750000</td>\n",
       "      <td>2019-08-31 21:27:42.253</td>\n",
       "      <td>2019-09-01 16:23:27.492</td>\n",
       "      <td>evening</td>\n",
       "      <td>5</td>\n",
       "      <td>249</td>\n",
       "      <td>Russell St at College Ave</td>\n",
       "      <td>37.858473</td>\n",
       "      <td>-122.253253</td>\n",
       "      <td>247</td>\n",
       "      <td>Fulton St at Bancroft Way</td>\n",
       "      <td>37.867789</td>\n",
       "      <td>-122.265896</td>\n",
       "      <td>3112</td>\n",
       "      <td>Customer</td>\n",
       "      <td>No</td>\n",
       "      <td>1.517270</td>\n",
       "    </tr>\n",
       "    <tr>\n",
       "      <td>1</td>\n",
       "      <td>53216</td>\n",
       "      <td>886.933333</td>\n",
       "      <td>2019-08-31 22:34:17.512</td>\n",
       "      <td>2019-09-01 13:21:13.931</td>\n",
       "      <td>evening</td>\n",
       "      <td>5</td>\n",
       "      <td>368</td>\n",
       "      <td>Myrtle St at Polk St</td>\n",
       "      <td>37.785434</td>\n",
       "      <td>-122.419622</td>\n",
       "      <td>78</td>\n",
       "      <td>Folsom St at 9th St</td>\n",
       "      <td>37.773717</td>\n",
       "      <td>-122.411647</td>\n",
       "      <td>2440</td>\n",
       "      <td>Customer</td>\n",
       "      <td>No</td>\n",
       "      <td>1.478463</td>\n",
       "    </tr>\n",
       "    <tr>\n",
       "      <td>2</td>\n",
       "      <td>53182</td>\n",
       "      <td>886.366667</td>\n",
       "      <td>2019-08-31 22:34:49.942</td>\n",
       "      <td>2019-09-01 13:21:12.457</td>\n",
       "      <td>evening</td>\n",
       "      <td>5</td>\n",
       "      <td>368</td>\n",
       "      <td>Myrtle St at Polk St</td>\n",
       "      <td>37.785434</td>\n",
       "      <td>-122.419622</td>\n",
       "      <td>78</td>\n",
       "      <td>Folsom St at 9th St</td>\n",
       "      <td>37.773717</td>\n",
       "      <td>-122.411647</td>\n",
       "      <td>9743</td>\n",
       "      <td>Customer</td>\n",
       "      <td>No</td>\n",
       "      <td>1.478463</td>\n",
       "    </tr>\n",
       "    <tr>\n",
       "      <td>3</td>\n",
       "      <td>75682</td>\n",
       "      <td>1261.366667</td>\n",
       "      <td>2019-08-31 14:22:02.278</td>\n",
       "      <td>2019-09-01 11:23:24.511</td>\n",
       "      <td>afternoon</td>\n",
       "      <td>5</td>\n",
       "      <td>104</td>\n",
       "      <td>4th St at 16th St</td>\n",
       "      <td>37.767045</td>\n",
       "      <td>-122.390833</td>\n",
       "      <td>126</td>\n",
       "      <td>Esprit Park</td>\n",
       "      <td>37.761634</td>\n",
       "      <td>-122.390648</td>\n",
       "      <td>11418</td>\n",
       "      <td>Subscriber</td>\n",
       "      <td>No</td>\n",
       "      <td>0.601439</td>\n",
       "    </tr>\n",
       "    <tr>\n",
       "      <td>4</td>\n",
       "      <td>30849</td>\n",
       "      <td>514.150000</td>\n",
       "      <td>2019-08-31 18:47:08.057</td>\n",
       "      <td>2019-09-01 03:21:17.697</td>\n",
       "      <td>evening</td>\n",
       "      <td>5</td>\n",
       "      <td>327</td>\n",
       "      <td>5th St at San Salvador St</td>\n",
       "      <td>37.332039</td>\n",
       "      <td>-121.881766</td>\n",
       "      <td>327</td>\n",
       "      <td>5th St at San Salvador St</td>\n",
       "      <td>37.332039</td>\n",
       "      <td>-121.881766</td>\n",
       "      <td>1553</td>\n",
       "      <td>Customer</td>\n",
       "      <td>No</td>\n",
       "      <td>0.000000</td>\n",
       "    </tr>\n",
       "  </tbody>\n",
       "</table>\n",
       "</div>"
      ],
      "text/plain": [
       "   duration_sec  duration_min              start_time                end_time  \\\n",
       "0         68145   1135.750000 2019-08-31 21:27:42.253 2019-09-01 16:23:27.492   \n",
       "1         53216    886.933333 2019-08-31 22:34:17.512 2019-09-01 13:21:13.931   \n",
       "2         53182    886.366667 2019-08-31 22:34:49.942 2019-09-01 13:21:12.457   \n",
       "3         75682   1261.366667 2019-08-31 14:22:02.278 2019-09-01 11:23:24.511   \n",
       "4         30849    514.150000 2019-08-31 18:47:08.057 2019-09-01 03:21:17.697   \n",
       "\n",
       "   time_slot  day_of_week  start_station_id         start_station_name  \\\n",
       "0    evening            5               249  Russell St at College Ave   \n",
       "1    evening            5               368       Myrtle St at Polk St   \n",
       "2    evening            5               368       Myrtle St at Polk St   \n",
       "3  afternoon            5               104          4th St at 16th St   \n",
       "4    evening            5               327  5th St at San Salvador St   \n",
       "\n",
       "   start_station_latitude  start_station_longitude  end_station_id  \\\n",
       "0               37.858473              -122.253253             247   \n",
       "1               37.785434              -122.419622              78   \n",
       "2               37.785434              -122.419622              78   \n",
       "3               37.767045              -122.390833             126   \n",
       "4               37.332039              -121.881766             327   \n",
       "\n",
       "            end_station_name  end_station_latitude  end_station_longitude  \\\n",
       "0  Fulton St at Bancroft Way             37.867789            -122.265896   \n",
       "1        Folsom St at 9th St             37.773717            -122.411647   \n",
       "2        Folsom St at 9th St             37.773717            -122.411647   \n",
       "3                Esprit Park             37.761634            -122.390648   \n",
       "4  5th St at San Salvador St             37.332039            -121.881766   \n",
       "\n",
       "   bike_id   user_type bike_share_for_all_trip  distance  \n",
       "0     3112    Customer                      No  1.517270  \n",
       "1     2440    Customer                      No  1.478463  \n",
       "2     9743    Customer                      No  1.478463  \n",
       "3    11418  Subscriber                      No  0.601439  \n",
       "4     1553    Customer                      No  0.000000  "
      ]
     },
     "execution_count": 125,
     "metadata": {},
     "output_type": "execute_result"
    }
   ],
   "source": [
    "df.head(5)"
   ]
  },
  {
   "cell_type": "code",
   "execution_count": 124,
   "metadata": {},
   "outputs": [
    {
     "data": {
      "image/png": "[encoded data removed]",
      "text/plain": [
       "<Figure size 449.125x360 with 1 Axes>"
      ]
     },
     "metadata": {
      "needs_background": "light"
     },
     "output_type": "display_data"
    }
   ],
   "source": [
    "g = sb.FacetGrid(data = df, hue = 'user_type', height = 5)\n",
    "g.map(sb.stripplot,'day_of_week', 'duration_min', jitter = True, dodge = True)\n",
    "plt.xlim(0,6)\n",
    "plt.ylim(0,200)\n",
    "plt.xticks([0,1,2,3,4,5,6], ['Mon', 'Tues', 'Wed', 'Thurs', 'Fri', 'Sat', 'Sun']);\n",
    "g.add_legend();"
   ]
  },
  {
   "cell_type": "code",
   "execution_count": null,
   "metadata": {},
   "outputs": [],
   "source": []
  },
  {
   "cell_type": "code",
   "execution_count": 113,
   "metadata": {},
   "outputs": [
    {
     "data": {
      "text/plain": [
       "<Figure size 576x432 with 0 Axes>"
      ]
     },
     "metadata": {},
     "output_type": "display_data"
    },
    {
     "data": {
      "image/png": "[encoded data removed]",
      "text/plain": [
       "<Figure size 288x288 with 1 Axes>"
      ]
     },
     "metadata": {
      "needs_background": "light"
     },
     "output_type": "display_data"
    }
   ],
   "source": [
    "#Day, Time of Day, Distance (Size)\n",
    "fig = plt.figure(figsize = [8,6])\n",
    "\n",
    "g = sb.FacetGrid(data = df, hue = 'user_type', height = 4, aspect = 1)\n",
    "g.map(sb.stripplot,'day_of_week', 'time_slot', jitter = True, dodge = True)\n",
    "#g.add_legend(title = None)\n",
    "\n",
    "plt.ylim(0,10)\n",
    "plt.xlabel('Day of week')\n",
    "plt.ylabel('Time of Day')\n",
    "plt.title('Distance covered by Day and Time Period')\n",
    "plt.xticks([0,1,2,3,4,5,6], ['Mon', 'Tues', 'Wed', 'Thurs', 'Fri', 'Sat', 'Sun']);"
   ]
  },
  {
   "cell_type": "markdown",
   "metadata": {},
   "source": [
    "### Talk about some of the relationships you observed in this part of the investigation. Were there features that strengthened each other in terms of looking at your feature(s) of interest?\n",
    "\n",
    "> Your answer here!\n",
    "\n",
    "### Were there any interesting or surprising interactions between features?\n",
    "\n",
    "> Your answer here!"
   ]
  },
  {
   "cell_type": "markdown",
   "metadata": {},
   "source": [
    "> At the end of your report, make sure that you export the notebook as an\n",
    "html file from the `File > Download as... > HTML` menu. Make sure you keep\n",
    "track of where the exported file goes, so you can put it in the same folder\n",
    "as this notebook for project submission. Also, make sure you remove all of\n",
    "the quote-formatted guide notes like this one before you finish your report!"
   ]
  },
  {
   "cell_type": "code",
   "execution_count": null,
   "metadata": {},
   "outputs": [],
   "source": []
  }
 ],
 "metadata": {
  "kernelspec": {
   "display_name": "Python 3",
   "language": "python",
   "name": "python3"
  },
  "language_info": {
   "codemirror_mode": {
    "name": "ipython",
    "version": 3
   },
   "file_extension": ".py",
   "mimetype": "text/x-python",
   "name": "python",
   "nbconvert_exporter": "python",
   "pygments_lexer": "ipython3",
   "version": "3.7.4"
  }
 },
 "nbformat": 4,
 "nbformat_minor": 2
}
