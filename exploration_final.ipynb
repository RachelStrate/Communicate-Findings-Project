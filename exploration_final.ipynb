{
 "cells": [
  {
   "cell_type": "markdown",
   "metadata": {},
   "source": [
    "# FordGoBike System Data\n",
    "## by Rachel Strate\n",
    "\n",
    "## Preliminary Wrangling\n",
    "\n",
    "This notebook explores the August 2019 FordGoBike System data.  "
   ]
  },
  {
   "cell_type": "code",
   "execution_count": 1,
   "metadata": {},
   "outputs": [],
   "source": [
    "#Importing all packages and setting plots to be embedded inline\n",
    "import numpy as np\n",
    "import pandas as pd\n",
    "import matplotlib.pyplot as plt\n",
    "import seaborn as sb\n",
    "\n",
    "%matplotlib inline"
   ]
  },
  {
   "cell_type": "code",
   "execution_count": 2,
   "metadata": {},
   "outputs": [
    {
     "data": {
      "text/html": [
       "<div>\n",
       "<style scoped>\n",
       "    .dataframe tbody tr th:only-of-type {\n",
       "        vertical-align: middle;\n",
       "    }\n",
       "\n",
       "    .dataframe tbody tr th {\n",
       "        vertical-align: top;\n",
       "    }\n",
       "\n",
       "    .dataframe thead th {\n",
       "        text-align: right;\n",
       "    }\n",
       "</style>\n",
       "<table border=\"1\" class=\"dataframe\">\n",
       "  <thead>\n",
       "    <tr style=\"text-align: right;\">\n",
       "      <th></th>\n",
       "      <th>duration_sec</th>\n",
       "      <th>start_time</th>\n",
       "      <th>end_time</th>\n",
       "      <th>start_station_id</th>\n",
       "      <th>start_station_name</th>\n",
       "      <th>start_station_latitude</th>\n",
       "      <th>start_station_longitude</th>\n",
       "      <th>end_station_id</th>\n",
       "      <th>end_station_name</th>\n",
       "      <th>end_station_latitude</th>\n",
       "      <th>end_station_longitude</th>\n",
       "      <th>bike_id</th>\n",
       "      <th>user_type</th>\n",
       "      <th>bike_share_for_all_trip</th>\n",
       "    </tr>\n",
       "  </thead>\n",
       "  <tbody>\n",
       "    <tr>\n",
       "      <td>0</td>\n",
       "      <td>68145</td>\n",
       "      <td>2019-08-31 21:27:42.2530</td>\n",
       "      <td>2019-09-01 16:23:27.4920</td>\n",
       "      <td>249</td>\n",
       "      <td>Russell St at College Ave</td>\n",
       "      <td>37.858473</td>\n",
       "      <td>-122.253253</td>\n",
       "      <td>247</td>\n",
       "      <td>Fulton St at Bancroft Way</td>\n",
       "      <td>37.867789</td>\n",
       "      <td>-122.265896</td>\n",
       "      <td>3112</td>\n",
       "      <td>Customer</td>\n",
       "      <td>No</td>\n",
       "    </tr>\n",
       "    <tr>\n",
       "      <td>1</td>\n",
       "      <td>53216</td>\n",
       "      <td>2019-08-31 22:34:17.5120</td>\n",
       "      <td>2019-09-01 13:21:13.9310</td>\n",
       "      <td>368</td>\n",
       "      <td>Myrtle St at Polk St</td>\n",
       "      <td>37.785434</td>\n",
       "      <td>-122.419622</td>\n",
       "      <td>78</td>\n",
       "      <td>Folsom St at 9th St</td>\n",
       "      <td>37.773717</td>\n",
       "      <td>-122.411647</td>\n",
       "      <td>2440</td>\n",
       "      <td>Customer</td>\n",
       "      <td>No</td>\n",
       "    </tr>\n",
       "    <tr>\n",
       "      <td>2</td>\n",
       "      <td>53182</td>\n",
       "      <td>2019-08-31 22:34:49.9420</td>\n",
       "      <td>2019-09-01 13:21:12.4570</td>\n",
       "      <td>368</td>\n",
       "      <td>Myrtle St at Polk St</td>\n",
       "      <td>37.785434</td>\n",
       "      <td>-122.419622</td>\n",
       "      <td>78</td>\n",
       "      <td>Folsom St at 9th St</td>\n",
       "      <td>37.773717</td>\n",
       "      <td>-122.411647</td>\n",
       "      <td>9743</td>\n",
       "      <td>Customer</td>\n",
       "      <td>No</td>\n",
       "    </tr>\n",
       "  </tbody>\n",
       "</table>\n",
       "</div>"
      ],
      "text/plain": [
       "   duration_sec                start_time                  end_time  \\\n",
       "0         68145  2019-08-31 21:27:42.2530  2019-09-01 16:23:27.4920   \n",
       "1         53216  2019-08-31 22:34:17.5120  2019-09-01 13:21:13.9310   \n",
       "2         53182  2019-08-31 22:34:49.9420  2019-09-01 13:21:12.4570   \n",
       "\n",
       "   start_station_id         start_station_name  start_station_latitude  \\\n",
       "0               249  Russell St at College Ave               37.858473   \n",
       "1               368       Myrtle St at Polk St               37.785434   \n",
       "2               368       Myrtle St at Polk St               37.785434   \n",
       "\n",
       "   start_station_longitude  end_station_id           end_station_name  \\\n",
       "0              -122.253253             247  Fulton St at Bancroft Way   \n",
       "1              -122.419622              78        Folsom St at 9th St   \n",
       "2              -122.419622              78        Folsom St at 9th St   \n",
       "\n",
       "   end_station_latitude  end_station_longitude  bike_id user_type  \\\n",
       "0             37.867789            -122.265896     3112  Customer   \n",
       "1             37.773717            -122.411647     2440  Customer   \n",
       "2             37.773717            -122.411647     9743  Customer   \n",
       "\n",
       "  bike_share_for_all_trip  \n",
       "0                      No  \n",
       "1                      No  \n",
       "2                      No  "
      ]
     },
     "execution_count": 2,
     "metadata": {},
     "output_type": "execute_result"
    }
   ],
   "source": [
    "#Reading in the dataset.\n",
    "df = pd.read_csv('201908-baywheels-tripdata.csv')\n",
    "df.head(3)"
   ]
  },
  {
   "cell_type": "code",
   "execution_count": 3,
   "metadata": {},
   "outputs": [
    {
     "data": {
      "text/plain": [
       "(210563, 14)"
      ]
     },
     "execution_count": 3,
     "metadata": {},
     "output_type": "execute_result"
    }
   ],
   "source": [
    "df.shape"
   ]
  },
  {
   "cell_type": "code",
   "execution_count": 4,
   "metadata": {},
   "outputs": [
    {
     "name": "stdout",
     "output_type": "stream",
     "text": [
      "<class 'pandas.core.frame.DataFrame'>\n",
      "RangeIndex: 210563 entries, 0 to 210562\n",
      "Data columns (total 14 columns):\n",
      "duration_sec               210563 non-null int64\n",
      "start_time                 210563 non-null object\n",
      "end_time                   210563 non-null object\n",
      "start_station_id           210563 non-null int64\n",
      "start_station_name         210563 non-null object\n",
      "start_station_latitude     210563 non-null float64\n",
      "start_station_longitude    210563 non-null float64\n",
      "end_station_id             210563 non-null int64\n",
      "end_station_name           210563 non-null object\n",
      "end_station_latitude       210563 non-null float64\n",
      "end_station_longitude      210563 non-null float64\n",
      "bike_id                    210563 non-null int64\n",
      "user_type                  210563 non-null object\n",
      "bike_share_for_all_trip    210563 non-null object\n",
      "dtypes: float64(4), int64(4), object(6)\n",
      "memory usage: 22.5+ MB\n"
     ]
    }
   ],
   "source": [
    "df.info()"
   ]
  },
  {
   "cell_type": "markdown",
   "metadata": {},
   "source": [
    "### What is the structure of your dataset?\n",
    "\n",
    "The dataset has 210,563 entries and 14 features \n",
    "- duration_sec\n",
    "- start_time\n",
    "- end_time\n",
    "- start_station_id\n",
    "- start_station_name\n",
    "- start_station_latitude\n",
    "- start_station_longitude\n",
    "- end_station_id\n",
    "- end_station_name\n",
    "- end_station_latitude\n",
    "- end_station_longitude\n",
    "- bike_id\n",
    "- user_type\n",
    "- bike_share_for_all_trip\n",
    "\n",
    "The datatypes include ints, strings and floats.\n",
    "\n",
    "### What are the main features of interest in your dataset?\n",
    "\n",
    "I'm interested in exploring how rental ride duration, distance and days of the week differed by the type of user. Therefore, the main feature is the user type but will be supported by many of the other features.\n",
    "\n",
    "\n",
    "### What features in the dataset do you think will help support your investigation into your features of interest?\n",
    "\n",
    "I will be using the majority of the features for the analysis. The most useful, however, will be duration_sec, start_time, end_time, user_type, start_station_latititude, start_station_longitude, end_station_latititude, and end_station_longitude,"
   ]
  },
  {
   "cell_type": "markdown",
   "metadata": {},
   "source": [
    "## Assessing\n",
    "\n",
    "It is necesesary to do cleaning prior to conducting any analysis.  The following issues are addressed in the code below.\n",
    "\n",
    "- The start time and end time are not in timedate format.\n",
    "- A column for day of the week needs to be added.\n",
    "- A column for minutes to be added in order for a duration unit that is more common.\n",
    "- A column with the distance calculated from the latitude and longitude coordinates to be added.\n",
    "- A column for time category to be added."
   ]
  },
  {
   "cell_type": "markdown",
   "metadata": {},
   "source": [
    "## Cleaning"
   ]
  },
  {
   "cell_type": "markdown",
   "metadata": {},
   "source": [
    "#### Define\n",
    "Change the data type of the start and end time to a timedate format.\n",
    "\n",
    "#### Code"
   ]
  },
  {
   "cell_type": "code",
   "execution_count": 5,
   "metadata": {},
   "outputs": [],
   "source": [
    "#Writing a function to change data types.\n",
    "def dt_type (column):\n",
    "    df[column] = pd.to_datetime(df[column])\n",
    "    return "
   ]
  },
  {
   "cell_type": "code",
   "execution_count": 6,
   "metadata": {},
   "outputs": [],
   "source": [
    "#Instantiating the fuction\n",
    "dt_type('start_time')\n",
    "dt_type('end_time')"
   ]
  },
  {
   "cell_type": "markdown",
   "metadata": {},
   "source": [
    "#### Test"
   ]
  },
  {
   "cell_type": "code",
   "execution_count": 7,
   "metadata": {},
   "outputs": [
    {
     "name": "stdout",
     "output_type": "stream",
     "text": [
      "<class 'pandas.core.frame.DataFrame'>\n",
      "RangeIndex: 210563 entries, 0 to 210562\n",
      "Data columns (total 14 columns):\n",
      "duration_sec               210563 non-null int64\n",
      "start_time                 210563 non-null datetime64[ns]\n",
      "end_time                   210563 non-null datetime64[ns]\n",
      "start_station_id           210563 non-null int64\n",
      "start_station_name         210563 non-null object\n",
      "start_station_latitude     210563 non-null float64\n",
      "start_station_longitude    210563 non-null float64\n",
      "end_station_id             210563 non-null int64\n",
      "end_station_name           210563 non-null object\n",
      "end_station_latitude       210563 non-null float64\n",
      "end_station_longitude      210563 non-null float64\n",
      "bike_id                    210563 non-null int64\n",
      "user_type                  210563 non-null object\n",
      "bike_share_for_all_trip    210563 non-null object\n",
      "dtypes: datetime64[ns](2), float64(4), int64(4), object(4)\n",
      "memory usage: 22.5+ MB\n"
     ]
    }
   ],
   "source": [
    "df.info()"
   ]
  },
  {
   "cell_type": "markdown",
   "metadata": {},
   "source": [
    "#### Define\n",
    "Inserting a new column for the day of the week of the start_time column.\n",
    "\n",
    "#### Code"
   ]
  },
  {
   "cell_type": "code",
   "execution_count": 8,
   "metadata": {},
   "outputs": [
    {
     "data": {
      "text/html": [
       "<div>\n",
       "<style scoped>\n",
       "    .dataframe tbody tr th:only-of-type {\n",
       "        vertical-align: middle;\n",
       "    }\n",
       "\n",
       "    .dataframe tbody tr th {\n",
       "        vertical-align: top;\n",
       "    }\n",
       "\n",
       "    .dataframe thead th {\n",
       "        text-align: right;\n",
       "    }\n",
       "</style>\n",
       "<table border=\"1\" class=\"dataframe\">\n",
       "  <thead>\n",
       "    <tr style=\"text-align: right;\">\n",
       "      <th></th>\n",
       "      <th>duration_sec</th>\n",
       "      <th>start_time</th>\n",
       "      <th>end_time</th>\n",
       "      <th>day_of_week</th>\n",
       "      <th>start_station_id</th>\n",
       "      <th>start_station_name</th>\n",
       "      <th>start_station_latitude</th>\n",
       "      <th>start_station_longitude</th>\n",
       "      <th>end_station_id</th>\n",
       "      <th>end_station_name</th>\n",
       "      <th>end_station_latitude</th>\n",
       "      <th>end_station_longitude</th>\n",
       "      <th>bike_id</th>\n",
       "      <th>user_type</th>\n",
       "      <th>bike_share_for_all_trip</th>\n",
       "    </tr>\n",
       "  </thead>\n",
       "  <tbody>\n",
       "    <tr>\n",
       "      <td>0</td>\n",
       "      <td>68145</td>\n",
       "      <td>2019-08-31 21:27:42.253</td>\n",
       "      <td>2019-09-01 16:23:27.492</td>\n",
       "      <td>5</td>\n",
       "      <td>249</td>\n",
       "      <td>Russell St at College Ave</td>\n",
       "      <td>37.858473</td>\n",
       "      <td>-122.253253</td>\n",
       "      <td>247</td>\n",
       "      <td>Fulton St at Bancroft Way</td>\n",
       "      <td>37.867789</td>\n",
       "      <td>-122.265896</td>\n",
       "      <td>3112</td>\n",
       "      <td>Customer</td>\n",
       "      <td>No</td>\n",
       "    </tr>\n",
       "    <tr>\n",
       "      <td>1</td>\n",
       "      <td>53216</td>\n",
       "      <td>2019-08-31 22:34:17.512</td>\n",
       "      <td>2019-09-01 13:21:13.931</td>\n",
       "      <td>5</td>\n",
       "      <td>368</td>\n",
       "      <td>Myrtle St at Polk St</td>\n",
       "      <td>37.785434</td>\n",
       "      <td>-122.419622</td>\n",
       "      <td>78</td>\n",
       "      <td>Folsom St at 9th St</td>\n",
       "      <td>37.773717</td>\n",
       "      <td>-122.411647</td>\n",
       "      <td>2440</td>\n",
       "      <td>Customer</td>\n",
       "      <td>No</td>\n",
       "    </tr>\n",
       "    <tr>\n",
       "      <td>2</td>\n",
       "      <td>53182</td>\n",
       "      <td>2019-08-31 22:34:49.942</td>\n",
       "      <td>2019-09-01 13:21:12.457</td>\n",
       "      <td>5</td>\n",
       "      <td>368</td>\n",
       "      <td>Myrtle St at Polk St</td>\n",
       "      <td>37.785434</td>\n",
       "      <td>-122.419622</td>\n",
       "      <td>78</td>\n",
       "      <td>Folsom St at 9th St</td>\n",
       "      <td>37.773717</td>\n",
       "      <td>-122.411647</td>\n",
       "      <td>9743</td>\n",
       "      <td>Customer</td>\n",
       "      <td>No</td>\n",
       "    </tr>\n",
       "  </tbody>\n",
       "</table>\n",
       "</div>"
      ],
      "text/plain": [
       "   duration_sec              start_time                end_time  day_of_week  \\\n",
       "0         68145 2019-08-31 21:27:42.253 2019-09-01 16:23:27.492            5   \n",
       "1         53216 2019-08-31 22:34:17.512 2019-09-01 13:21:13.931            5   \n",
       "2         53182 2019-08-31 22:34:49.942 2019-09-01 13:21:12.457            5   \n",
       "\n",
       "   start_station_id         start_station_name  start_station_latitude  \\\n",
       "0               249  Russell St at College Ave               37.858473   \n",
       "1               368       Myrtle St at Polk St               37.785434   \n",
       "2               368       Myrtle St at Polk St               37.785434   \n",
       "\n",
       "   start_station_longitude  end_station_id           end_station_name  \\\n",
       "0              -122.253253             247  Fulton St at Bancroft Way   \n",
       "1              -122.419622              78        Folsom St at 9th St   \n",
       "2              -122.419622              78        Folsom St at 9th St   \n",
       "\n",
       "   end_station_latitude  end_station_longitude  bike_id user_type  \\\n",
       "0             37.867789            -122.265896     3112  Customer   \n",
       "1             37.773717            -122.411647     2440  Customer   \n",
       "2             37.773717            -122.411647     9743  Customer   \n",
       "\n",
       "  bike_share_for_all_trip  \n",
       "0                      No  \n",
       "1                      No  \n",
       "2                      No  "
      ]
     },
     "execution_count": 8,
     "metadata": {},
     "output_type": "execute_result"
    }
   ],
   "source": [
    "#Inserting a column and setting the content to the day of the week. Remember 0 is Monday for dayofweek().\n",
    "df.insert(3, 'day_of_week', df.start_time.dt.dayofweek)\n",
    "df.head(3)"
   ]
  },
  {
   "cell_type": "markdown",
   "metadata": {},
   "source": [
    "#### Test"
   ]
  },
  {
   "cell_type": "code",
   "execution_count": 9,
   "metadata": {},
   "outputs": [
    {
     "data": {
      "text/html": [
       "<div>\n",
       "<style scoped>\n",
       "    .dataframe tbody tr th:only-of-type {\n",
       "        vertical-align: middle;\n",
       "    }\n",
       "\n",
       "    .dataframe tbody tr th {\n",
       "        vertical-align: top;\n",
       "    }\n",
       "\n",
       "    .dataframe thead th {\n",
       "        text-align: right;\n",
       "    }\n",
       "</style>\n",
       "<table border=\"1\" class=\"dataframe\">\n",
       "  <thead>\n",
       "    <tr style=\"text-align: right;\">\n",
       "      <th></th>\n",
       "      <th>duration_sec</th>\n",
       "      <th>start_time</th>\n",
       "      <th>end_time</th>\n",
       "      <th>day_of_week</th>\n",
       "      <th>start_station_id</th>\n",
       "      <th>start_station_name</th>\n",
       "      <th>start_station_latitude</th>\n",
       "      <th>start_station_longitude</th>\n",
       "      <th>end_station_id</th>\n",
       "      <th>end_station_name</th>\n",
       "      <th>end_station_latitude</th>\n",
       "      <th>end_station_longitude</th>\n",
       "      <th>bike_id</th>\n",
       "      <th>user_type</th>\n",
       "      <th>bike_share_for_all_trip</th>\n",
       "    </tr>\n",
       "  </thead>\n",
       "  <tbody>\n",
       "    <tr>\n",
       "      <td>0</td>\n",
       "      <td>68145</td>\n",
       "      <td>2019-08-31 21:27:42.253</td>\n",
       "      <td>2019-09-01 16:23:27.492</td>\n",
       "      <td>5</td>\n",
       "      <td>249</td>\n",
       "      <td>Russell St at College Ave</td>\n",
       "      <td>37.858473</td>\n",
       "      <td>-122.253253</td>\n",
       "      <td>247</td>\n",
       "      <td>Fulton St at Bancroft Way</td>\n",
       "      <td>37.867789</td>\n",
       "      <td>-122.265896</td>\n",
       "      <td>3112</td>\n",
       "      <td>Customer</td>\n",
       "      <td>No</td>\n",
       "    </tr>\n",
       "    <tr>\n",
       "      <td>1</td>\n",
       "      <td>53216</td>\n",
       "      <td>2019-08-31 22:34:17.512</td>\n",
       "      <td>2019-09-01 13:21:13.931</td>\n",
       "      <td>5</td>\n",
       "      <td>368</td>\n",
       "      <td>Myrtle St at Polk St</td>\n",
       "      <td>37.785434</td>\n",
       "      <td>-122.419622</td>\n",
       "      <td>78</td>\n",
       "      <td>Folsom St at 9th St</td>\n",
       "      <td>37.773717</td>\n",
       "      <td>-122.411647</td>\n",
       "      <td>2440</td>\n",
       "      <td>Customer</td>\n",
       "      <td>No</td>\n",
       "    </tr>\n",
       "    <tr>\n",
       "      <td>2</td>\n",
       "      <td>53182</td>\n",
       "      <td>2019-08-31 22:34:49.942</td>\n",
       "      <td>2019-09-01 13:21:12.457</td>\n",
       "      <td>5</td>\n",
       "      <td>368</td>\n",
       "      <td>Myrtle St at Polk St</td>\n",
       "      <td>37.785434</td>\n",
       "      <td>-122.419622</td>\n",
       "      <td>78</td>\n",
       "      <td>Folsom St at 9th St</td>\n",
       "      <td>37.773717</td>\n",
       "      <td>-122.411647</td>\n",
       "      <td>9743</td>\n",
       "      <td>Customer</td>\n",
       "      <td>No</td>\n",
       "    </tr>\n",
       "  </tbody>\n",
       "</table>\n",
       "</div>"
      ],
      "text/plain": [
       "   duration_sec              start_time                end_time  day_of_week  \\\n",
       "0         68145 2019-08-31 21:27:42.253 2019-09-01 16:23:27.492            5   \n",
       "1         53216 2019-08-31 22:34:17.512 2019-09-01 13:21:13.931            5   \n",
       "2         53182 2019-08-31 22:34:49.942 2019-09-01 13:21:12.457            5   \n",
       "\n",
       "   start_station_id         start_station_name  start_station_latitude  \\\n",
       "0               249  Russell St at College Ave               37.858473   \n",
       "1               368       Myrtle St at Polk St               37.785434   \n",
       "2               368       Myrtle St at Polk St               37.785434   \n",
       "\n",
       "   start_station_longitude  end_station_id           end_station_name  \\\n",
       "0              -122.253253             247  Fulton St at Bancroft Way   \n",
       "1              -122.419622              78        Folsom St at 9th St   \n",
       "2              -122.419622              78        Folsom St at 9th St   \n",
       "\n",
       "   end_station_latitude  end_station_longitude  bike_id user_type  \\\n",
       "0             37.867789            -122.265896     3112  Customer   \n",
       "1             37.773717            -122.411647     2440  Customer   \n",
       "2             37.773717            -122.411647     9743  Customer   \n",
       "\n",
       "  bike_share_for_all_trip  \n",
       "0                      No  \n",
       "1                      No  \n",
       "2                      No  "
      ]
     },
     "execution_count": 9,
     "metadata": {},
     "output_type": "execute_result"
    }
   ],
   "source": [
    "df.head(3)"
   ]
  },
  {
   "cell_type": "markdown",
   "metadata": {},
   "source": [
    "#### Define\n",
    "Inserting a minutes column as duration in minutes is easier to understand than duration in seconds.\n",
    "\n",
    "#### Code"
   ]
  },
  {
   "cell_type": "code",
   "execution_count": 10,
   "metadata": {},
   "outputs": [],
   "source": [
    "#Creating new column.\n",
    "df.insert(1, 'duration_min', df.duration_sec/60)"
   ]
  },
  {
   "cell_type": "markdown",
   "metadata": {},
   "source": [
    "#### Test"
   ]
  },
  {
   "cell_type": "code",
   "execution_count": 11,
   "metadata": {},
   "outputs": [
    {
     "data": {
      "text/html": [
       "<div>\n",
       "<style scoped>\n",
       "    .dataframe tbody tr th:only-of-type {\n",
       "        vertical-align: middle;\n",
       "    }\n",
       "\n",
       "    .dataframe tbody tr th {\n",
       "        vertical-align: top;\n",
       "    }\n",
       "\n",
       "    .dataframe thead th {\n",
       "        text-align: right;\n",
       "    }\n",
       "</style>\n",
       "<table border=\"1\" class=\"dataframe\">\n",
       "  <thead>\n",
       "    <tr style=\"text-align: right;\">\n",
       "      <th></th>\n",
       "      <th>duration_sec</th>\n",
       "      <th>duration_min</th>\n",
       "      <th>start_time</th>\n",
       "      <th>end_time</th>\n",
       "      <th>day_of_week</th>\n",
       "      <th>start_station_id</th>\n",
       "      <th>start_station_name</th>\n",
       "      <th>start_station_latitude</th>\n",
       "      <th>start_station_longitude</th>\n",
       "      <th>end_station_id</th>\n",
       "      <th>end_station_name</th>\n",
       "      <th>end_station_latitude</th>\n",
       "      <th>end_station_longitude</th>\n",
       "      <th>bike_id</th>\n",
       "      <th>user_type</th>\n",
       "      <th>bike_share_for_all_trip</th>\n",
       "    </tr>\n",
       "  </thead>\n",
       "  <tbody>\n",
       "    <tr>\n",
       "      <td>0</td>\n",
       "      <td>68145</td>\n",
       "      <td>1135.750000</td>\n",
       "      <td>2019-08-31 21:27:42.253</td>\n",
       "      <td>2019-09-01 16:23:27.492</td>\n",
       "      <td>5</td>\n",
       "      <td>249</td>\n",
       "      <td>Russell St at College Ave</td>\n",
       "      <td>37.858473</td>\n",
       "      <td>-122.253253</td>\n",
       "      <td>247</td>\n",
       "      <td>Fulton St at Bancroft Way</td>\n",
       "      <td>37.867789</td>\n",
       "      <td>-122.265896</td>\n",
       "      <td>3112</td>\n",
       "      <td>Customer</td>\n",
       "      <td>No</td>\n",
       "    </tr>\n",
       "    <tr>\n",
       "      <td>1</td>\n",
       "      <td>53216</td>\n",
       "      <td>886.933333</td>\n",
       "      <td>2019-08-31 22:34:17.512</td>\n",
       "      <td>2019-09-01 13:21:13.931</td>\n",
       "      <td>5</td>\n",
       "      <td>368</td>\n",
       "      <td>Myrtle St at Polk St</td>\n",
       "      <td>37.785434</td>\n",
       "      <td>-122.419622</td>\n",
       "      <td>78</td>\n",
       "      <td>Folsom St at 9th St</td>\n",
       "      <td>37.773717</td>\n",
       "      <td>-122.411647</td>\n",
       "      <td>2440</td>\n",
       "      <td>Customer</td>\n",
       "      <td>No</td>\n",
       "    </tr>\n",
       "    <tr>\n",
       "      <td>2</td>\n",
       "      <td>53182</td>\n",
       "      <td>886.366667</td>\n",
       "      <td>2019-08-31 22:34:49.942</td>\n",
       "      <td>2019-09-01 13:21:12.457</td>\n",
       "      <td>5</td>\n",
       "      <td>368</td>\n",
       "      <td>Myrtle St at Polk St</td>\n",
       "      <td>37.785434</td>\n",
       "      <td>-122.419622</td>\n",
       "      <td>78</td>\n",
       "      <td>Folsom St at 9th St</td>\n",
       "      <td>37.773717</td>\n",
       "      <td>-122.411647</td>\n",
       "      <td>9743</td>\n",
       "      <td>Customer</td>\n",
       "      <td>No</td>\n",
       "    </tr>\n",
       "    <tr>\n",
       "      <td>3</td>\n",
       "      <td>75682</td>\n",
       "      <td>1261.366667</td>\n",
       "      <td>2019-08-31 14:22:02.278</td>\n",
       "      <td>2019-09-01 11:23:24.511</td>\n",
       "      <td>5</td>\n",
       "      <td>104</td>\n",
       "      <td>4th St at 16th St</td>\n",
       "      <td>37.767045</td>\n",
       "      <td>-122.390833</td>\n",
       "      <td>126</td>\n",
       "      <td>Esprit Park</td>\n",
       "      <td>37.761634</td>\n",
       "      <td>-122.390648</td>\n",
       "      <td>11418</td>\n",
       "      <td>Subscriber</td>\n",
       "      <td>No</td>\n",
       "    </tr>\n",
       "    <tr>\n",
       "      <td>4</td>\n",
       "      <td>30849</td>\n",
       "      <td>514.150000</td>\n",
       "      <td>2019-08-31 18:47:08.057</td>\n",
       "      <td>2019-09-01 03:21:17.697</td>\n",
       "      <td>5</td>\n",
       "      <td>327</td>\n",
       "      <td>5th St at San Salvador St</td>\n",
       "      <td>37.332039</td>\n",
       "      <td>-121.881766</td>\n",
       "      <td>327</td>\n",
       "      <td>5th St at San Salvador St</td>\n",
       "      <td>37.332039</td>\n",
       "      <td>-121.881766</td>\n",
       "      <td>1553</td>\n",
       "      <td>Customer</td>\n",
       "      <td>No</td>\n",
       "    </tr>\n",
       "  </tbody>\n",
       "</table>\n",
       "</div>"
      ],
      "text/plain": [
       "   duration_sec  duration_min              start_time                end_time  \\\n",
       "0         68145   1135.750000 2019-08-31 21:27:42.253 2019-09-01 16:23:27.492   \n",
       "1         53216    886.933333 2019-08-31 22:34:17.512 2019-09-01 13:21:13.931   \n",
       "2         53182    886.366667 2019-08-31 22:34:49.942 2019-09-01 13:21:12.457   \n",
       "3         75682   1261.366667 2019-08-31 14:22:02.278 2019-09-01 11:23:24.511   \n",
       "4         30849    514.150000 2019-08-31 18:47:08.057 2019-09-01 03:21:17.697   \n",
       "\n",
       "   day_of_week  start_station_id         start_station_name  \\\n",
       "0            5               249  Russell St at College Ave   \n",
       "1            5               368       Myrtle St at Polk St   \n",
       "2            5               368       Myrtle St at Polk St   \n",
       "3            5               104          4th St at 16th St   \n",
       "4            5               327  5th St at San Salvador St   \n",
       "\n",
       "   start_station_latitude  start_station_longitude  end_station_id  \\\n",
       "0               37.858473              -122.253253             247   \n",
       "1               37.785434              -122.419622              78   \n",
       "2               37.785434              -122.419622              78   \n",
       "3               37.767045              -122.390833             126   \n",
       "4               37.332039              -121.881766             327   \n",
       "\n",
       "            end_station_name  end_station_latitude  end_station_longitude  \\\n",
       "0  Fulton St at Bancroft Way             37.867789            -122.265896   \n",
       "1        Folsom St at 9th St             37.773717            -122.411647   \n",
       "2        Folsom St at 9th St             37.773717            -122.411647   \n",
       "3                Esprit Park             37.761634            -122.390648   \n",
       "4  5th St at San Salvador St             37.332039            -121.881766   \n",
       "\n",
       "   bike_id   user_type bike_share_for_all_trip  \n",
       "0     3112    Customer                      No  \n",
       "1     2440    Customer                      No  \n",
       "2     9743    Customer                      No  \n",
       "3    11418  Subscriber                      No  \n",
       "4     1553    Customer                      No  "
      ]
     },
     "execution_count": 11,
     "metadata": {},
     "output_type": "execute_result"
    }
   ],
   "source": [
    "df.head()"
   ]
  },
  {
   "cell_type": "markdown",
   "metadata": {},
   "source": [
    "#### Define\n",
    "Adding a column with the distance calculated from the latitude and longitude coordinates.\n",
    "\n",
    "#### Code"
   ]
  },
  {
   "cell_type": "code",
   "execution_count": 12,
   "metadata": {},
   "outputs": [],
   "source": [
    "#Calculating distance.  Please note this code was found in the Udacity knowledge area.\n",
    "\n",
    "def haversine(lon1, lat1, lon2, lat2):\n",
    "    lon1, lat1, lon2, lat2 = map(np.radians, [lon1, lat1, lon2, lat2])\n",
    "    dlon = lon2 - lon1\n",
    "    dlat = lat2 - lat1\n",
    "    a = np.sin(dlat/2)**2 + np.cos(lat1) * np.cos(lat2) * np.sin(dlon/2)**2\n",
    "    c = 2*np.arcsin(np.sqrt(a))\n",
    "    km = 6367 * c\n",
    "    return km"
   ]
  },
  {
   "cell_type": "code",
   "execution_count": 13,
   "metadata": {},
   "outputs": [],
   "source": [
    "#Instantiating function for the distance column.\n",
    "df['distance'] = haversine(df['start_station_longitude'],\n",
    "                          df['start_station_latitude'],\n",
    "                          df['end_station_longitude'],\n",
    "                          df['end_station_latitude'])"
   ]
  },
  {
   "cell_type": "markdown",
   "metadata": {},
   "source": [
    "#### Test"
   ]
  },
  {
   "cell_type": "code",
   "execution_count": 14,
   "metadata": {},
   "outputs": [
    {
     "data": {
      "text/html": [
       "<div>\n",
       "<style scoped>\n",
       "    .dataframe tbody tr th:only-of-type {\n",
       "        vertical-align: middle;\n",
       "    }\n",
       "\n",
       "    .dataframe tbody tr th {\n",
       "        vertical-align: top;\n",
       "    }\n",
       "\n",
       "    .dataframe thead th {\n",
       "        text-align: right;\n",
       "    }\n",
       "</style>\n",
       "<table border=\"1\" class=\"dataframe\">\n",
       "  <thead>\n",
       "    <tr style=\"text-align: right;\">\n",
       "      <th></th>\n",
       "      <th>duration_sec</th>\n",
       "      <th>duration_min</th>\n",
       "      <th>start_time</th>\n",
       "      <th>end_time</th>\n",
       "      <th>day_of_week</th>\n",
       "      <th>start_station_id</th>\n",
       "      <th>start_station_name</th>\n",
       "      <th>start_station_latitude</th>\n",
       "      <th>start_station_longitude</th>\n",
       "      <th>end_station_id</th>\n",
       "      <th>end_station_name</th>\n",
       "      <th>end_station_latitude</th>\n",
       "      <th>end_station_longitude</th>\n",
       "      <th>bike_id</th>\n",
       "      <th>user_type</th>\n",
       "      <th>bike_share_for_all_trip</th>\n",
       "      <th>distance</th>\n",
       "    </tr>\n",
       "  </thead>\n",
       "  <tbody>\n",
       "    <tr>\n",
       "      <td>0</td>\n",
       "      <td>68145</td>\n",
       "      <td>1135.75</td>\n",
       "      <td>2019-08-31 21:27:42.253</td>\n",
       "      <td>2019-09-01 16:23:27.492</td>\n",
       "      <td>5</td>\n",
       "      <td>249</td>\n",
       "      <td>Russell St at College Ave</td>\n",
       "      <td>37.858473</td>\n",
       "      <td>-122.253253</td>\n",
       "      <td>247</td>\n",
       "      <td>Fulton St at Bancroft Way</td>\n",
       "      <td>37.867789</td>\n",
       "      <td>-122.265896</td>\n",
       "      <td>3112</td>\n",
       "      <td>Customer</td>\n",
       "      <td>No</td>\n",
       "      <td>1.51727</td>\n",
       "    </tr>\n",
       "  </tbody>\n",
       "</table>\n",
       "</div>"
      ],
      "text/plain": [
       "   duration_sec  duration_min              start_time                end_time  \\\n",
       "0         68145       1135.75 2019-08-31 21:27:42.253 2019-09-01 16:23:27.492   \n",
       "\n",
       "   day_of_week  start_station_id         start_station_name  \\\n",
       "0            5               249  Russell St at College Ave   \n",
       "\n",
       "   start_station_latitude  start_station_longitude  end_station_id  \\\n",
       "0               37.858473              -122.253253             247   \n",
       "\n",
       "            end_station_name  end_station_latitude  end_station_longitude  \\\n",
       "0  Fulton St at Bancroft Way             37.867789            -122.265896   \n",
       "\n",
       "   bike_id user_type bike_share_for_all_trip  distance  \n",
       "0     3112  Customer                      No   1.51727  "
      ]
     },
     "execution_count": 14,
     "metadata": {},
     "output_type": "execute_result"
    }
   ],
   "source": [
    "df.head(1)"
   ]
  },
  {
   "cell_type": "code",
   "execution_count": 15,
   "metadata": {},
   "outputs": [
    {
     "data": {
      "text/plain": [
       "count    210563.000000\n",
       "mean          1.673998\n",
       "std           1.059922\n",
       "min           0.000000\n",
       "25%           0.930881\n",
       "50%           1.444599\n",
       "75%           2.188723\n",
       "max          67.402478\n",
       "Name: distance, dtype: float64"
      ]
     },
     "execution_count": 15,
     "metadata": {},
     "output_type": "execute_result"
    }
   ],
   "source": [
    "df.distance.describe()"
   ]
  },
  {
   "cell_type": "markdown",
   "metadata": {},
   "source": [
    "#### Define\n",
    "Inserting a column for time categories (morning, afternoon, evening and late_night).  This column will be made for the start time only to be able to see at what point of the day do people rent bikes.\n",
    "\n",
    "- Morning = 6am - 11am\n",
    "- Afternoon = 12pm - 5pm\n",
    "- Evening = 6pm - 12am\n",
    "- Late_Night = 1am - 5pm\n",
    "\n",
    "#### Code"
   ]
  },
  {
   "cell_type": "code",
   "execution_count": 16,
   "metadata": {},
   "outputs": [
    {
     "data": {
      "text/html": [
       "<div>\n",
       "<style scoped>\n",
       "    .dataframe tbody tr th:only-of-type {\n",
       "        vertical-align: middle;\n",
       "    }\n",
       "\n",
       "    .dataframe tbody tr th {\n",
       "        vertical-align: top;\n",
       "    }\n",
       "\n",
       "    .dataframe thead th {\n",
       "        text-align: right;\n",
       "    }\n",
       "</style>\n",
       "<table border=\"1\" class=\"dataframe\">\n",
       "  <thead>\n",
       "    <tr style=\"text-align: right;\">\n",
       "      <th></th>\n",
       "      <th>duration_sec</th>\n",
       "      <th>duration_min</th>\n",
       "      <th>start_time</th>\n",
       "      <th>end_time</th>\n",
       "      <th>time_slot</th>\n",
       "      <th>day_of_week</th>\n",
       "      <th>start_station_id</th>\n",
       "      <th>start_station_name</th>\n",
       "      <th>start_station_latitude</th>\n",
       "      <th>start_station_longitude</th>\n",
       "      <th>end_station_id</th>\n",
       "      <th>end_station_name</th>\n",
       "      <th>end_station_latitude</th>\n",
       "      <th>end_station_longitude</th>\n",
       "      <th>bike_id</th>\n",
       "      <th>user_type</th>\n",
       "      <th>bike_share_for_all_trip</th>\n",
       "      <th>distance</th>\n",
       "    </tr>\n",
       "  </thead>\n",
       "  <tbody>\n",
       "    <tr>\n",
       "      <td>0</td>\n",
       "      <td>68145</td>\n",
       "      <td>1135.75</td>\n",
       "      <td>2019-08-31 21:27:42.253</td>\n",
       "      <td>2019-09-01 16:23:27.492</td>\n",
       "      <td>2019-08-31 21:27:42.253</td>\n",
       "      <td>5</td>\n",
       "      <td>249</td>\n",
       "      <td>Russell St at College Ave</td>\n",
       "      <td>37.858473</td>\n",
       "      <td>-122.253253</td>\n",
       "      <td>247</td>\n",
       "      <td>Fulton St at Bancroft Way</td>\n",
       "      <td>37.867789</td>\n",
       "      <td>-122.265896</td>\n",
       "      <td>3112</td>\n",
       "      <td>Customer</td>\n",
       "      <td>No</td>\n",
       "      <td>1.51727</td>\n",
       "    </tr>\n",
       "  </tbody>\n",
       "</table>\n",
       "</div>"
      ],
      "text/plain": [
       "   duration_sec  duration_min              start_time                end_time  \\\n",
       "0         68145       1135.75 2019-08-31 21:27:42.253 2019-09-01 16:23:27.492   \n",
       "\n",
       "                time_slot  day_of_week  start_station_id  \\\n",
       "0 2019-08-31 21:27:42.253            5               249   \n",
       "\n",
       "          start_station_name  start_station_latitude  start_station_longitude  \\\n",
       "0  Russell St at College Ave               37.858473              -122.253253   \n",
       "\n",
       "   end_station_id           end_station_name  end_station_latitude  \\\n",
       "0             247  Fulton St at Bancroft Way             37.867789   \n",
       "\n",
       "   end_station_longitude  bike_id user_type bike_share_for_all_trip  distance  \n",
       "0            -122.265896     3112  Customer                      No   1.51727  "
      ]
     },
     "execution_count": 16,
     "metadata": {},
     "output_type": "execute_result"
    }
   ],
   "source": [
    "#Inserting a new column.  Temporarily filling it with the start_time content.\n",
    "df.insert(4, 'time_slot', df['start_time'])\n",
    "df.head(1)"
   ]
  },
  {
   "cell_type": "code",
   "execution_count": 17,
   "metadata": {},
   "outputs": [],
   "source": [
    "#Building a function to remove the hour from the datetime.\n",
    "from datetime import datetime\n",
    "\n",
    "def time_split(df, column):\n",
    "    df[column] = df[column].apply(lambda x: datetime.strftime(x,'%H'))\n",
    "    return df.head(5)"
   ]
  },
  {
   "cell_type": "code",
   "execution_count": 18,
   "metadata": {},
   "outputs": [
    {
     "data": {
      "text/html": [
       "<div>\n",
       "<style scoped>\n",
       "    .dataframe tbody tr th:only-of-type {\n",
       "        vertical-align: middle;\n",
       "    }\n",
       "\n",
       "    .dataframe tbody tr th {\n",
       "        vertical-align: top;\n",
       "    }\n",
       "\n",
       "    .dataframe thead th {\n",
       "        text-align: right;\n",
       "    }\n",
       "</style>\n",
       "<table border=\"1\" class=\"dataframe\">\n",
       "  <thead>\n",
       "    <tr style=\"text-align: right;\">\n",
       "      <th></th>\n",
       "      <th>duration_sec</th>\n",
       "      <th>duration_min</th>\n",
       "      <th>start_time</th>\n",
       "      <th>end_time</th>\n",
       "      <th>time_slot</th>\n",
       "      <th>day_of_week</th>\n",
       "      <th>start_station_id</th>\n",
       "      <th>start_station_name</th>\n",
       "      <th>start_station_latitude</th>\n",
       "      <th>start_station_longitude</th>\n",
       "      <th>end_station_id</th>\n",
       "      <th>end_station_name</th>\n",
       "      <th>end_station_latitude</th>\n",
       "      <th>end_station_longitude</th>\n",
       "      <th>bike_id</th>\n",
       "      <th>user_type</th>\n",
       "      <th>bike_share_for_all_trip</th>\n",
       "      <th>distance</th>\n",
       "    </tr>\n",
       "  </thead>\n",
       "  <tbody>\n",
       "    <tr>\n",
       "      <td>0</td>\n",
       "      <td>68145</td>\n",
       "      <td>1135.750000</td>\n",
       "      <td>2019-08-31 21:27:42.253</td>\n",
       "      <td>2019-09-01 16:23:27.492</td>\n",
       "      <td>21</td>\n",
       "      <td>5</td>\n",
       "      <td>249</td>\n",
       "      <td>Russell St at College Ave</td>\n",
       "      <td>37.858473</td>\n",
       "      <td>-122.253253</td>\n",
       "      <td>247</td>\n",
       "      <td>Fulton St at Bancroft Way</td>\n",
       "      <td>37.867789</td>\n",
       "      <td>-122.265896</td>\n",
       "      <td>3112</td>\n",
       "      <td>Customer</td>\n",
       "      <td>No</td>\n",
       "      <td>1.517270</td>\n",
       "    </tr>\n",
       "    <tr>\n",
       "      <td>1</td>\n",
       "      <td>53216</td>\n",
       "      <td>886.933333</td>\n",
       "      <td>2019-08-31 22:34:17.512</td>\n",
       "      <td>2019-09-01 13:21:13.931</td>\n",
       "      <td>22</td>\n",
       "      <td>5</td>\n",
       "      <td>368</td>\n",
       "      <td>Myrtle St at Polk St</td>\n",
       "      <td>37.785434</td>\n",
       "      <td>-122.419622</td>\n",
       "      <td>78</td>\n",
       "      <td>Folsom St at 9th St</td>\n",
       "      <td>37.773717</td>\n",
       "      <td>-122.411647</td>\n",
       "      <td>2440</td>\n",
       "      <td>Customer</td>\n",
       "      <td>No</td>\n",
       "      <td>1.478463</td>\n",
       "    </tr>\n",
       "    <tr>\n",
       "      <td>2</td>\n",
       "      <td>53182</td>\n",
       "      <td>886.366667</td>\n",
       "      <td>2019-08-31 22:34:49.942</td>\n",
       "      <td>2019-09-01 13:21:12.457</td>\n",
       "      <td>22</td>\n",
       "      <td>5</td>\n",
       "      <td>368</td>\n",
       "      <td>Myrtle St at Polk St</td>\n",
       "      <td>37.785434</td>\n",
       "      <td>-122.419622</td>\n",
       "      <td>78</td>\n",
       "      <td>Folsom St at 9th St</td>\n",
       "      <td>37.773717</td>\n",
       "      <td>-122.411647</td>\n",
       "      <td>9743</td>\n",
       "      <td>Customer</td>\n",
       "      <td>No</td>\n",
       "      <td>1.478463</td>\n",
       "    </tr>\n",
       "    <tr>\n",
       "      <td>3</td>\n",
       "      <td>75682</td>\n",
       "      <td>1261.366667</td>\n",
       "      <td>2019-08-31 14:22:02.278</td>\n",
       "      <td>2019-09-01 11:23:24.511</td>\n",
       "      <td>14</td>\n",
       "      <td>5</td>\n",
       "      <td>104</td>\n",
       "      <td>4th St at 16th St</td>\n",
       "      <td>37.767045</td>\n",
       "      <td>-122.390833</td>\n",
       "      <td>126</td>\n",
       "      <td>Esprit Park</td>\n",
       "      <td>37.761634</td>\n",
       "      <td>-122.390648</td>\n",
       "      <td>11418</td>\n",
       "      <td>Subscriber</td>\n",
       "      <td>No</td>\n",
       "      <td>0.601439</td>\n",
       "    </tr>\n",
       "    <tr>\n",
       "      <td>4</td>\n",
       "      <td>30849</td>\n",
       "      <td>514.150000</td>\n",
       "      <td>2019-08-31 18:47:08.057</td>\n",
       "      <td>2019-09-01 03:21:17.697</td>\n",
       "      <td>18</td>\n",
       "      <td>5</td>\n",
       "      <td>327</td>\n",
       "      <td>5th St at San Salvador St</td>\n",
       "      <td>37.332039</td>\n",
       "      <td>-121.881766</td>\n",
       "      <td>327</td>\n",
       "      <td>5th St at San Salvador St</td>\n",
       "      <td>37.332039</td>\n",
       "      <td>-121.881766</td>\n",
       "      <td>1553</td>\n",
       "      <td>Customer</td>\n",
       "      <td>No</td>\n",
       "      <td>0.000000</td>\n",
       "    </tr>\n",
       "  </tbody>\n",
       "</table>\n",
       "</div>"
      ],
      "text/plain": [
       "   duration_sec  duration_min              start_time                end_time  \\\n",
       "0         68145   1135.750000 2019-08-31 21:27:42.253 2019-09-01 16:23:27.492   \n",
       "1         53216    886.933333 2019-08-31 22:34:17.512 2019-09-01 13:21:13.931   \n",
       "2         53182    886.366667 2019-08-31 22:34:49.942 2019-09-01 13:21:12.457   \n",
       "3         75682   1261.366667 2019-08-31 14:22:02.278 2019-09-01 11:23:24.511   \n",
       "4         30849    514.150000 2019-08-31 18:47:08.057 2019-09-01 03:21:17.697   \n",
       "\n",
       "  time_slot  day_of_week  start_station_id         start_station_name  \\\n",
       "0        21            5               249  Russell St at College Ave   \n",
       "1        22            5               368       Myrtle St at Polk St   \n",
       "2        22            5               368       Myrtle St at Polk St   \n",
       "3        14            5               104          4th St at 16th St   \n",
       "4        18            5               327  5th St at San Salvador St   \n",
       "\n",
       "   start_station_latitude  start_station_longitude  end_station_id  \\\n",
       "0               37.858473              -122.253253             247   \n",
       "1               37.785434              -122.419622              78   \n",
       "2               37.785434              -122.419622              78   \n",
       "3               37.767045              -122.390833             126   \n",
       "4               37.332039              -121.881766             327   \n",
       "\n",
       "            end_station_name  end_station_latitude  end_station_longitude  \\\n",
       "0  Fulton St at Bancroft Way             37.867789            -122.265896   \n",
       "1        Folsom St at 9th St             37.773717            -122.411647   \n",
       "2        Folsom St at 9th St             37.773717            -122.411647   \n",
       "3                Esprit Park             37.761634            -122.390648   \n",
       "4  5th St at San Salvador St             37.332039            -121.881766   \n",
       "\n",
       "   bike_id   user_type bike_share_for_all_trip  distance  \n",
       "0     3112    Customer                      No  1.517270  \n",
       "1     2440    Customer                      No  1.478463  \n",
       "2     9743    Customer                      No  1.478463  \n",
       "3    11418  Subscriber                      No  0.601439  \n",
       "4     1553    Customer                      No  0.000000  "
      ]
     },
     "execution_count": 18,
     "metadata": {},
     "output_type": "execute_result"
    }
   ],
   "source": [
    "#Instantiating the function\n",
    "time_split(df, 'time_slot')"
   ]
  },
  {
   "cell_type": "code",
   "execution_count": 19,
   "metadata": {},
   "outputs": [],
   "source": [
    "#Changing the column to an int data type.\n",
    "df.time_slot = df.time_slot.astype(int)"
   ]
  },
  {
   "cell_type": "code",
   "execution_count": 20,
   "metadata": {},
   "outputs": [],
   "source": [
    "#Using a lambda function to update the column with the time category.\n",
    "col = ['time_slot']\n",
    "for c in col:\n",
    "    df['time_slot'] = df[c].apply(lambda x: 'morning' if x>5 and x<12 else \n",
    "                             'afternoon' if x>11 and x<18 else \n",
    "                             'evening' if x>17 and x<25 else 'late_night')"
   ]
  },
  {
   "cell_type": "markdown",
   "metadata": {},
   "source": [
    "#### Test"
   ]
  },
  {
   "cell_type": "code",
   "execution_count": 21,
   "metadata": {},
   "outputs": [
    {
     "data": {
      "text/html": [
       "<div>\n",
       "<style scoped>\n",
       "    .dataframe tbody tr th:only-of-type {\n",
       "        vertical-align: middle;\n",
       "    }\n",
       "\n",
       "    .dataframe tbody tr th {\n",
       "        vertical-align: top;\n",
       "    }\n",
       "\n",
       "    .dataframe thead th {\n",
       "        text-align: right;\n",
       "    }\n",
       "</style>\n",
       "<table border=\"1\" class=\"dataframe\">\n",
       "  <thead>\n",
       "    <tr style=\"text-align: right;\">\n",
       "      <th></th>\n",
       "      <th>duration_sec</th>\n",
       "      <th>duration_min</th>\n",
       "      <th>start_time</th>\n",
       "      <th>end_time</th>\n",
       "      <th>time_slot</th>\n",
       "      <th>day_of_week</th>\n",
       "      <th>start_station_id</th>\n",
       "      <th>start_station_name</th>\n",
       "      <th>start_station_latitude</th>\n",
       "      <th>start_station_longitude</th>\n",
       "      <th>end_station_id</th>\n",
       "      <th>end_station_name</th>\n",
       "      <th>end_station_latitude</th>\n",
       "      <th>end_station_longitude</th>\n",
       "      <th>bike_id</th>\n",
       "      <th>user_type</th>\n",
       "      <th>bike_share_for_all_trip</th>\n",
       "      <th>distance</th>\n",
       "    </tr>\n",
       "  </thead>\n",
       "  <tbody>\n",
       "    <tr>\n",
       "      <td>0</td>\n",
       "      <td>68145</td>\n",
       "      <td>1135.750000</td>\n",
       "      <td>2019-08-31 21:27:42.253</td>\n",
       "      <td>2019-09-01 16:23:27.492</td>\n",
       "      <td>evening</td>\n",
       "      <td>5</td>\n",
       "      <td>249</td>\n",
       "      <td>Russell St at College Ave</td>\n",
       "      <td>37.858473</td>\n",
       "      <td>-122.253253</td>\n",
       "      <td>247</td>\n",
       "      <td>Fulton St at Bancroft Way</td>\n",
       "      <td>37.867789</td>\n",
       "      <td>-122.265896</td>\n",
       "      <td>3112</td>\n",
       "      <td>Customer</td>\n",
       "      <td>No</td>\n",
       "      <td>1.517270</td>\n",
       "    </tr>\n",
       "    <tr>\n",
       "      <td>1</td>\n",
       "      <td>53216</td>\n",
       "      <td>886.933333</td>\n",
       "      <td>2019-08-31 22:34:17.512</td>\n",
       "      <td>2019-09-01 13:21:13.931</td>\n",
       "      <td>evening</td>\n",
       "      <td>5</td>\n",
       "      <td>368</td>\n",
       "      <td>Myrtle St at Polk St</td>\n",
       "      <td>37.785434</td>\n",
       "      <td>-122.419622</td>\n",
       "      <td>78</td>\n",
       "      <td>Folsom St at 9th St</td>\n",
       "      <td>37.773717</td>\n",
       "      <td>-122.411647</td>\n",
       "      <td>2440</td>\n",
       "      <td>Customer</td>\n",
       "      <td>No</td>\n",
       "      <td>1.478463</td>\n",
       "    </tr>\n",
       "    <tr>\n",
       "      <td>2</td>\n",
       "      <td>53182</td>\n",
       "      <td>886.366667</td>\n",
       "      <td>2019-08-31 22:34:49.942</td>\n",
       "      <td>2019-09-01 13:21:12.457</td>\n",
       "      <td>evening</td>\n",
       "      <td>5</td>\n",
       "      <td>368</td>\n",
       "      <td>Myrtle St at Polk St</td>\n",
       "      <td>37.785434</td>\n",
       "      <td>-122.419622</td>\n",
       "      <td>78</td>\n",
       "      <td>Folsom St at 9th St</td>\n",
       "      <td>37.773717</td>\n",
       "      <td>-122.411647</td>\n",
       "      <td>9743</td>\n",
       "      <td>Customer</td>\n",
       "      <td>No</td>\n",
       "      <td>1.478463</td>\n",
       "    </tr>\n",
       "    <tr>\n",
       "      <td>3</td>\n",
       "      <td>75682</td>\n",
       "      <td>1261.366667</td>\n",
       "      <td>2019-08-31 14:22:02.278</td>\n",
       "      <td>2019-09-01 11:23:24.511</td>\n",
       "      <td>afternoon</td>\n",
       "      <td>5</td>\n",
       "      <td>104</td>\n",
       "      <td>4th St at 16th St</td>\n",
       "      <td>37.767045</td>\n",
       "      <td>-122.390833</td>\n",
       "      <td>126</td>\n",
       "      <td>Esprit Park</td>\n",
       "      <td>37.761634</td>\n",
       "      <td>-122.390648</td>\n",
       "      <td>11418</td>\n",
       "      <td>Subscriber</td>\n",
       "      <td>No</td>\n",
       "      <td>0.601439</td>\n",
       "    </tr>\n",
       "    <tr>\n",
       "      <td>4</td>\n",
       "      <td>30849</td>\n",
       "      <td>514.150000</td>\n",
       "      <td>2019-08-31 18:47:08.057</td>\n",
       "      <td>2019-09-01 03:21:17.697</td>\n",
       "      <td>evening</td>\n",
       "      <td>5</td>\n",
       "      <td>327</td>\n",
       "      <td>5th St at San Salvador St</td>\n",
       "      <td>37.332039</td>\n",
       "      <td>-121.881766</td>\n",
       "      <td>327</td>\n",
       "      <td>5th St at San Salvador St</td>\n",
       "      <td>37.332039</td>\n",
       "      <td>-121.881766</td>\n",
       "      <td>1553</td>\n",
       "      <td>Customer</td>\n",
       "      <td>No</td>\n",
       "      <td>0.000000</td>\n",
       "    </tr>\n",
       "    <tr>\n",
       "      <td>5</td>\n",
       "      <td>17193</td>\n",
       "      <td>286.550000</td>\n",
       "      <td>2019-08-31 20:52:40.744</td>\n",
       "      <td>2019-09-01 01:39:14.592</td>\n",
       "      <td>evening</td>\n",
       "      <td>5</td>\n",
       "      <td>49</td>\n",
       "      <td>S Park St at 3rd St</td>\n",
       "      <td>37.780760</td>\n",
       "      <td>-122.394989</td>\n",
       "      <td>3</td>\n",
       "      <td>Powell St BART Station (Market St at 4th St)</td>\n",
       "      <td>37.786375</td>\n",
       "      <td>-122.404904</td>\n",
       "      <td>3503</td>\n",
       "      <td>Customer</td>\n",
       "      <td>No</td>\n",
       "      <td>1.071275</td>\n",
       "    </tr>\n",
       "    <tr>\n",
       "      <td>6</td>\n",
       "      <td>8959</td>\n",
       "      <td>149.316667</td>\n",
       "      <td>2019-08-31 22:44:38.213</td>\n",
       "      <td>2019-09-01 01:13:57.248</td>\n",
       "      <td>evening</td>\n",
       "      <td>5</td>\n",
       "      <td>323</td>\n",
       "      <td>Broadway at Kearny</td>\n",
       "      <td>37.798014</td>\n",
       "      <td>-122.405950</td>\n",
       "      <td>8</td>\n",
       "      <td>The Embarcadero at Vallejo St</td>\n",
       "      <td>37.799953</td>\n",
       "      <td>-122.398525</td>\n",
       "      <td>3028</td>\n",
       "      <td>Customer</td>\n",
       "      <td>No</td>\n",
       "      <td>0.686700</td>\n",
       "    </tr>\n",
       "    <tr>\n",
       "      <td>7</td>\n",
       "      <td>9528</td>\n",
       "      <td>158.800000</td>\n",
       "      <td>2019-08-31 22:04:15.446</td>\n",
       "      <td>2019-09-01 00:43:03.874</td>\n",
       "      <td>evening</td>\n",
       "      <td>5</td>\n",
       "      <td>160</td>\n",
       "      <td>West Oakland BART Station</td>\n",
       "      <td>37.805318</td>\n",
       "      <td>-122.294837</td>\n",
       "      <td>237</td>\n",
       "      <td>Fruitvale BART Station</td>\n",
       "      <td>37.775232</td>\n",
       "      <td>-122.224498</td>\n",
       "      <td>1577</td>\n",
       "      <td>Customer</td>\n",
       "      <td>No</td>\n",
       "      <td>7.023709</td>\n",
       "    </tr>\n",
       "    <tr>\n",
       "      <td>8</td>\n",
       "      <td>9542</td>\n",
       "      <td>159.033333</td>\n",
       "      <td>2019-08-31 22:03:56.506</td>\n",
       "      <td>2019-09-01 00:42:59.328</td>\n",
       "      <td>evening</td>\n",
       "      <td>5</td>\n",
       "      <td>160</td>\n",
       "      <td>West Oakland BART Station</td>\n",
       "      <td>37.805318</td>\n",
       "      <td>-122.294837</td>\n",
       "      <td>237</td>\n",
       "      <td>Fruitvale BART Station</td>\n",
       "      <td>37.775232</td>\n",
       "      <td>-122.224498</td>\n",
       "      <td>2534</td>\n",
       "      <td>Customer</td>\n",
       "      <td>No</td>\n",
       "      <td>7.023709</td>\n",
       "    </tr>\n",
       "    <tr>\n",
       "      <td>9</td>\n",
       "      <td>4121</td>\n",
       "      <td>68.683333</td>\n",
       "      <td>2019-08-31 23:26:05.751</td>\n",
       "      <td>2019-09-01 00:34:46.893</td>\n",
       "      <td>evening</td>\n",
       "      <td>5</td>\n",
       "      <td>5</td>\n",
       "      <td>Powell St BART Station (Market St at 5th St)</td>\n",
       "      <td>37.783899</td>\n",
       "      <td>-122.408445</td>\n",
       "      <td>4</td>\n",
       "      <td>Cyril Magnin St at Ellis St</td>\n",
       "      <td>37.785881</td>\n",
       "      <td>-122.408915</td>\n",
       "      <td>9651</td>\n",
       "      <td>Customer</td>\n",
       "      <td>No</td>\n",
       "      <td>0.224007</td>\n",
       "    </tr>\n",
       "  </tbody>\n",
       "</table>\n",
       "</div>"
      ],
      "text/plain": [
       "   duration_sec  duration_min              start_time                end_time  \\\n",
       "0         68145   1135.750000 2019-08-31 21:27:42.253 2019-09-01 16:23:27.492   \n",
       "1         53216    886.933333 2019-08-31 22:34:17.512 2019-09-01 13:21:13.931   \n",
       "2         53182    886.366667 2019-08-31 22:34:49.942 2019-09-01 13:21:12.457   \n",
       "3         75682   1261.366667 2019-08-31 14:22:02.278 2019-09-01 11:23:24.511   \n",
       "4         30849    514.150000 2019-08-31 18:47:08.057 2019-09-01 03:21:17.697   \n",
       "5         17193    286.550000 2019-08-31 20:52:40.744 2019-09-01 01:39:14.592   \n",
       "6          8959    149.316667 2019-08-31 22:44:38.213 2019-09-01 01:13:57.248   \n",
       "7          9528    158.800000 2019-08-31 22:04:15.446 2019-09-01 00:43:03.874   \n",
       "8          9542    159.033333 2019-08-31 22:03:56.506 2019-09-01 00:42:59.328   \n",
       "9          4121     68.683333 2019-08-31 23:26:05.751 2019-09-01 00:34:46.893   \n",
       "\n",
       "   time_slot  day_of_week  start_station_id  \\\n",
       "0    evening            5               249   \n",
       "1    evening            5               368   \n",
       "2    evening            5               368   \n",
       "3  afternoon            5               104   \n",
       "4    evening            5               327   \n",
       "5    evening            5                49   \n",
       "6    evening            5               323   \n",
       "7    evening            5               160   \n",
       "8    evening            5               160   \n",
       "9    evening            5                 5   \n",
       "\n",
       "                             start_station_name  start_station_latitude  \\\n",
       "0                     Russell St at College Ave               37.858473   \n",
       "1                          Myrtle St at Polk St               37.785434   \n",
       "2                          Myrtle St at Polk St               37.785434   \n",
       "3                             4th St at 16th St               37.767045   \n",
       "4                     5th St at San Salvador St               37.332039   \n",
       "5                           S Park St at 3rd St               37.780760   \n",
       "6                            Broadway at Kearny               37.798014   \n",
       "7                     West Oakland BART Station               37.805318   \n",
       "8                     West Oakland BART Station               37.805318   \n",
       "9  Powell St BART Station (Market St at 5th St)               37.783899   \n",
       "\n",
       "   start_station_longitude  end_station_id  \\\n",
       "0              -122.253253             247   \n",
       "1              -122.419622              78   \n",
       "2              -122.419622              78   \n",
       "3              -122.390833             126   \n",
       "4              -121.881766             327   \n",
       "5              -122.394989               3   \n",
       "6              -122.405950               8   \n",
       "7              -122.294837             237   \n",
       "8              -122.294837             237   \n",
       "9              -122.408445               4   \n",
       "\n",
       "                               end_station_name  end_station_latitude  \\\n",
       "0                     Fulton St at Bancroft Way             37.867789   \n",
       "1                           Folsom St at 9th St             37.773717   \n",
       "2                           Folsom St at 9th St             37.773717   \n",
       "3                                   Esprit Park             37.761634   \n",
       "4                     5th St at San Salvador St             37.332039   \n",
       "5  Powell St BART Station (Market St at 4th St)             37.786375   \n",
       "6                 The Embarcadero at Vallejo St             37.799953   \n",
       "7                        Fruitvale BART Station             37.775232   \n",
       "8                        Fruitvale BART Station             37.775232   \n",
       "9                   Cyril Magnin St at Ellis St             37.785881   \n",
       "\n",
       "   end_station_longitude  bike_id   user_type bike_share_for_all_trip  \\\n",
       "0            -122.265896     3112    Customer                      No   \n",
       "1            -122.411647     2440    Customer                      No   \n",
       "2            -122.411647     9743    Customer                      No   \n",
       "3            -122.390648    11418  Subscriber                      No   \n",
       "4            -121.881766     1553    Customer                      No   \n",
       "5            -122.404904     3503    Customer                      No   \n",
       "6            -122.398525     3028    Customer                      No   \n",
       "7            -122.224498     1577    Customer                      No   \n",
       "8            -122.224498     2534    Customer                      No   \n",
       "9            -122.408915     9651    Customer                      No   \n",
       "\n",
       "   distance  \n",
       "0  1.517270  \n",
       "1  1.478463  \n",
       "2  1.478463  \n",
       "3  0.601439  \n",
       "4  0.000000  \n",
       "5  1.071275  \n",
       "6  0.686700  \n",
       "7  7.023709  \n",
       "8  7.023709  \n",
       "9  0.224007  "
      ]
     },
     "execution_count": 21,
     "metadata": {},
     "output_type": "execute_result"
    }
   ],
   "source": [
    "df.head(10)"
   ]
  },
  {
   "cell_type": "markdown",
   "metadata": {},
   "source": [
    "## Univariate Exploration\n",
    "\n",
    "Now that I have cleaned the data, there are only 5 main features of interest: day_of_week, time_slot, duration_min, user_type and distance.  I will cover each of them in that order here in the univariate exploration.\n",
    "\n",
    "Firstly is day_of_week.  I am interested to see how the rentals are split across the different days."
   ]
  },
  {
   "cell_type": "code",
   "execution_count": 22,
   "metadata": {},
   "outputs": [
    {
     "data": {
      "text/html": [
       "<div>\n",
       "<style scoped>\n",
       "    .dataframe tbody tr th:only-of-type {\n",
       "        vertical-align: middle;\n",
       "    }\n",
       "\n",
       "    .dataframe tbody tr th {\n",
       "        vertical-align: top;\n",
       "    }\n",
       "\n",
       "    .dataframe thead th {\n",
       "        text-align: right;\n",
       "    }\n",
       "</style>\n",
       "<table border=\"1\" class=\"dataframe\">\n",
       "  <thead>\n",
       "    <tr style=\"text-align: right;\">\n",
       "      <th></th>\n",
       "      <th>duration_sec</th>\n",
       "      <th>duration_min</th>\n",
       "      <th>start_time</th>\n",
       "      <th>end_time</th>\n",
       "      <th>time_slot</th>\n",
       "      <th>day_of_week</th>\n",
       "      <th>start_station_id</th>\n",
       "      <th>start_station_name</th>\n",
       "      <th>start_station_latitude</th>\n",
       "      <th>start_station_longitude</th>\n",
       "      <th>end_station_id</th>\n",
       "      <th>end_station_name</th>\n",
       "      <th>end_station_latitude</th>\n",
       "      <th>end_station_longitude</th>\n",
       "      <th>bike_id</th>\n",
       "      <th>user_type</th>\n",
       "      <th>bike_share_for_all_trip</th>\n",
       "      <th>distance</th>\n",
       "    </tr>\n",
       "  </thead>\n",
       "  <tbody>\n",
       "    <tr>\n",
       "      <td>0</td>\n",
       "      <td>68145</td>\n",
       "      <td>1135.75</td>\n",
       "      <td>2019-08-31 21:27:42.253</td>\n",
       "      <td>2019-09-01 16:23:27.492</td>\n",
       "      <td>evening</td>\n",
       "      <td>5</td>\n",
       "      <td>249</td>\n",
       "      <td>Russell St at College Ave</td>\n",
       "      <td>37.858473</td>\n",
       "      <td>-122.253253</td>\n",
       "      <td>247</td>\n",
       "      <td>Fulton St at Bancroft Way</td>\n",
       "      <td>37.867789</td>\n",
       "      <td>-122.265896</td>\n",
       "      <td>3112</td>\n",
       "      <td>Customer</td>\n",
       "      <td>No</td>\n",
       "      <td>1.51727</td>\n",
       "    </tr>\n",
       "  </tbody>\n",
       "</table>\n",
       "</div>"
      ],
      "text/plain": [
       "   duration_sec  duration_min              start_time                end_time  \\\n",
       "0         68145       1135.75 2019-08-31 21:27:42.253 2019-09-01 16:23:27.492   \n",
       "\n",
       "  time_slot  day_of_week  start_station_id         start_station_name  \\\n",
       "0   evening            5               249  Russell St at College Ave   \n",
       "\n",
       "   start_station_latitude  start_station_longitude  end_station_id  \\\n",
       "0               37.858473              -122.253253             247   \n",
       "\n",
       "            end_station_name  end_station_latitude  end_station_longitude  \\\n",
       "0  Fulton St at Bancroft Way             37.867789            -122.265896   \n",
       "\n",
       "   bike_id user_type bike_share_for_all_trip  distance  \n",
       "0     3112  Customer                      No   1.51727  "
      ]
     },
     "execution_count": 22,
     "metadata": {},
     "output_type": "execute_result"
    }
   ],
   "source": [
    "df.head(1)"
   ]
  },
  {
   "cell_type": "code",
   "execution_count": 23,
   "metadata": {},
   "outputs": [],
   "source": [
    "#Grouping the rentals for ease of visualizing.  \n",
    "#With count all of the columns are the same, so user_type was randomly chosen.\n",
    "rentals_per_day = df.groupby('day_of_week').user_type.count()"
   ]
  },
  {
   "cell_type": "code",
   "execution_count": 24,
   "metadata": {},
   "outputs": [
    {
     "data": {
      "image/png": "[encoded data removed]",
      "text/plain": [
       "<Figure size 432x288 with 1 Axes>"
      ]
     },
     "metadata": {
      "needs_background": "light"
     },
     "output_type": "display_data"
    }
   ],
   "source": [
    "#As day of the week is qualitative a bar chart is used.\n",
    "\n",
    "#Xtick labels added for clarity.\n",
    "days = ['Mon', ' Tues', 'Wed', 'Thur', 'Fri', 'Sat', 'Sun']\n",
    "\n",
    "rentals_by_day = df.day_of_week.value_counts()\n",
    "plt.bar(days, rentals_per_day)\n",
    "plt.title('Monthly rental totals by day of week\\n')\n",
    "plt.ylabel('Rentals per day')\n",
    "plt.xlabel('Day of the week')\n",
    "plt.xticks(days);"
   ]
  },
  {
   "cell_type": "markdown",
   "metadata": {},
   "source": [
    "The bar chart shows the day with the most rentals being Thursday followed by Friday.  Whereas, the weekend is the opposite, with both Saturday and Sunday seeing approximately half the rides that were seen on Thursday.\n",
    "\n",
    "Moving on I now look at the time_slot to see how rides are spread throughout the day based on if it is morning, afternoon, evening or late night. "
   ]
  },
  {
   "cell_type": "code",
   "execution_count": 25,
   "metadata": {},
   "outputs": [
    {
     "ename": "NameError",
     "evalue": "name 'base_color' is not defined",
     "output_type": "error",
     "traceback": [
      "\u001b[0;31m---------------------------------------------------------------------------\u001b[0m",
      "\u001b[0;31mNameError\u001b[0m                                 Traceback (most recent call last)",
      "\u001b[0;32m<ipython-input-25-f9c900c155f5>\u001b[0m in \u001b[0;36m<module>\u001b[0;34m\u001b[0m\n\u001b[1;32m      3\u001b[0m \u001b[0;34m\u001b[0m\u001b[0m\n\u001b[1;32m      4\u001b[0m \u001b[0mtime_cat\u001b[0m \u001b[0;34m=\u001b[0m \u001b[0mdf\u001b[0m\u001b[0;34m.\u001b[0m\u001b[0mtime_slot\u001b[0m\u001b[0;34m.\u001b[0m\u001b[0mvalue_counts\u001b[0m\u001b[0;34m(\u001b[0m\u001b[0;34m)\u001b[0m\u001b[0;34m.\u001b[0m\u001b[0mindex\u001b[0m\u001b[0;34m\u001b[0m\u001b[0;34m\u001b[0m\u001b[0m\n\u001b[0;32m----> 5\u001b[0;31m \u001b[0msb\u001b[0m\u001b[0;34m.\u001b[0m\u001b[0mcountplot\u001b[0m\u001b[0;34m(\u001b[0m\u001b[0mdata\u001b[0m \u001b[0;34m=\u001b[0m \u001b[0mdf\u001b[0m\u001b[0;34m,\u001b[0m \u001b[0mx\u001b[0m \u001b[0;34m=\u001b[0m \u001b[0;34m'time_slot'\u001b[0m\u001b[0;34m,\u001b[0m \u001b[0mcolor\u001b[0m \u001b[0;34m=\u001b[0m \u001b[0mbase_color\u001b[0m\u001b[0;34m)\u001b[0m\u001b[0;34m\u001b[0m\u001b[0;34m\u001b[0m\u001b[0m\n\u001b[0m\u001b[1;32m      6\u001b[0m \u001b[0mplt\u001b[0m\u001b[0;34m.\u001b[0m\u001b[0mtitle\u001b[0m\u001b[0;34m(\u001b[0m\u001b[0;34m'Monthly Totals by Time Category\\n'\u001b[0m\u001b[0;34m)\u001b[0m\u001b[0;34m\u001b[0m\u001b[0;34m\u001b[0m\u001b[0m\n\u001b[1;32m      7\u001b[0m \u001b[0mplt\u001b[0m\u001b[0;34m.\u001b[0m\u001b[0mylabel\u001b[0m\u001b[0;34m(\u001b[0m\u001b[0;34m'Total Rentals'\u001b[0m\u001b[0;34m)\u001b[0m\u001b[0;34m\u001b[0m\u001b[0;34m\u001b[0m\u001b[0m\n",
      "\u001b[0;31mNameError\u001b[0m: name 'base_color' is not defined"
     ]
    }
   ],
   "source": [
    "#Bar chart for the 4 time categories\n",
    "df.time_slot= pd.Categorical(df.time_slot, categories=['morning', 'afternoon', 'evening', 'late_night' ], ordered=True)\n",
    "\n",
    "time_cat = df.time_slot.value_counts().index\n",
    "sb.countplot(data = df, x = 'time_slot', color = base_color)\n",
    "plt.title('Monthly Totals by Time Category\\n')\n",
    "plt.ylabel('Total Rentals')\n",
    "plt.xlabel('Time Category');"
   ]
  },
  {
   "cell_type": "markdown",
   "metadata": {},
   "source": [
    "According the above bar chart, the time periods of the morning and afternoon are the busiest.  This translates to the time period between 6am and 5pm.\n",
    "\n",
    "I now want to look at the average duration of a trip, firstly by looking at the statistics and then creating visuals.  As the duration is a continuous quantitative variable it makes sense to use a histogram."
   ]
  },
  {
   "cell_type": "code",
   "execution_count": null,
   "metadata": {},
   "outputs": [],
   "source": [
    "#Looking at the statistics of the duration in minutes variable we see that the spread is wide due to outliers above\n",
    "#the 75% quartile.\n",
    "df.duration_min.describe()"
   ]
  },
  {
   "cell_type": "code",
   "execution_count": null,
   "metadata": {},
   "outputs": [],
   "source": [
    "#Plotting a basic histogram provides very little detail with the majority of the data lumped into the first bin.\n",
    "plt.hist(df.duration_min)\n",
    "plt.title('Number of rentals\\n')\n",
    "plt.xlabel('Rental duration (minutes)')\n",
    "plt.ylabel('Duration of rentals');"
   ]
  },
  {
   "cell_type": "code",
   "execution_count": null,
   "metadata": {},
   "outputs": [],
   "source": [
    "#By increasing the number of bins and setting an xlim() more detail comes to light.\n",
    "plt.hist(df.duration_min, bins = 2000)\n",
    "plt.xlim(0,60)\n",
    "plt.title('Number of rentals\\n')\n",
    "plt.xlabel('Rental duration (minutes)')\n",
    "plt.ylabel('Duration of rentals');"
   ]
  },
  {
   "cell_type": "code",
   "execution_count": null,
   "metadata": {},
   "outputs": [],
   "source": [
    "#As this is a continuous variable, right skewed and has a long tail, I do a log transformation to explore for further.\n",
    "step = .025\n",
    "bins = 10 ** np.arange(0, np.log10(df.duration_min.max())+step, step)\n",
    "\n",
    "plt.figure(figsize=[8, 5])\n",
    "plt.hist(data = df, x = 'duration_min', bins = bins)\n",
    "plt.xscale('log')\n",
    "\n",
    "plt.title('Duration Distribution\\n')\n",
    "plt.xlabel('Rental duration (minutes) (log)')\n",
    "plt.ylabel('Duration of rentals')\n",
    "\n",
    "\n",
    "plt.xticks([1,10e0, 10e1, 10e2], ['1', '10', '100', '1000'])\n",
    "plt.show();"
   ]
  },
  {
   "cell_type": "markdown",
   "metadata": {},
   "source": [
    "The duration of rentals has a wide spread from 1 minute to 1,424 minutes.  As seen in the first chart, these outliers make a standard histogram result with minimal meaning.  Implementing xlim() and, alternatively, looking at the logarithmic transformation I clearly see that the ride durations are distributed around 10 minutes which compares nicely to the mean of 9.8.\n",
    "\n"
   ]
  },
  {
   "cell_type": "markdown",
   "metadata": {},
   "source": [
    "Moving on to distance, I am trying to understand the distribution.  What is the mean?  And what does the spread look like?"
   ]
  },
  {
   "cell_type": "code",
   "execution_count": null,
   "metadata": {},
   "outputs": [],
   "source": [
    "#The average distance is not far, only 1.6 kilometers.\n",
    "df.distance.mean()"
   ]
  },
  {
   "cell_type": "code",
   "execution_count": null,
   "metadata": {},
   "outputs": [],
   "source": [
    "#Using a histogram.  It shows a distribution also around the 1.6k distance.\n",
    "plt.hist(data = df, x = 'distance', bins = 200)\n",
    "plt.title('Distance Distribution')\n",
    "plt.xlabel('Distance (km)')\n",
    "plt.ylabel('Number of Rentals')\n",
    "plt.xlim(0,10);"
   ]
  },
  {
   "cell_type": "markdown",
   "metadata": {},
   "source": [
    "The distance distribution shows that the users do not travel very far.  Due to outliers, I utilised a xlim() to zoom in on the main data and see that the majority of data falls under 4km.\n",
    "\n",
    "Lastly is the user. I first want to look at the split between the two user groups, doing so in an absolute and relative approach."
   ]
  },
  {
   "cell_type": "code",
   "execution_count": null,
   "metadata": {},
   "outputs": [],
   "source": [
    "#Looking at the value counts it is quickly apparent that the users are mostly subscribers.\n",
    "df.user_type.value_counts()"
   ]
  },
  {
   "cell_type": "code",
   "execution_count": null,
   "metadata": {},
   "outputs": [],
   "source": [
    "#Plotting a bar chart as this variable is categorical.  We visually see the different in absolute user numbers\n",
    "users = df.user_type.value_counts()\n",
    "plt.bar(users.index, users )\n",
    "plt.title('Total users')\n",
    "plt.ylabel('Count')\n",
    "plt.xlabel('Users by Category');"
   ]
  },
  {
   "cell_type": "code",
   "execution_count": null,
   "metadata": {},
   "outputs": [],
   "source": [
    "#Calculating proportions to use for visualization in a pie chart.\n",
    "sub_prop = df.query('user_type == \"Subscriber\"').user_type.count()/df.shape[0]\n",
    "cust_prop = df.query('user_type == \"Customer\"').user_type.count()/df.shape[0]\n",
    "sub_prop, cust_prop"
   ]
  },
  {
   "cell_type": "code",
   "execution_count": null,
   "metadata": {},
   "outputs": [],
   "source": [
    "#Creating an array to use for the pie chart data.\n",
    "users = np.array([sub_prop, cust_prop])\n",
    "users"
   ]
  },
  {
   "cell_type": "code",
   "execution_count": null,
   "metadata": {},
   "outputs": [],
   "source": [
    "#Creating the pie chart, adding the percentages for clarity of the difference.\n",
    "plt.pie(users, labels = ['Subscribers', 'Customers'], autopct='%1.f%%')\n",
    "plt.title('Users');"
   ]
  },
  {
   "cell_type": "markdown",
   "metadata": {},
   "source": [
    "The users fall into two cateogries, either subscriber or customers. By firstly looking at the absolute numbers it is obvious there are substantial more subscribers; however, using the proportion in a pie chart makes it much easier to understand the difference.  The pie chart shows us that the subscribers are the bulk user with 78% of the rentals coming from this group.\n",
    "\n",
    "I now create two smaller dataframes so that I can show two countplots together that illustrate the different user patterns based off the day of the week."
   ]
  },
  {
   "cell_type": "code",
   "execution_count": null,
   "metadata": {},
   "outputs": [],
   "source": [
    "#Creating smaller dataframes\n",
    "df_sub = df.query('user_type == \"Subscriber\"')\n",
    "df_cust = df.query('user_type == \"Customer\"')"
   ]
  },
  {
   "cell_type": "code",
   "execution_count": null,
   "metadata": {},
   "outputs": [],
   "source": [
    "#Day of week and customer\n",
    "fig, ax = plt.subplots(nrows=2, figsize = [8,5])\n",
    "\n",
    "base_color = sb.color_palette()[0]\n",
    "sb.countplot(data = df_sub, x = 'day_of_week', color = base_color, ax = ax[0])\n",
    "sb.countplot(data = df_cust, x = 'day_of_week', color = base_color, ax = ax[1] )\n",
    "\n",
    "plt.show()"
   ]
  },
  {
   "cell_type": "markdown",
   "metadata": {},
   "source": [
    "These last two charts show that that the user habits are very different.  The subscribers utilise the bikes mainly during the week with the customers renting more as the weekend approaches."
   ]
  },
  {
   "cell_type": "markdown",
   "metadata": {},
   "source": [
    "### Discuss the distributions of your variables of interest. Were there any unusual points? Did you need to perform any transformations?\n",
    "During the univariate exploration I looked at 5 variables.\n",
    "\n",
    "**Day of Week** - \n",
    "The days of the week were a unimodal distribution with the peak of the distribution being on Thursday.  \n",
    "\n",
    "**Time Slot** - \n",
    "The two busiest times were morning and afternoon (the hours from 6am to 5pm). These time slots looked very similar to one another with a big decrease for evening and late night.\n",
    "\n",
    "**Duration** - \n",
    "The duration distribution was right skewed with a long tail.  As duration is a continuous variable, I performed a logarithmic transformation which resulted in a normal distribution centered around 10 minutes. This corresponded nicely to the data mean of 9.8 minutes.\n",
    "\n",
    "**Distance** -\n",
    "The distance distribution was right skewed and showed that the distance travelled was quite minimun with the mean being 1.6km and the marjority of data being under 4km.\n",
    "\n",
    "**User Type** -\n",
    "The user type was very interesting as it came to light that during the month 78% of the rentals were from subscribers butthe renting habits of the subscribers and customers were opposite.  Whereas the subscribers rent more during the week, the customer rentals increase on the weekend.\n",
    "\n",
    "### Of the features you investigated, were there any unusual distributions? Did you perform any operations on the data to tidy, adjust, or change the form of the data? If so, why did you do this?\n",
    "\n",
    "It was necessary to do some feature engineering as four of the five features needed to firstly be created. For instance, from start_time I was able to derive day_of_week and time_slot.  I created duration_min as this unit of measurement is easier to understand than duration in seconds.  And lastly, the distance was calculated using the longitude and latitude columns."
   ]
  },
  {
   "cell_type": "markdown",
   "metadata": {},
   "source": [
    "## Bivariate Exploration"
   ]
  },
  {
   "cell_type": "markdown",
   "metadata": {},
   "source": [
    "In this next section I dig into the following relationships:\n",
    "- Day and Duration\n",
    "- Day and Time of Day\n",
    "- Type of User and Day\n",
    "- Type of User and Duration \n",
    "- Distance and Duration\n",
    "\n",
    "Firstly is the relationship between day and duration as I am seeking to see how the duration will change over the days, specifically if there is a different on the week days to the weekend. I start by looking at the value counts and the quartiles to understand the spread of the duration data."
   ]
  },
  {
   "cell_type": "code",
   "execution_count": null,
   "metadata": {},
   "outputs": [],
   "source": [
    "#Duration value counts\n",
    "df.duration_min.value_counts()"
   ]
  },
  {
   "cell_type": "code",
   "execution_count": null,
   "metadata": {},
   "outputs": [],
   "source": [
    "#We see that 98% of the data is within a 45 minute duration.\n",
    "df.duration_min.quantile(q = .98)"
   ]
  },
  {
   "cell_type": "code",
   "execution_count": null,
   "metadata": {},
   "outputs": [],
   "source": [
    "#Day of the week value counts\n",
    "df.day_of_week.value_counts()"
   ]
  },
  {
   "cell_type": "code",
   "execution_count": null,
   "metadata": {},
   "outputs": [],
   "source": [
    "#98% of the data falls within 45 minutes or less. Create a smaller dataframe to omit outliers. \n",
    "df_no_outliers = df.query('duration_min < 46')"
   ]
  },
  {
   "cell_type": "code",
   "execution_count": null,
   "metadata": {},
   "outputs": [],
   "source": [
    "#The box plot is chosen as I am analyzing a quantitative variable (duration) versus a qualitative variable\n",
    "#(day of the week). \n",
    "plt.figure(figsize=[8, 5])\n",
    "base_color = sb.color_palette()[0]\n",
    "sb.boxplot(data = df_no_outliers, x = 'day_of_week', y = 'duration_min', color = base_color)\n",
    "plt.title('Rental Duration by Day')\n",
    "plt.ylabel('Rental duration (mins)')\n",
    "plt.xlabel('Day of week')\n",
    "plt.xticks([0,1,2,3,4,5,6], ['Mon', 'Tues', 'Wed', 'Thurs', 'Fri', 'Sat', 'Sun']);"
   ]
  },
  {
   "cell_type": "markdown",
   "metadata": {},
   "source": [
    "The boxplot interestingly shows two distinct clusters as the week days are almost identical to each other and the weekend days are almost identical to each other.  The rental duration average is longer on the weekend, but by only a few minutes.\n",
    "\n",
    "So now I look at how the rentals occur each day in comparison to the time slot."
   ]
  },
  {
   "cell_type": "code",
   "execution_count": null,
   "metadata": {},
   "outputs": [],
   "source": [
    "#Day and Time of Day\n",
    "plt.figure(figsize=[8, 5])\n",
    "\n",
    "sb.countplot(data = df, x = 'day_of_week', hue = 'time_slot', color = base_color);\n",
    "plt.xlabel('Day of week')\n",
    "plt.ylabel('Number of rentals')\n",
    "plt.title('Rentals by Day and Time Period')\n",
    "plt.xticks([0,1,2,3,4,5,6], ['Mon', 'Tues', 'Wed', 'Thurs', 'Fri', 'Sat', 'Sun']);"
   ]
  },
  {
   "cell_type": "markdown",
   "metadata": {},
   "source": [
    "This chart builds nicely upon a few of the univariate charts.  In the univariate chart for day of the week we saw an unimodal distribution with Thursday at the peak. In the univariate chart for time of day, the morning and afternoon looked equal and were the most popular times.  But now that we are looking at the two variables together a lot more detail comes to light.  During the week days morning is definitely the busiest.  On the weekend, mornings drop off and afternoon rentals increase.  This chart no longer makes the two time slots look equal, rather showing how the time slots shift from weekday versus weekend.\n",
    "\n",
    "Before exploring how the users fit into all this, let's look at the day and the distance.  I am wondering if longer rides occur on the weekdays or how they distance compares considering the weekend duration mean increased only by a few minutes."
   ]
  },
  {
   "cell_type": "code",
   "execution_count": null,
   "metadata": {},
   "outputs": [],
   "source": [
    "#Looking at the tail to see the biggest distances.  There appears to be one outlier of 67 kilometers.\n",
    "df.sort_values(by='distance').tail()"
   ]
  },
  {
   "cell_type": "code",
   "execution_count": null,
   "metadata": {},
   "outputs": [],
   "source": [
    "#Using a scatter plot we see this one outlier\n",
    "plt.scatter(data = df, x = 'duration_min', y = 'distance', alpha = .2)\n",
    "plt.title('Duration vs Distance')\n",
    "plt.ylabel('Distance (km)')\n",
    "plt.xlabel('Duration (minutes)')\n",
    "plt.show()"
   ]
  },
  {
   "cell_type": "markdown",
   "metadata": {},
   "source": [
    "This chart has a lot of noise and doesn't provide much insight.  Therefore, I apply the ylim() and xlim() to zoom in."
   ]
  },
  {
   "cell_type": "code",
   "execution_count": null,
   "metadata": {},
   "outputs": [],
   "source": [
    "plt.scatter(data = df, x = 'duration_min', y = 'distance', alpha = .2)\n",
    "plt.title('Duration vs Distnce')\n",
    "plt.ylabel('Distance travelled (km)')\n",
    "plt.xlabel('Duration (minutes)')\n",
    "plt.ylim(0,10)\n",
    "plt.xlim(0,200);"
   ]
  },
  {
   "cell_type": "markdown",
   "metadata": {},
   "source": [
    "This chart is substantially more interesting as it shows the bulk of the rides are 60 minutes or less with the usual duration being below 8km.  We see that for shorter periods of time, people often travel further than users do for the long duration rentals.\n",
    "\n",
    "What is difficult to see in this chart is the distance mean of 1.6k.  However, one can see that there are many dots at the 0km distance.  This is a bit misleading as what this distance calculates is actually the distance between start and end station.  For the individuals who rented and returned at the same station, this calculates as a distance of 0km.\n",
    "\n",
    "But what happens if we pull the 0 distance numbers out?  How would this change the mean?"
   ]
  },
  {
   "cell_type": "code",
   "execution_count": null,
   "metadata": {},
   "outputs": [],
   "source": [
    "df.distance.describe()"
   ]
  },
  {
   "cell_type": "code",
   "execution_count": null,
   "metadata": {},
   "outputs": [],
   "source": [
    "df_no_zero = df.query('distance >0.000000')\n",
    "df_no_zero"
   ]
  },
  {
   "cell_type": "code",
   "execution_count": null,
   "metadata": {},
   "outputs": [],
   "source": [
    "df_no_zero.distance.mean()"
   ]
  },
  {
   "cell_type": "markdown",
   "metadata": {},
   "source": [
    "Using a dataframe with the distance of 0km removed omits approximately 5000 entries.  The mean is affected but not signficantly.  Instead of a mean of 1.67km it is rather 1.72."
   ]
  },
  {
   "cell_type": "markdown",
   "metadata": {},
   "source": [
    "And now we look at the main feature of customer.  How does the type of user change with the day of the week?  And what is the relationship between customer and duration?"
   ]
  },
  {
   "cell_type": "code",
   "execution_count": null,
   "metadata": {},
   "outputs": [],
   "source": [
    "#Users and Day of Week\n",
    "plt.figure(figsize=[8, 5])\n",
    "base_color = sb.color_palette()[0]\n",
    "sb.countplot(data = df, x = 'day_of_week', hue = 'user_type', color = base_color);\n",
    "plt.xlabel('Day of week')\n",
    "plt.ylabel('Number of rentals')\n",
    "plt.title('User Type by Day')\n",
    "plt.legend(['Customer','Subscriber'])\n",
    "plt.xticks([0,1,2,3,4,5,6], ['Mon', 'Tues', 'Wed', 'Thurs', 'Fri', 'Sat', 'Sun']);"
   ]
  },
  {
   "cell_type": "markdown",
   "metadata": {},
   "source": [
    "This visualization mirrors what we saw in the countplots in the univariate section but combines the data.  Once again we see subscriber use drops significantly on the weekend while the customer use increases to its highest point on Saturday.\n",
    "\n",
    "For users to duration, I choose to plot both a blox plot and a violin plot."
   ]
  },
  {
   "cell_type": "code",
   "execution_count": null,
   "metadata": {},
   "outputs": [],
   "source": [
    "#Using a box plt\n",
    "sb.boxplot(data = df_no_outliers, x = 'user_type', y = 'duration_min', color = base_color)\n",
    "plt.xlabel('Type of user')\n",
    "plt.ylabel('Rental duration (mins)')\n",
    "plt.title('Rental Duration by User');"
   ]
  },
  {
   "cell_type": "markdown",
   "metadata": {},
   "source": [
    "The box plot is informative and shows us that customers rent for a longer period of time.  However, to understand the distribution we look at a violin plot."
   ]
  },
  {
   "cell_type": "code",
   "execution_count": null,
   "metadata": {},
   "outputs": [],
   "source": [
    "sb.violinplot(data = df_no_outliers, x = 'user_type', y = 'duration_min', color = base_color)\n",
    "plt.xlabel('Type of user')\n",
    "plt.ylabel('Rental duration (mins)')\n",
    "plt.title('Rental Duration by User');"
   ]
  },
  {
   "cell_type": "markdown",
   "metadata": {},
   "source": [
    "I really like seeing the distribution on the violin chart as it clearly shows the sharp distribution of the subscribers compared the more gradual distribution of the customers.  The two types definitely have different rental habits in terms of day, time, and duration.  \n",
    "\n",
    "Reflecting back on the pie chart in the univariate section, we recall that subscribers made up 78% of the user base. When looking at the distrubtion we see that the majority of these trips are around 5 minutes in duration.  "
   ]
  },
  {
   "cell_type": "markdown",
   "metadata": {},
   "source": [
    "### Talk about some of the relationships you observed in this part of the investigation. How did the features of interest vary with other features in the dataset?\n",
    "\n",
    "The bivariate charts built upon the univariate charts nicely, however, brought out some additional insight that was impossible to grasp before.  My favorite two charts were the boxplot showing the rental duration per day of the week and the voilin chart showing user and duration.  The box chart was fascinating as the days seemed to make two very clear cluster: weekdays and weekends.  The violin chart showed how the subscribers utilized the bikes for a short duration.  Though there was a tail on the distribution, the peak was steep.\n",
    "\n",
    "### Did you observe any interesting relationships between the other features (not the main feature(s) of interest)?\n",
    "\n",
    "No. I focused on the main features as there was quite a lot to explore."
   ]
  },
  {
   "cell_type": "markdown",
   "metadata": {},
   "source": [
    "## Multivariate Exploration\n",
    "\n",
    "Now that we are at the multivariate exploration I want to re-circle on the quest of the analysis.  What relationships exist between the type of customers and the features of duration, day of the week and time slot?  We can answer this with two charts."
   ]
  },
  {
   "cell_type": "code",
   "execution_count": null,
   "metadata": {},
   "outputs": [],
   "source": [
    "#Original df\n",
    "g = sb.FacetGrid(data = df, hue = 'user_type', height = 5)\n",
    "g.map(plt.scatter,'duration_min', 'distance')\n",
    "plt.ylim(0,10)\n",
    "plt.xlim(0,200)\n",
    "plt.title('Distance to Duration by Customer Type')\n",
    "plt.ylabel('Distance (km)')\n",
    "plt.xlabel('Duration (minutes)')\n",
    "g.add_legend(title = None);"
   ]
  },
  {
   "cell_type": "code",
   "execution_count": null,
   "metadata": {},
   "outputs": [],
   "source": [
    "g = sb.FacetGrid(data = df, hue = 'user_type', height = 5)\n",
    "g.map(sb.stripplot,'day_of_week', 'duration_min', dodge = True)\n",
    "plt.ylim(0,300)\n",
    "plt.title('Day and Duration by User Type')\n",
    "plt.ylabel('Duration (min)')\n",
    "plt.xlabel('Day of Week')\n",
    "plt.xticks([0,1,2,3,4,5,6], ['Mon', 'Tues', 'Wed', 'Thurs', 'Fri', 'Sat', 'Sun'])\n",
    "g.add_legend(title = '');"
   ]
  },
  {
   "cell_type": "markdown",
   "metadata": {},
   "source": [
    "Corresponding to many of the visualizations seen previously, we see that the habits of the different users are very different and that FordGoBike has two distinctly different consumer bases.  The subscribers use the bikes possibly for communiting as the trips are mainly during the week days, are short in duration and in distance with a big dropoff in use during the weekend.  The consumer rental interest peaks from Friday onwards and even though the distance travelled isn't far they will use the rental for a longer duration.  "
   ]
  },
  {
   "cell_type": "markdown",
   "metadata": {},
   "source": [
    "### Talk about some of the relationships you observed in this part of the investigation. Were there features that strengthened each other in terms of looking at your feature(s) of interest?\n",
    "\n",
    "The relationships between the features of interest became strong and stronger as the analysis continued.\n",
    "\n",
    "### Were there any interesting or surprising interactions between features?\n",
    "\n",
    "I didn't expect the two user groups to be so distinctly different which became clearer and clearer as more variables were introduced."
   ]
  }
 ],
 "metadata": {
  "kernelspec": {
   "display_name": "Python 3",
   "language": "python",
   "name": "python3"
  },
  "language_info": {
   "codemirror_mode": {
    "name": "ipython",
    "version": 3
   },
   "file_extension": ".py",
   "mimetype": "text/x-python",
   "name": "python",
   "nbconvert_exporter": "python",
   "pygments_lexer": "ipython3",
   "version": "3.7.4"
  }
 },
 "nbformat": 4,
 "nbformat_minor": 2
}
